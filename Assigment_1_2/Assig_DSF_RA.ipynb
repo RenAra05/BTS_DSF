{
  "nbformat": 4,
  "nbformat_minor": 0,
  "metadata": {
    "colab": {
      "name": "Assig_DSF_RA.ipynb",
      "provenance": [],
      "collapsed_sections": [],
      "toc_visible": true
    },
    "kernelspec": {
      "name": "python3",
      "display_name": "Python 3"
    }
  },
  "cells": [
    {
      "cell_type": "markdown",
      "metadata": {
        "id": "_a2hajcA99-K"
      },
      "source": [
        "![BTS](https://github.com/vfp1/bts-dsf-2020/blob/main/Logo-BTS.jpg?raw=1)\n",
        "\n",
        "# Session 1 and Session 2: Assignements\n",
        "\n",
        "### Victor F. Pajuelo Madrigal <victor.pajuelo@bts.tech> - Data Science Foundations (S1 - S2)\n",
        "\n",
        "Open this notebook in Google Colaboratory: [![Open in Colab](https://colab.research.google.com/assets/colab-badge.svg)](https://colab.research.google.com/github/vfp1/bts-dsf-2020/blob/main/exercises/Session_1_2_EXERCISES.ipynb)"
      ]
    },
    {
      "cell_type": "markdown",
      "metadata": {
        "id": "byRLEOBP1pet"
      },
      "source": [
        "## Exercise 1: CSV\n",
        "\n",
        "Analize the data of the JetBrains 2017 Python survey https://www.jetbrains.com/research/python-developers-survey-2017/\n",
        "\n",
        "1. Download raw data from http://jb.gg/pythondevsurvey2017raw\n",
        "2. Read it in pandas\n",
        "3. Reproduce \"What do you use Python for the most? (single answer)\" chart\n",
        "4. Reproduce \"What do you use Python for? (multiple answers)\" chart"
      ]
    },
    {
      "cell_type": "code",
      "metadata": {
        "id": "oBnQwY1c1peu"
      },
      "source": [
        "import pandas as pd\n",
        "import numpy as np\n",
        "import matplotlib.pyplot as plt\n",
        "import plotly.express as px"
      ],
      "execution_count": null,
      "outputs": []
    },
    {
      "cell_type": "code",
      "metadata": {
        "id": "2vSmCLZwcM8s"
      },
      "source": [
        "df_py = pd.read_csv(\"/content/pythondevsurvey2017_raw_data.csv\")"
      ],
      "execution_count": null,
      "outputs": []
    },
    {
      "cell_type": "markdown",
      "metadata": {
        "id": "HJzSC6W4pSP3"
      },
      "source": [
        "\n",
        "##2. Read it in pandas\n"
      ]
    },
    {
      "cell_type": "code",
      "metadata": {
        "id": "jkYWoIxYpXbx",
        "outputId": "37d88695-d5a0-4e89-e88a-f8c54fa7f565",
        "colab": {
          "base_uri": "https://localhost:8080/",
          "height": 780
        }
      },
      "source": [
        "df_py.head()"
      ],
      "execution_count": null,
      "outputs": [
        {
          "output_type": "execute_result",
          "data": {
            "text/html": [
              "<div>\n",
              "<style scoped>\n",
              "    .dataframe tbody tr th:only-of-type {\n",
              "        vertical-align: middle;\n",
              "    }\n",
              "\n",
              "    .dataframe tbody tr th {\n",
              "        vertical-align: top;\n",
              "    }\n",
              "\n",
              "    .dataframe thead th {\n",
              "        text-align: right;\n",
              "    }\n",
              "</style>\n",
              "<table border=\"1\" class=\"dataframe\">\n",
              "  <thead>\n",
              "    <tr style=\"text-align: right;\">\n",
              "      <th></th>\n",
              "      <th>Is Python the main language you use for your current projects?</th>\n",
              "      <th>None:What other language(s) do you use?</th>\n",
              "      <th>Java:What other language(s) do you use?</th>\n",
              "      <th>JavaScript:What other language(s) do you use?</th>\n",
              "      <th>C/C++:What other language(s) do you use?</th>\n",
              "      <th>PHP:What other language(s) do you use?</th>\n",
              "      <th>C#:What other language(s) do you use?</th>\n",
              "      <th>Ruby:What other language(s) do you use?</th>\n",
              "      <th>Bash / Shell:What other language(s) do you use?</th>\n",
              "      <th>Objective-C:What other language(s) do you use?</th>\n",
              "      <th>Go:What other language(s) do you use?</th>\n",
              "      <th>Visual Basic:What other language(s) do you use?</th>\n",
              "      <th>Scala:What other language(s) do you use?</th>\n",
              "      <th>SQL:What other language(s) do you use?</th>\n",
              "      <th>Kotlin:What other language(s) do you use?</th>\n",
              "      <th>R:What other language(s) do you use?</th>\n",
              "      <th>Swift:What other language(s) do you use?</th>\n",
              "      <th>Clojure:What other language(s) do you use?</th>\n",
              "      <th>Perl:What other language(s) do you use?</th>\n",
              "      <th>Rust:What other language(s) do you use?</th>\n",
              "      <th>Groovy:What other language(s) do you use?</th>\n",
              "      <th>TypeScript:What other language(s) do you use?</th>\n",
              "      <th>CoffeeScript:What other language(s) do you use?</th>\n",
              "      <th>HTML/CSS:What other language(s) do you use?</th>\n",
              "      <th>Other - Write In::What other language(s) do you use?</th>\n",
              "      <th>Educational purposes: What do you use Python for?</th>\n",
              "      <th>Data analysis: What do you use Python for?</th>\n",
              "      <th>DevOps / System administration / Writing automation scripts: What do you use Python for?</th>\n",
              "      <th>Software testing / Writing automated tests: What do you use Python for?</th>\n",
              "      <th>Software prototyping: What do you use Python for?</th>\n",
              "      <th>Web development: What do you use Python for?</th>\n",
              "      <th>Machine learning: What do you use Python for?</th>\n",
              "      <th>Mobile development: What do you use Python for?</th>\n",
              "      <th>Desktop development: What do you use Python for?</th>\n",
              "      <th>Computer graphics: What do you use Python for?</th>\n",
              "      <th>Network programming: What do you use Python for?</th>\n",
              "      <th>Game development: What do you use Python for?</th>\n",
              "      <th>Multimedia applications development: What do you use Python for?</th>\n",
              "      <th>Embedded development: What do you use Python for?</th>\n",
              "      <th>Programming of web parsers / scrapers / crawlers: What do you use Python for?</th>\n",
              "      <th>...</th>\n",
              "      <th>refactor your code:When developing in Python, how often do you…?</th>\n",
              "      <th>use VCS:When developing in Python, how often do you…?</th>\n",
              "      <th>use code linting (programs that analyze code for potential errors):When developing in Python, how often do you…?</th>\n",
              "      <th>use Python virtual environments for your projects:When developing in Python, how often do you…?</th>\n",
              "      <th>use SQL databases :When developing in Python, how often do you…?</th>\n",
              "      <th>use NoSQL databases:When developing in Python, how often do you…?</th>\n",
              "      <th>run / debug or edit code on remote machines (remote hosts, VMs, etc.):When developing in Python, how often do you…?</th>\n",
              "      <th>use a Python profiler:When developing in Python, how often do you…?</th>\n",
              "      <th>write tests for your code:When developing in Python, how often do you…?</th>\n",
              "      <th>use code coverage:When developing in Python, how often do you…?</th>\n",
              "      <th>use optional type hinting:When developing in Python, how often do you…?</th>\n",
              "      <th>use Continuous Integration tools:When developing in Python, how often do you…?</th>\n",
              "      <th>use Issue Trackers:When developing in Python, how often do you…?</th>\n",
              "      <th>Do you regularly work on multiple projects at the same time?</th>\n",
              "      <th>How did you first learn about your main editor?</th>\n",
              "      <th>How often do you use your main editor?</th>\n",
              "      <th>Are you missing any features in your main editor?</th>\n",
              "      <th>How likely is it that you would recommend your main editor to a friend or colleague?</th>\n",
              "      <th>What do you think is the ratio of these two numbers?:Please think about the total number of Python Web Developers in the world and the total number of Data Scientists using Python.</th>\n",
              "      <th>What do you think would be the most popular opinion?:Please think about the total number of Python Web Developers in the world and the total number of Data Scientists using Python.</th>\n",
              "      <th>Most of the time, do you...?</th>\n",
              "      <th>How many people are in your project team?</th>\n",
              "      <th>What is your employment status?</th>\n",
              "      <th>Choose one from the list::Which of the following industries best describes your company's business?</th>\n",
              "      <th>Choose one from the list::Which of the following industries do you develop for?</th>\n",
              "      <th>How long have you been working in the IT industry?</th>\n",
              "      <th>DBA:Which of the following best describes your job role(s)?</th>\n",
              "      <th>Architect:Which of the following best describes your job role(s)?</th>\n",
              "      <th>QA engineer:Which of the following best describes your job role(s)?</th>\n",
              "      <th>Developer / Programmer:Which of the following best describes your job role(s)?</th>\n",
              "      <th>Technical support:Which of the following best describes your job role(s)?</th>\n",
              "      <th>Data analyst:Which of the following best describes your job role(s)?</th>\n",
              "      <th>Business analyst:Which of the following best describes your job role(s)?</th>\n",
              "      <th>Team lead:Which of the following best describes your job role(s)?</th>\n",
              "      <th>Product manager:Which of the following best describes your job role(s)?</th>\n",
              "      <th>CIO / CEO / CTO:Which of the following best describes your job role(s)?</th>\n",
              "      <th>Systems analyst:Which of the following best describes your job role(s)?</th>\n",
              "      <th>Other - Write In::Which of the following best describes your job role(s)?</th>\n",
              "      <th>Could you tell us your age range?</th>\n",
              "      <th>What country do you live in?</th>\n",
              "    </tr>\n",
              "  </thead>\n",
              "  <tbody>\n",
              "    <tr>\n",
              "      <th>0</th>\n",
              "      <td>Yes</td>\n",
              "      <td>NaN</td>\n",
              "      <td>NaN</td>\n",
              "      <td>JavaScript</td>\n",
              "      <td>NaN</td>\n",
              "      <td>PHP</td>\n",
              "      <td>NaN</td>\n",
              "      <td>NaN</td>\n",
              "      <td>Bash / Shell</td>\n",
              "      <td>NaN</td>\n",
              "      <td>NaN</td>\n",
              "      <td>NaN</td>\n",
              "      <td>NaN</td>\n",
              "      <td>NaN</td>\n",
              "      <td>NaN</td>\n",
              "      <td>NaN</td>\n",
              "      <td>NaN</td>\n",
              "      <td>NaN</td>\n",
              "      <td>NaN</td>\n",
              "      <td>NaN</td>\n",
              "      <td>NaN</td>\n",
              "      <td>NaN</td>\n",
              "      <td>NaN</td>\n",
              "      <td>HTML/CSS</td>\n",
              "      <td>NaN</td>\n",
              "      <td>Educational purposes</td>\n",
              "      <td>Data analysis</td>\n",
              "      <td>DevOps / System administration / Writing autom...</td>\n",
              "      <td>NaN</td>\n",
              "      <td>NaN</td>\n",
              "      <td>NaN</td>\n",
              "      <td>NaN</td>\n",
              "      <td>NaN</td>\n",
              "      <td>NaN</td>\n",
              "      <td>NaN</td>\n",
              "      <td>NaN</td>\n",
              "      <td>NaN</td>\n",
              "      <td>NaN</td>\n",
              "      <td>NaN</td>\n",
              "      <td>Programming of web parsers / scrapers / crawlers</td>\n",
              "      <td>...</td>\n",
              "      <td>Never or Almost never</td>\n",
              "      <td>Never or Almost never</td>\n",
              "      <td>Never or Almost never</td>\n",
              "      <td>From time to time</td>\n",
              "      <td>Never or Almost never</td>\n",
              "      <td>From time to time</td>\n",
              "      <td>Often</td>\n",
              "      <td>Never or Almost never</td>\n",
              "      <td>From time to time</td>\n",
              "      <td>Never or Almost never</td>\n",
              "      <td>Never or Almost never</td>\n",
              "      <td>Never or Almost never</td>\n",
              "      <td>Never or Almost never</td>\n",
              "      <td>Yes, I work on many different projects</td>\n",
              "      <td>Friend / Colleague</td>\n",
              "      <td>Daily</td>\n",
              "      <td>Yes</td>\n",
              "      <td>6.0</td>\n",
              "      <td>2:1</td>\n",
              "      <td>2:1</td>\n",
              "      <td>Work in a team</td>\n",
              "      <td>2-7 people</td>\n",
              "      <td>Fully employed by a company / organization</td>\n",
              "      <td>Education / Training</td>\n",
              "      <td>NaN</td>\n",
              "      <td>Less than 1 year</td>\n",
              "      <td>NaN</td>\n",
              "      <td>NaN</td>\n",
              "      <td>NaN</td>\n",
              "      <td>Developer / Programmer</td>\n",
              "      <td>NaN</td>\n",
              "      <td>NaN</td>\n",
              "      <td>NaN</td>\n",
              "      <td>NaN</td>\n",
              "      <td>NaN</td>\n",
              "      <td>NaN</td>\n",
              "      <td>NaN</td>\n",
              "      <td>NaN</td>\n",
              "      <td>60 or older</td>\n",
              "      <td>Italy</td>\n",
              "    </tr>\n",
              "    <tr>\n",
              "      <th>1</th>\n",
              "      <td>Yes</td>\n",
              "      <td>NaN</td>\n",
              "      <td>NaN</td>\n",
              "      <td>JavaScript</td>\n",
              "      <td>NaN</td>\n",
              "      <td>NaN</td>\n",
              "      <td>NaN</td>\n",
              "      <td>NaN</td>\n",
              "      <td>NaN</td>\n",
              "      <td>NaN</td>\n",
              "      <td>NaN</td>\n",
              "      <td>NaN</td>\n",
              "      <td>NaN</td>\n",
              "      <td>NaN</td>\n",
              "      <td>NaN</td>\n",
              "      <td>NaN</td>\n",
              "      <td>NaN</td>\n",
              "      <td>Clojure</td>\n",
              "      <td>NaN</td>\n",
              "      <td>Rust</td>\n",
              "      <td>NaN</td>\n",
              "      <td>NaN</td>\n",
              "      <td>NaN</td>\n",
              "      <td>HTML/CSS</td>\n",
              "      <td>Other - Write In:</td>\n",
              "      <td>NaN</td>\n",
              "      <td>Data analysis</td>\n",
              "      <td>DevOps / System administration / Writing autom...</td>\n",
              "      <td>NaN</td>\n",
              "      <td>NaN</td>\n",
              "      <td>Web development</td>\n",
              "      <td>NaN</td>\n",
              "      <td>NaN</td>\n",
              "      <td>NaN</td>\n",
              "      <td>NaN</td>\n",
              "      <td>Network programming</td>\n",
              "      <td>NaN</td>\n",
              "      <td>NaN</td>\n",
              "      <td>NaN</td>\n",
              "      <td>Programming of web parsers / scrapers / crawlers</td>\n",
              "      <td>...</td>\n",
              "      <td>Often</td>\n",
              "      <td>Often</td>\n",
              "      <td>Often</td>\n",
              "      <td>Often</td>\n",
              "      <td>Often</td>\n",
              "      <td>From time to time</td>\n",
              "      <td>From time to time</td>\n",
              "      <td>Never or Almost never</td>\n",
              "      <td>Often</td>\n",
              "      <td>Often</td>\n",
              "      <td>Never or Almost never</td>\n",
              "      <td>Often</td>\n",
              "      <td>Often</td>\n",
              "      <td>Yes, I work on many different projects</td>\n",
              "      <td>Friend / Colleague</td>\n",
              "      <td>Daily</td>\n",
              "      <td>No</td>\n",
              "      <td>7.0</td>\n",
              "      <td>10:1</td>\n",
              "      <td>5:1</td>\n",
              "      <td>Work in a team</td>\n",
              "      <td>2-7 people</td>\n",
              "      <td>Fully employed by a company / organization</td>\n",
              "      <td>Banking / Real Estate / Mortgage Financing</td>\n",
              "      <td>NaN</td>\n",
              "      <td>11+ years</td>\n",
              "      <td>NaN</td>\n",
              "      <td>Architect</td>\n",
              "      <td>NaN</td>\n",
              "      <td>Developer / Programmer</td>\n",
              "      <td>NaN</td>\n",
              "      <td>NaN</td>\n",
              "      <td>NaN</td>\n",
              "      <td>Team lead</td>\n",
              "      <td>NaN</td>\n",
              "      <td>NaN</td>\n",
              "      <td>NaN</td>\n",
              "      <td>NaN</td>\n",
              "      <td>40-49</td>\n",
              "      <td>United Kingdom</td>\n",
              "    </tr>\n",
              "    <tr>\n",
              "      <th>2</th>\n",
              "      <td>Yes</td>\n",
              "      <td>NaN</td>\n",
              "      <td>NaN</td>\n",
              "      <td>JavaScript</td>\n",
              "      <td>NaN</td>\n",
              "      <td>NaN</td>\n",
              "      <td>NaN</td>\n",
              "      <td>NaN</td>\n",
              "      <td>NaN</td>\n",
              "      <td>NaN</td>\n",
              "      <td>NaN</td>\n",
              "      <td>NaN</td>\n",
              "      <td>NaN</td>\n",
              "      <td>NaN</td>\n",
              "      <td>NaN</td>\n",
              "      <td>NaN</td>\n",
              "      <td>NaN</td>\n",
              "      <td>NaN</td>\n",
              "      <td>NaN</td>\n",
              "      <td>NaN</td>\n",
              "      <td>NaN</td>\n",
              "      <td>NaN</td>\n",
              "      <td>NaN</td>\n",
              "      <td>HTML/CSS</td>\n",
              "      <td>NaN</td>\n",
              "      <td>NaN</td>\n",
              "      <td>NaN</td>\n",
              "      <td>DevOps / System administration / Writing autom...</td>\n",
              "      <td>NaN</td>\n",
              "      <td>NaN</td>\n",
              "      <td>Web development</td>\n",
              "      <td>NaN</td>\n",
              "      <td>NaN</td>\n",
              "      <td>NaN</td>\n",
              "      <td>NaN</td>\n",
              "      <td>NaN</td>\n",
              "      <td>NaN</td>\n",
              "      <td>NaN</td>\n",
              "      <td>NaN</td>\n",
              "      <td>NaN</td>\n",
              "      <td>...</td>\n",
              "      <td>Often</td>\n",
              "      <td>Often</td>\n",
              "      <td>Often</td>\n",
              "      <td>Often</td>\n",
              "      <td>From time to time</td>\n",
              "      <td>Never or Almost never</td>\n",
              "      <td>Never or Almost never</td>\n",
              "      <td>Never or Almost never</td>\n",
              "      <td>From time to time</td>\n",
              "      <td>Often</td>\n",
              "      <td>Never or Almost never</td>\n",
              "      <td>Often</td>\n",
              "      <td>Often</td>\n",
              "      <td>Yes, I work on many different projects</td>\n",
              "      <td>Social network</td>\n",
              "      <td>Daily</td>\n",
              "      <td>No</td>\n",
              "      <td>9.0</td>\n",
              "      <td>1:2</td>\n",
              "      <td>2:1</td>\n",
              "      <td>Work as an external consultant or trainer</td>\n",
              "      <td>NaN</td>\n",
              "      <td>Freelancer</td>\n",
              "      <td>NaN</td>\n",
              "      <td>NaN</td>\n",
              "      <td>11+ years</td>\n",
              "      <td>NaN</td>\n",
              "      <td>NaN</td>\n",
              "      <td>NaN</td>\n",
              "      <td>Developer / Programmer</td>\n",
              "      <td>NaN</td>\n",
              "      <td>NaN</td>\n",
              "      <td>NaN</td>\n",
              "      <td>NaN</td>\n",
              "      <td>NaN</td>\n",
              "      <td>NaN</td>\n",
              "      <td>NaN</td>\n",
              "      <td>NaN</td>\n",
              "      <td>40-49</td>\n",
              "      <td>France</td>\n",
              "    </tr>\n",
              "    <tr>\n",
              "      <th>3</th>\n",
              "      <td>No, I don’t use Python for my current projects</td>\n",
              "      <td>NaN</td>\n",
              "      <td>NaN</td>\n",
              "      <td>NaN</td>\n",
              "      <td>NaN</td>\n",
              "      <td>NaN</td>\n",
              "      <td>C#</td>\n",
              "      <td>NaN</td>\n",
              "      <td>NaN</td>\n",
              "      <td>NaN</td>\n",
              "      <td>NaN</td>\n",
              "      <td>NaN</td>\n",
              "      <td>NaN</td>\n",
              "      <td>NaN</td>\n",
              "      <td>NaN</td>\n",
              "      <td>NaN</td>\n",
              "      <td>NaN</td>\n",
              "      <td>NaN</td>\n",
              "      <td>NaN</td>\n",
              "      <td>NaN</td>\n",
              "      <td>NaN</td>\n",
              "      <td>NaN</td>\n",
              "      <td>NaN</td>\n",
              "      <td>NaN</td>\n",
              "      <td>NaN</td>\n",
              "      <td>NaN</td>\n",
              "      <td>NaN</td>\n",
              "      <td>NaN</td>\n",
              "      <td>NaN</td>\n",
              "      <td>NaN</td>\n",
              "      <td>NaN</td>\n",
              "      <td>NaN</td>\n",
              "      <td>NaN</td>\n",
              "      <td>NaN</td>\n",
              "      <td>NaN</td>\n",
              "      <td>NaN</td>\n",
              "      <td>NaN</td>\n",
              "      <td>NaN</td>\n",
              "      <td>NaN</td>\n",
              "      <td>NaN</td>\n",
              "      <td>...</td>\n",
              "      <td>NaN</td>\n",
              "      <td>NaN</td>\n",
              "      <td>NaN</td>\n",
              "      <td>NaN</td>\n",
              "      <td>NaN</td>\n",
              "      <td>NaN</td>\n",
              "      <td>NaN</td>\n",
              "      <td>NaN</td>\n",
              "      <td>NaN</td>\n",
              "      <td>NaN</td>\n",
              "      <td>NaN</td>\n",
              "      <td>NaN</td>\n",
              "      <td>NaN</td>\n",
              "      <td>NaN</td>\n",
              "      <td>NaN</td>\n",
              "      <td>NaN</td>\n",
              "      <td>NaN</td>\n",
              "      <td>NaN</td>\n",
              "      <td>NaN</td>\n",
              "      <td>NaN</td>\n",
              "      <td>Work on your own project(s) independently</td>\n",
              "      <td>NaN</td>\n",
              "      <td>Student</td>\n",
              "      <td>NaN</td>\n",
              "      <td>NaN</td>\n",
              "      <td>Less than 1 year</td>\n",
              "      <td>NaN</td>\n",
              "      <td>NaN</td>\n",
              "      <td>NaN</td>\n",
              "      <td>Developer / Programmer</td>\n",
              "      <td>NaN</td>\n",
              "      <td>NaN</td>\n",
              "      <td>NaN</td>\n",
              "      <td>NaN</td>\n",
              "      <td>NaN</td>\n",
              "      <td>NaN</td>\n",
              "      <td>NaN</td>\n",
              "      <td>NaN</td>\n",
              "      <td>17 or younger</td>\n",
              "      <td>Spain</td>\n",
              "    </tr>\n",
              "    <tr>\n",
              "      <th>4</th>\n",
              "      <td>Yes</td>\n",
              "      <td>NaN</td>\n",
              "      <td>Java</td>\n",
              "      <td>NaN</td>\n",
              "      <td>NaN</td>\n",
              "      <td>NaN</td>\n",
              "      <td>NaN</td>\n",
              "      <td>NaN</td>\n",
              "      <td>NaN</td>\n",
              "      <td>NaN</td>\n",
              "      <td>NaN</td>\n",
              "      <td>NaN</td>\n",
              "      <td>NaN</td>\n",
              "      <td>SQL</td>\n",
              "      <td>Kotlin</td>\n",
              "      <td>NaN</td>\n",
              "      <td>Swift</td>\n",
              "      <td>NaN</td>\n",
              "      <td>NaN</td>\n",
              "      <td>NaN</td>\n",
              "      <td>NaN</td>\n",
              "      <td>NaN</td>\n",
              "      <td>NaN</td>\n",
              "      <td>NaN</td>\n",
              "      <td>NaN</td>\n",
              "      <td>NaN</td>\n",
              "      <td>Data analysis</td>\n",
              "      <td>NaN</td>\n",
              "      <td>NaN</td>\n",
              "      <td>Software prototyping</td>\n",
              "      <td>NaN</td>\n",
              "      <td>Machine learning</td>\n",
              "      <td>NaN</td>\n",
              "      <td>Desktop development</td>\n",
              "      <td>NaN</td>\n",
              "      <td>NaN</td>\n",
              "      <td>NaN</td>\n",
              "      <td>NaN</td>\n",
              "      <td>NaN</td>\n",
              "      <td>NaN</td>\n",
              "      <td>...</td>\n",
              "      <td>From time to time</td>\n",
              "      <td>Often</td>\n",
              "      <td>Never or Almost never</td>\n",
              "      <td>From time to time</td>\n",
              "      <td>From time to time</td>\n",
              "      <td>Never or Almost never</td>\n",
              "      <td>Never or Almost never</td>\n",
              "      <td>Often</td>\n",
              "      <td>Never or Almost never</td>\n",
              "      <td>Never or Almost never</td>\n",
              "      <td>From time to time</td>\n",
              "      <td>Never or Almost never</td>\n",
              "      <td>Often</td>\n",
              "      <td>Yes, I work on one main and several side projects</td>\n",
              "      <td>Search engines</td>\n",
              "      <td>Daily</td>\n",
              "      <td>No</td>\n",
              "      <td>10.0</td>\n",
              "      <td>1:5</td>\n",
              "      <td>1:2</td>\n",
              "      <td>Work in a team</td>\n",
              "      <td>2-7 people</td>\n",
              "      <td>Student</td>\n",
              "      <td>NaN</td>\n",
              "      <td>NaN</td>\n",
              "      <td>3 - 5 years</td>\n",
              "      <td>NaN</td>\n",
              "      <td>NaN</td>\n",
              "      <td>NaN</td>\n",
              "      <td>Developer / Programmer</td>\n",
              "      <td>NaN</td>\n",
              "      <td>NaN</td>\n",
              "      <td>NaN</td>\n",
              "      <td>NaN</td>\n",
              "      <td>NaN</td>\n",
              "      <td>NaN</td>\n",
              "      <td>NaN</td>\n",
              "      <td>NaN</td>\n",
              "      <td>18-20</td>\n",
              "      <td>Israel</td>\n",
              "    </tr>\n",
              "  </tbody>\n",
              "</table>\n",
              "<p>5 rows × 162 columns</p>\n",
              "</div>"
            ],
            "text/plain": [
              "  Is Python the main language you use for your current projects?  ... What country do you live in?\n",
              "0                                                Yes              ...                        Italy\n",
              "1                                                Yes              ...               United Kingdom\n",
              "2                                                Yes              ...                       France\n",
              "3     No, I don’t use Python for my current projects              ...                        Spain\n",
              "4                                                Yes              ...                       Israel\n",
              "\n",
              "[5 rows x 162 columns]"
            ]
          },
          "metadata": {
            "tags": []
          },
          "execution_count": 4
        }
      ]
    },
    {
      "cell_type": "code",
      "metadata": {
        "id": "4tnCqA4VsSsY"
      },
      "source": [
        "list_columns=df_py.columns"
      ],
      "execution_count": null,
      "outputs": []
    },
    {
      "cell_type": "code",
      "metadata": {
        "id": "ljiKGH3St0fS",
        "outputId": "a3d110cf-7348-4f00-c376-6029c1c55f75",
        "colab": {
          "base_uri": "https://localhost:8080/"
        }
      },
      "source": [
        "#Number of columns\n",
        "len(list_columns)"
      ],
      "execution_count": null,
      "outputs": [
        {
          "output_type": "execute_result",
          "data": {
            "text/plain": [
              "162"
            ]
          },
          "metadata": {
            "tags": []
          },
          "execution_count": 6
        }
      ]
    },
    {
      "cell_type": "code",
      "metadata": {
        "id": "sd893lPvyAK7"
      },
      "source": [
        "#Rows with only people that use python\n",
        "only_python=df_py[df_py['Is Python the main language you use for your current projects?']!='No, I don’t use Python for my current projects']"
      ],
      "execution_count": null,
      "outputs": []
    },
    {
      "cell_type": "code",
      "metadata": {
        "id": "vCzjLbLYxgsr",
        "outputId": "e5a90b96-b2a9-4a12-fee4-18ad81e71c8f",
        "colab": {
          "base_uri": "https://localhost:8080/"
        }
      },
      "source": [
        "#How many are there? This will be use after\n",
        "total=len(only_python)\n",
        "total"
      ],
      "execution_count": null,
      "outputs": [
        {
          "output_type": "execute_result",
          "data": {
            "text/plain": [
              "8112"
            ]
          },
          "metadata": {
            "tags": []
          },
          "execution_count": 8
        }
      ]
    },
    {
      "cell_type": "code",
      "metadata": {
        "id": "h-HVFhF8Iing"
      },
      "source": [
        "#Only obtaining necessary columns \n",
        "df_lang=df_py[df_py.columns[25:41]]"
      ],
      "execution_count": null,
      "outputs": []
    },
    {
      "cell_type": "code",
      "metadata": {
        "id": "a6Q0E3__fjxa"
      },
      "source": [
        "#Renaming columns\n",
        "df_lang.columns=['Educational purposes','Data analysis','DevOps / System administration / Writing automation scripts','Software testing / Writing automated tests','Software prototyping','Web development','Machine learning','Mobile development','Desktop development','Computer graphics','Network programming','Game development','Multimedia applications development','Embedded development','Programming of web parsers / scrapers / crawlers','Other - Write In']"
      ],
      "execution_count": null,
      "outputs": []
    },
    {
      "cell_type": "code",
      "metadata": {
        "id": "Mfkv0yEsH7wK",
        "outputId": "42873b8f-58f3-44f7-a957-5a35ab3539fc",
        "colab": {
          "base_uri": "https://localhost:8080/"
        }
      },
      "source": [
        "#What data does it have\n",
        "for (columnName, columnData) in df_lang.iteritems():\n",
        "   print('Colunm Name : ', columnName)\n",
        "   print('Column Contents : ', columnData.unique())"
      ],
      "execution_count": null,
      "outputs": [
        {
          "output_type": "stream",
          "text": [
            "Colunm Name :  Educational purposes\n",
            "Column Contents :  ['Educational purposes' nan]\n",
            "Colunm Name :  Data analysis\n",
            "Column Contents :  ['Data analysis' nan]\n",
            "Colunm Name :  DevOps / System administration / Writing automation scripts\n",
            "Column Contents :  ['DevOps / System administration / Writing automation scripts' nan]\n",
            "Colunm Name :  Software testing / Writing automated tests\n",
            "Column Contents :  [nan 'Software testing / Writing automated tests']\n",
            "Colunm Name :  Software prototyping\n",
            "Column Contents :  [nan 'Software prototyping']\n",
            "Colunm Name :  Web development\n",
            "Column Contents :  [nan 'Web development']\n",
            "Colunm Name :  Machine learning\n",
            "Column Contents :  [nan 'Machine learning']\n",
            "Colunm Name :  Mobile development\n",
            "Column Contents :  [nan 'Mobile development']\n",
            "Colunm Name :  Desktop development\n",
            "Column Contents :  [nan 'Desktop development']\n",
            "Colunm Name :  Computer graphics\n",
            "Column Contents :  [nan 'Computer graphics']\n",
            "Colunm Name :  Network programming\n",
            "Column Contents :  [nan 'Network programming']\n",
            "Colunm Name :  Game development\n",
            "Column Contents :  [nan 'Game development']\n",
            "Colunm Name :  Multimedia applications development\n",
            "Column Contents :  [nan 'Multimedia applications development']\n",
            "Colunm Name :  Embedded development\n",
            "Column Contents :  [nan 'Embedded development']\n",
            "Colunm Name :  Programming of web parsers / scrapers / crawlers\n",
            "Column Contents :  ['Programming of web parsers / scrapers / crawlers' nan]\n",
            "Colunm Name :  Other - Write In\n",
            "Column Contents :  [nan 'Other - Write In:']\n"
          ],
          "name": "stdout"
        }
      ]
    },
    {
      "cell_type": "markdown",
      "metadata": {
        "id": "z5an4-way1Gb"
      },
      "source": [
        "##3. Reproduce \"What do you use Python for the most? (single answer)\" chart"
      ]
    },
    {
      "cell_type": "code",
      "metadata": {
        "id": "Ehfnr3mPNj-S",
        "outputId": "c3826d85-2caf-44be-d6fc-890e2084f412",
        "colab": {
          "base_uri": "https://localhost:8080/"
        }
      },
      "source": [
        "#We need the count of people who choose the purpose of python\n",
        "df_val_count=[[]]\n",
        "for (columnName, columnData) in df_lang.iteritems():\n",
        "  df_val_count.append([columnName,columnData.count()])\n",
        "\n",
        "df_val_count=pd.DataFrame(df_val_count)\n",
        "print( df_val_count)"
      ],
      "execution_count": null,
      "outputs": [
        {
          "output_type": "stream",
          "text": [
            "                                                    0       1\n",
            "0                                                None     NaN\n",
            "1                                Educational purposes  2279.0\n",
            "2                                       Data analysis  4057.0\n",
            "3   DevOps / System administration / Writing autom...  2827.0\n",
            "4          Software testing / Writing automated tests  2141.0\n",
            "5                                Software prototyping  1779.0\n",
            "6                                     Web development  3991.0\n",
            "7                                    Machine learning  2542.0\n",
            "8                                  Mobile development   454.0\n",
            "9                                 Desktop development  1599.0\n",
            "10                                  Computer graphics   838.0\n",
            "11                                Network programming  1692.0\n",
            "12                                   Game development   697.0\n",
            "13                Multimedia applications development   265.0\n",
            "14                               Embedded development   576.0\n",
            "15   Programming of web parsers / scrapers / crawlers  2582.0\n",
            "16                                   Other - Write In   545.0\n"
          ],
          "name": "stdout"
        }
      ]
    },
    {
      "cell_type": "code",
      "metadata": {
        "id": "LutJCodMo_ZS",
        "outputId": "a62d6493-f8fb-40f8-cbb7-de8c5f2ad68c",
        "colab": {
          "base_uri": "https://localhost:8080/",
          "height": 576
        }
      },
      "source": [
        "#Renaming columns again\n",
        "df_val_count.columns=['What do you use Python for?','Count_']\n",
        "df_val_count.dropna(inplace=True)\n",
        "df_val_count.set_index('What do you use Python for?')"
      ],
      "execution_count": null,
      "outputs": [
        {
          "output_type": "execute_result",
          "data": {
            "text/html": [
              "<div>\n",
              "<style scoped>\n",
              "    .dataframe tbody tr th:only-of-type {\n",
              "        vertical-align: middle;\n",
              "    }\n",
              "\n",
              "    .dataframe tbody tr th {\n",
              "        vertical-align: top;\n",
              "    }\n",
              "\n",
              "    .dataframe thead th {\n",
              "        text-align: right;\n",
              "    }\n",
              "</style>\n",
              "<table border=\"1\" class=\"dataframe\">\n",
              "  <thead>\n",
              "    <tr style=\"text-align: right;\">\n",
              "      <th></th>\n",
              "      <th>Count_</th>\n",
              "    </tr>\n",
              "    <tr>\n",
              "      <th>What do you use Python for?</th>\n",
              "      <th></th>\n",
              "    </tr>\n",
              "  </thead>\n",
              "  <tbody>\n",
              "    <tr>\n",
              "      <th>Educational purposes</th>\n",
              "      <td>2279.0</td>\n",
              "    </tr>\n",
              "    <tr>\n",
              "      <th>Data analysis</th>\n",
              "      <td>4057.0</td>\n",
              "    </tr>\n",
              "    <tr>\n",
              "      <th>DevOps / System administration / Writing automation scripts</th>\n",
              "      <td>2827.0</td>\n",
              "    </tr>\n",
              "    <tr>\n",
              "      <th>Software testing / Writing automated tests</th>\n",
              "      <td>2141.0</td>\n",
              "    </tr>\n",
              "    <tr>\n",
              "      <th>Software prototyping</th>\n",
              "      <td>1779.0</td>\n",
              "    </tr>\n",
              "    <tr>\n",
              "      <th>Web development</th>\n",
              "      <td>3991.0</td>\n",
              "    </tr>\n",
              "    <tr>\n",
              "      <th>Machine learning</th>\n",
              "      <td>2542.0</td>\n",
              "    </tr>\n",
              "    <tr>\n",
              "      <th>Mobile development</th>\n",
              "      <td>454.0</td>\n",
              "    </tr>\n",
              "    <tr>\n",
              "      <th>Desktop development</th>\n",
              "      <td>1599.0</td>\n",
              "    </tr>\n",
              "    <tr>\n",
              "      <th>Computer graphics</th>\n",
              "      <td>838.0</td>\n",
              "    </tr>\n",
              "    <tr>\n",
              "      <th>Network programming</th>\n",
              "      <td>1692.0</td>\n",
              "    </tr>\n",
              "    <tr>\n",
              "      <th>Game development</th>\n",
              "      <td>697.0</td>\n",
              "    </tr>\n",
              "    <tr>\n",
              "      <th>Multimedia applications development</th>\n",
              "      <td>265.0</td>\n",
              "    </tr>\n",
              "    <tr>\n",
              "      <th>Embedded development</th>\n",
              "      <td>576.0</td>\n",
              "    </tr>\n",
              "    <tr>\n",
              "      <th>Programming of web parsers / scrapers / crawlers</th>\n",
              "      <td>2582.0</td>\n",
              "    </tr>\n",
              "    <tr>\n",
              "      <th>Other - Write In</th>\n",
              "      <td>545.0</td>\n",
              "    </tr>\n",
              "  </tbody>\n",
              "</table>\n",
              "</div>"
            ],
            "text/plain": [
              "                                                    Count_\n",
              "What do you use Python for?                               \n",
              "Educational purposes                                2279.0\n",
              "Data analysis                                       4057.0\n",
              "DevOps / System administration / Writing automa...  2827.0\n",
              "Software testing / Writing automated tests          2141.0\n",
              "Software prototyping                                1779.0\n",
              "Web development                                     3991.0\n",
              "Machine learning                                    2542.0\n",
              "Mobile development                                   454.0\n",
              "Desktop development                                 1599.0\n",
              "Computer graphics                                    838.0\n",
              "Network programming                                 1692.0\n",
              "Game development                                     697.0\n",
              "Multimedia applications development                  265.0\n",
              "Embedded development                                 576.0\n",
              "Programming of web parsers / scrapers / crawlers    2582.0\n",
              "Other - Write In                                     545.0"
            ]
          },
          "metadata": {
            "tags": []
          },
          "execution_count": 67
        }
      ]
    },
    {
      "cell_type": "code",
      "metadata": {
        "id": "aIUQ9Uy7vVIY"
      },
      "source": [
        "#Getting percentage (We calculated the Total previosly )\n",
        "df_val_count['Percentage_']=(df_val_count['Count_']*100)/total"
      ],
      "execution_count": null,
      "outputs": []
    },
    {
      "cell_type": "code",
      "metadata": {
        "id": "wNTvHF4lvyjm",
        "outputId": "735a629d-b636-4ce0-c908-3dff8980d246",
        "colab": {
          "base_uri": "https://localhost:8080/",
          "height": 545
        }
      },
      "source": [
        "df_val_count"
      ],
      "execution_count": null,
      "outputs": [
        {
          "output_type": "execute_result",
          "data": {
            "text/html": [
              "<div>\n",
              "<style scoped>\n",
              "    .dataframe tbody tr th:only-of-type {\n",
              "        vertical-align: middle;\n",
              "    }\n",
              "\n",
              "    .dataframe tbody tr th {\n",
              "        vertical-align: top;\n",
              "    }\n",
              "\n",
              "    .dataframe thead th {\n",
              "        text-align: right;\n",
              "    }\n",
              "</style>\n",
              "<table border=\"1\" class=\"dataframe\">\n",
              "  <thead>\n",
              "    <tr style=\"text-align: right;\">\n",
              "      <th></th>\n",
              "      <th>What do you use Python for?</th>\n",
              "      <th>Count_</th>\n",
              "      <th>Percentage_</th>\n",
              "    </tr>\n",
              "  </thead>\n",
              "  <tbody>\n",
              "    <tr>\n",
              "      <th>1</th>\n",
              "      <td>Educational purposes</td>\n",
              "      <td>2279.0</td>\n",
              "      <td>28.094181</td>\n",
              "    </tr>\n",
              "    <tr>\n",
              "      <th>2</th>\n",
              "      <td>Data analysis</td>\n",
              "      <td>4057.0</td>\n",
              "      <td>50.012327</td>\n",
              "    </tr>\n",
              "    <tr>\n",
              "      <th>3</th>\n",
              "      <td>DevOps / System administration / Writing autom...</td>\n",
              "      <td>2827.0</td>\n",
              "      <td>34.849606</td>\n",
              "    </tr>\n",
              "    <tr>\n",
              "      <th>4</th>\n",
              "      <td>Software testing / Writing automated tests</td>\n",
              "      <td>2141.0</td>\n",
              "      <td>26.392998</td>\n",
              "    </tr>\n",
              "    <tr>\n",
              "      <th>5</th>\n",
              "      <td>Software prototyping</td>\n",
              "      <td>1779.0</td>\n",
              "      <td>21.930473</td>\n",
              "    </tr>\n",
              "    <tr>\n",
              "      <th>6</th>\n",
              "      <td>Web development</td>\n",
              "      <td>3991.0</td>\n",
              "      <td>49.198718</td>\n",
              "    </tr>\n",
              "    <tr>\n",
              "      <th>7</th>\n",
              "      <td>Machine learning</td>\n",
              "      <td>2542.0</td>\n",
              "      <td>31.336292</td>\n",
              "    </tr>\n",
              "    <tr>\n",
              "      <th>8</th>\n",
              "      <td>Mobile development</td>\n",
              "      <td>454.0</td>\n",
              "      <td>5.596647</td>\n",
              "    </tr>\n",
              "    <tr>\n",
              "      <th>9</th>\n",
              "      <td>Desktop development</td>\n",
              "      <td>1599.0</td>\n",
              "      <td>19.711538</td>\n",
              "    </tr>\n",
              "    <tr>\n",
              "      <th>10</th>\n",
              "      <td>Computer graphics</td>\n",
              "      <td>838.0</td>\n",
              "      <td>10.330375</td>\n",
              "    </tr>\n",
              "    <tr>\n",
              "      <th>11</th>\n",
              "      <td>Network programming</td>\n",
              "      <td>1692.0</td>\n",
              "      <td>20.857988</td>\n",
              "    </tr>\n",
              "    <tr>\n",
              "      <th>12</th>\n",
              "      <td>Game development</td>\n",
              "      <td>697.0</td>\n",
              "      <td>8.592209</td>\n",
              "    </tr>\n",
              "    <tr>\n",
              "      <th>13</th>\n",
              "      <td>Multimedia applications development</td>\n",
              "      <td>265.0</td>\n",
              "      <td>3.266765</td>\n",
              "    </tr>\n",
              "    <tr>\n",
              "      <th>14</th>\n",
              "      <td>Embedded development</td>\n",
              "      <td>576.0</td>\n",
              "      <td>7.100592</td>\n",
              "    </tr>\n",
              "    <tr>\n",
              "      <th>15</th>\n",
              "      <td>Programming of web parsers / scrapers / crawlers</td>\n",
              "      <td>2582.0</td>\n",
              "      <td>31.829389</td>\n",
              "    </tr>\n",
              "    <tr>\n",
              "      <th>16</th>\n",
              "      <td>Other - Write In</td>\n",
              "      <td>545.0</td>\n",
              "      <td>6.718442</td>\n",
              "    </tr>\n",
              "  </tbody>\n",
              "</table>\n",
              "</div>"
            ],
            "text/plain": [
              "                          What do you use Python for?  Count_  Percentage_\n",
              "1                                Educational purposes  2279.0    28.094181\n",
              "2                                       Data analysis  4057.0    50.012327\n",
              "3   DevOps / System administration / Writing autom...  2827.0    34.849606\n",
              "4          Software testing / Writing automated tests  2141.0    26.392998\n",
              "5                                Software prototyping  1779.0    21.930473\n",
              "6                                     Web development  3991.0    49.198718\n",
              "7                                    Machine learning  2542.0    31.336292\n",
              "8                                  Mobile development   454.0     5.596647\n",
              "9                                 Desktop development  1599.0    19.711538\n",
              "10                                  Computer graphics   838.0    10.330375\n",
              "11                                Network programming  1692.0    20.857988\n",
              "12                                   Game development   697.0     8.592209\n",
              "13                Multimedia applications development   265.0     3.266765\n",
              "14                               Embedded development   576.0     7.100592\n",
              "15   Programming of web parsers / scrapers / crawlers  2582.0    31.829389\n",
              "16                                   Other - Write In   545.0     6.718442"
            ]
          },
          "metadata": {
            "tags": []
          },
          "execution_count": 15
        }
      ]
    },
    {
      "cell_type": "code",
      "metadata": {
        "id": "ypd-ncG_qGQb",
        "outputId": "74feb717-afbe-4a8f-eebb-9d0b255f3ca9",
        "colab": {
          "base_uri": "https://localhost:8080/",
          "height": 282
        }
      },
      "source": [
        "#Bar chart\n",
        "df_val_count = df_val_count.sort_values(by=['Percentage_'], ascending=True)\n",
        "df_val_count.plot.barh(x='What do you use Python for?', y='Percentage_', rot=0)"
      ],
      "execution_count": null,
      "outputs": [
        {
          "output_type": "execute_result",
          "data": {
            "text/plain": [
              "<matplotlib.axes._subplots.AxesSubplot at 0x7f2e2199c470>"
            ]
          },
          "metadata": {
            "tags": []
          },
          "execution_count": 16
        },
        {
          "output_type": "display_data",
          "data": {
            "image/png": "[encoded data removed]",
            "text/plain": [
              "<Figure size 432x288 with 1 Axes>"
            ]
          },
          "metadata": {
            "tags": [],
            "needs_background": "light"
          }
        }
      ]
    },
    {
      "cell_type": "markdown",
      "metadata": {
        "id": "M54aFDp6FGYs"
      },
      "source": [
        "**According to the website, we have the same values **\n",
        "![image.png](data:image/png;base64,iVBORw0KGgoAAAANSUhEUgAABAgAAAF8CAYAAABCEolqAAAgAElEQVR4Aey9/09cR5b//fkr+Cv4saVIHQmJjSUrSEYay/wwsJG2JUvrliVjoxCTDQlCniCz3oT254lRvBbjGTPe4SFDhngc4R08xGPwxgOZQWpHTpvHxoOzxCLb2WAUW7S/6P2o6t66t6pu3f5mwNB+R3L69u2quqdeVbeoc+rUqf8D/kcCJEACJEACJEACJEACJEACJEACJPDSE/g/Lz0BAiABEiABEiABEiABEiABEiABEiABEgANBOwEJEACJEACJEACJEACJEACJEACJEACNBCwD5AACZAACZAACZAACZAACZAACZAACYAGAnYCEiABEiABEiABEiABEiABEiABEiABGgjYB0iABEiABEiABEiABEiABEiABEiABEADATsBCZAACZAACZAACZAACZAACZAACZAADQTsAyRAAiRAAiRAAiRAAiRAAiRAAiRAAoIATzFgPyABEiABEiABEiABEiABEiABEiABEqCBgH2ABEiABEiABEiABEiABEiABEiABEiAHgTsAyRAAiRAAiRAAiRAAiRAAiRAAiRAAtxiwD5AAiRAAiRAAiRAAiRAAiRAAiRAAiQgCDAGAfsBCZAACZAACZAACZAACZAACZAACZAADQTsAyRAAiRAAiRAAiRAAiRAAiRAAiRAAvQgYB8gARIgARIgARIgARIgARIgARIgARLgFgP2ARIgARIgARIgARIgARIgARIgARIgAUGAMQjYD0iABEiABEiABEiABEiABEiABEiABGggYB8gARIgARIgARIgARIgARIgARIgARKgBwH7AAmQAAmQAAmQAAmQAAmQAAmQAAmQwI7fYjA/hL0te/1/Q8jWSJNmz6g67cXedyexUiP1YjV2MoEshoJ3bS+G5ndyXZTs61i6PISu/eH7drh3Ekvq5y3+XF9dxar8t76hT179YXVDy9uMwowx70w1I/kSJj8axKD6958b2Io1+ndmM9pxp5e5E96Vnc6Y8pMACZAACWx/ApsSg2DpP1pRV1fn/+vBdNx8d/E8WoN0XZiMm8ca6eox8JUP9qsB7TkDmNt03utYmZ/G9Iz/byFO4OcTZO4Dxa4OdfvHaCB4Ppw7KPccBoL3QesDwb0EmvZ3YejyEja05/2wEPbpmSxWnO+rKVvwDu4guraoS8P6OKV4b8U4okmyuoCLHxzAq/Xq+f5n/as48NE0Vp5oaSu9/GkBY+/uRX1dCmP3Ks28temNMe8DaySvon/W2WU8T3W2/O/M8wjLvFUTuDeGVF099r47hoWfqi6FGUmABEiABEhgxxPYFAMBDIW+Dj1XnBoHVj5NaQp+Hbr+0632GOnqtQn8lk/cVjC2X5vIb+QkVOtKxmSZBgKNTK1fmkp4aGTT+pxvLKj/2QDmNmoSa7xHKYwtuzibsu18A8EcBmylXLLVxhcXhg28t35jEK1OGbT2fr3Kdr43ia7XtXL2j70wz4hykBljnj2uVtE/aSAohzrThASWzL/tr3dhcpsb1ULZeUUCJEACJEACG0tgcwwEMBXp+venETURmGmkMvTWpGNldBUX28OJbr0+eTQmjlsxsbdk1mXZwHYxJss0EGwg2e1elKmEFzMQiN/qD17cGO8S4z16SQwEy2K1UI0rr2FAbZlYj45Um9Jrnixh7GC9YSCte6VJbpeyvQmaPq7Q5f7eGA7ohodXDuP8N27j66bUrYpCjTHPHlfL6p+rWFCeXeJzI727jOdvxd+ZKgAyy3MTWF84j8OvqDGhDnX1B7a9581zV5oFkAAJkAAJkICDwCYZCGB6B+ir/koIY4Ku/ig7tiOsTqIrmMhr2wtEOTETt9WFOd9lOs5dWgkB4Mk6VlcWMOdPLrP3VrHudOtdx+rqAs7/k5K1DnXvT/p7hlexWo1e8WQVC1/52xW+WgjKMCbLJQwE6/eyoXv4jaWgDK2GpS9/UnufxWdMRQSnYI/0qsPgA2Bdq8/MHBbcvuq+PCXKM54XI5OrZnpdHCvs4T7v+DZbX11CVu8PrucY99YR9rlpzC3E8DHyuL6YBgJ7lX59JYuxf2nSlErtfdDrXUkbinyX+7QyU1KZjO6Fj5HtB+3dWS6znX4K+U7PZLEUJ69AFNMPQt5lvOM2alHnb85rBoI+TAZ9O64OdhuvxIwT3sOc/Wx9RfarrOL00xwGXq9D/c96MHZDU+CfrODiW5rxoOV8+av/61lZZmBcer0P0z/YAMSrGr7zwXgXtOUcFn6wOOjvtjZWGSWvh2U6xxG9j1rvpjHm6QaCsvunWSe7Sznrq/XDou9szN8Zo+7yi91Hqh0HwpKF3Es3wr8RK3bFwqRy/A3HaNV+61jR8q86/7aFhZQa+3SOq1YbilLC39Xzw7JRpP29VBXwKzouLEQXGp6sY0XNC75awIpDdinDD9Po0z1vXh9A1lEVrVa8JAESIAESIIGaI7BpBgIYBgBNkfERGtsGAgNAdDvC6n92hcrLPwyagQjtiZv44/4zbWIty21ClyNg1friJAb++VXUa88OJtVy/++cOckw6qMZCfz8qU8rCSW4joVPe7BXX+UT5dTvRc/nS5guIwbByswgDjTYdRVyJZCqdO/yjUG8FnBoxfnFaD/Pfvxa2A7tF002qwsY621FIigj5COVH9fqpcHTsWptt21UJOedWEVDpjY9QCJt9tMCzrcnwnqq+oj+8MFFuBYlV68PIqWvOqk8r6QwNK8pfU5p7ZsxSriRLIvBfwj57h32g7FV2YYGLyV78KmvllqyXV/F9HGxvz2URbw/Tf9SJMjfyjQGY965xP5BTLteIbsfVPCOG9i0L+XXWWRale9qq6uNxfv6qUMZsTyoRD/TtxMY/e6nFbeycl032ujtoFXEcWnEVYhdAS2nLeuxNzMnDYFLn7vHqoGvTM3JGNMdhk2Du24EABD3m3Hf6mt1dTqXYu+2Vd+v1pE9k4qOV3HvrN0HHdw3dhxYxdyZLjj7XF0dEj/vwdiCyV6IZPNfsFfEBb/6VgzeiOZFmWOf8XfA9vhbPI+9QRvZMYXM9jn8uTk2Vswv0iZLmAyMp3q/AFav9EX/1kqOXRiacQw6lgdOxR48jv7BWyRAAiRAAiSwkwhsnoHAmiS/9pHuJmtOFsRJBIFy3qtvR1jHdG+ogJhl2B4ETWjSLf/BREXkb8LgDatZjMlM+IxADuHCrctiKLTR9Mak33qU+XUdcx/oq8B2WfWo1w0HkYn2OuYyUcVMl1tcV7ZHfQnnfx7K0fofdgRwUyk1Jnf3LppumQZ3VWYChz+zyjR4bgcDwQou2i7fRl3qI7E0lj49EFGQzXZogq1EmX3B/mYrMvbv4rv57oR7ratrw/IVMFO2ptfj+7BrQr3+1YBzkm7wqt8b5WUoAhW+4y58tjJqtLHor7pysYSLLoORlSfRftFa4TfbKHX2PHq0d7r0WLGOueOaQa5cD4L1afRpz2lVxqMIh3Lbsh6t+1vj+3h9FyY17wRbQbVVL6OvvUADQes/peLrVOd4Z40+qPcPD+zGjwPm3z3jHQn6XtSQa/D/hyY0aX3BKMNqNzGmlD32GYZI0+NvaVj7O15nxRQyPAHN8b4qfkab9OG8EXA0bKP1+QE0BczU3yPt8+du7xzT0NYXH2g58m7xBgmQAAmQAAnsfAKbaCAAVj8/HCr++uq/rhzW92H6G/00A23SsT6NnuCP+2tRJd+YJIg/+gm0vtWHwY/6cNjyJKjP6AYK0XBLON9Sj1f/sQt96misj3qsVXntmatzOP9RHw5oq7d1P+8KjtU6/5W5IhLbNW4MmhOWV1IY+HQS0zOTGPvAsaplGQiER4W+apv4eReGPp/G9OUxDHaYhoN6e4UnVijAOHnCnjTpk0LRXsECVBaDulFGrrSPYXJmGhf/o8daWbeMNHofEFHW7cB4RtuGE74iVZA/FVNCbOXaUNR0g9HrA5heEe7SS8h+PoSunyeip0kYgTjr0Zq5CLE9ZWVhGueDlSyxYqfzKim9cYqBvcXAy72AoZZwgvuatj+9mjZc+s9BDL6lR/N/DQfeV8fF6d4AplIpFA7R98S702f1u7r6AdPT54dJdOnKyiut6Dpz0evzHx02DQe28mL0g0rfcTdvWef3D2heM+46Zz/WjSD1ePWfBzB2eRrTn59Hz37T08Q0ipgGgvp609PH6HdKROGeL7Y6XR6LeDaZZasMjs+vBrSxQRtHI0kdbbm/R45lPU4PjwRSvaJP2ONjHQ58FpoBDAXVGreECMXezbjfyu+fJnOTcbS+da+k0PMffh+0x137nTX6oDUWbco4AKxf6YGISXFYcvfex763LC8ta3w3+Iu/m2I89tvN9nLS200EFQ5W/kuOfbqxuD6M3SH+nmpGZmmQ0Azssj7qb7neN6rlZ7SJZVQPjHy6oaUeB0YX5DY5MUaPyZNDXosaJNW7Ysw9oh6QKhk/SYAESIAESKAWCWyqgQA/XMRhNSmoC5Vt3XDgBTA0JxfBqQf6hFc3MKiWsCYJPZd1Jd0ss/zjAs18qVF95duchIart0qgUp/rmH5fUxb+oQ/TushiD+dX1oqHPpmCPjmrQ9MH1jYIYfYwVrVD5qUkM9tqr7HNQHcr1QNO6u3oDOjk77EOVq/0rQnbzUCg96X957Fk7NUV8RJMgnMfhO342nHPFTtMYfYhw+MiTOS4MhWZiIHgyQom3zeVViON8b6V14ZSCL3uLmONTGTKVt9rBhQ1VtysMrIfaavhIiq/xRKWS6/hKWTIVo+NeccBcwuUw0BlsBTKhT4OCCC2J9BhXAxW061xQiprrRi4HMYZsRt/5bMDoTE1GDPrUP+Pg8jG7Ze2CjFWcIsGsLTb0vbaCvt2XZ3lOfPTtOENoY+BhoJqjFueoHFGAPFrsd/MWDOOtpLFm8yLGgjqu7S28mSzx13jnTX6oGkg2JxxwJPJ9X+haIcG4j7jaF+Df10rhha0Eoq0m8G3wrEv2OJkjOfKgBkaqXROuoeafr+icdRoE+95Tf9yHnP3Auu15W31GvpmrIFntViMCOFVoepRh6CeGlJekgAJkAAJkECtEthcAwHMEwi8P7L6vXr0zXh/0I3VT3/lwZg8GFsU/OYwJgnhZEQ11tKodoyiY8Iq0hlB/vzAegu6q6ThCmtOQvXJsXpm8U9TwdcnSmE+nU+duXKtr+TX6QpJmFvsmdZPfdBXmPVU0WvTeBFOiHSZdYPDKibfCidQhlKnF27IrO1LNSaUjkm/0bbmpFwv3r4uqmhY7vmGEmGsZNWhTqxyfzRmTTjV0+KYqN8BI3aGtpIWpnBdmYpbYFjRFEb9XvQUg0rb0JfBYO1oC5nMlC0w4qlqyDPEVX/Qy9BZ1cFQvFResdM/ztvIkK26d1x7THhZov8Z7ecyTsqSzLqFx7Ra40Rd1B08FMS/MupZh/qGAxj43BXfIJIzuFG87wfJhDpueKpE2tKIf2Az11dl66CPgYaC6hhvi8lX7DdDgbWMT2GtTObGu23V1z3uWvU6PhcWbbSNPhbp7a+PjWFWox+VPQ74+fXAkCJoqghC+8Ok5lWnv2dWDALHtpS54+r9NNvNPpa4+NgHrM/0hUYKv531tg+3DKq/78JbTz1bN1w+Bz+jTaztgAF+czwUxq5X/7kH54sY6oKspYxWekJekwAJkAAJkECNEdhkA4E18ReTFn1lTnflNCbsPZj+qfTkwZw46hM3r5X0SYvtQbC+MIYeaxuCrnwF1xtqIDAn5sbqr9ax4gwbhpvmP8Wfa26sJFpuqNpjope6Mq8mmPo9Q1HSJ3116LseLU7eMVw1tUm00d7mRFfmMyaA0baNeVrxlchiBoLIirCa0Ip4DodxXg84aNQpTBf0GVuhdyhLbvnN/hFbXrEYE3p7lWxDXwqDtaMtZDJTtkjfjWtPg1Uq/tgw3c25TjMkGbJF+0Gxd9zN2L8bJ6//s/EO6cqiUaipVIbGOFNZrSvnHdTk6bqsr4IaDyz6paiSbeQs0ZYlmMc9p1RbxOUTohX7zRzn4/qnybyYgSDSd302ceOu+XytDxp9eyPHgVXMfeTYbmaPK5axpHr+tjdMWJfI2CdYGfUW76pulO7B9I1wy4I8lljr23VqTIqUEz4zdtzTx1Gjj2p/V/y2DD4s76Sw7ARSH0xanmJBLnlRtE+aSfmNBEiABEiABGqKwKYbCEzX9VYMfBDGJZCThwCnOcHr+WAg3CNsKKZBhthjDlWK2AmTtSdarNb1+HEIxD5P4xzyF2Eg0D0Y9EmRvrIXx0RsM9DzV7RqFTXK6GWZK29LGNOOfAxXTxV9/9OYTGqrR/qk0ZroypzGBFCblFvF21+LT+rMPmYqEV5JKzN+zIHIZFwPXjaHvsjvRSa4ehvaAhvfTcUtnMyqsr2YGYNFV5YraUP/4QbrOAXMlC2iZMW2p86qyETeMBBoq9aGbNF+EPuOG1wdX2Ll9dIaymKsgm8aCEKvG7OfhfcdcgS3FjApx6AhTNvxOII0xS+K9309b4m2LME87jml2iIun5Cs2G+mgh7XP03m5rtdor4+Gn2sMwzKsTz0vq3e0SKfZY4DZuwLFVfHiwFx+HU99oXJ4nn4CwTljX0ipdnvez4dC48iln9vtDGofgCTn4cnEYVGNNnq1Y+jRpto44XflsbH6gIuypgD0bapPxhvaC/aJ40H8AsJkAAJkAAJ1BaBzTcQwHRFD5WeaOAfY4KjKWDmpEJrAGOSUL7yYOz3tQPy2cdFbaiBwFx1d7vlm/vXjYmqoUTFuS2b+ctTTkKm+laP1z4e01xD7eeZk0TjxIewONMdtU6byBkKWtQDwfCWCIJOaQXHXBqTuoiXhcnfVCLMAtd/WMD0pwNm0Mpggq9NgOui/dgsqZJvpiLTd1k7V77MfejiaeW3oS+b8R6ZSkcovSlb+QYCk3lcZH1dZmOV0ZCt/Hc8lDvmyuh/0Tob/a9eeDQ5yrFODQhd9Yspq45yNuiWYdQI+qqr8BJtWYK58Y5p46M5fpv7422lUt+aICSMK1NKb8gTbSuvhsWYm/V1j7tmfiOorfF8vQ9uxjiQxUAQ0NOK/yArqtfFZGHwd7R/UcYeRPn/4mOfl1DfOqEH4VSG4jBuzWt4LQjsaxsIn4NfbJtoFbEvn6xj6cZFDBnBHuPGb7M/VPp31H40v5MACZAACZDATiKwBQYCaz+2UvxdK+D69gOVTgtuGAFbYpIQN2Ey7kfch4XiqwXp0ibAYn+/vu++LpI3ImHkhhGwTRypdV0PnLSOhWHr6Dxjomcq/3U/H0RWzy6Uw1E9v63UR8SJ3nC2QR3q9ACDfi5jL2rda+iyjzJcncOAdsqBHuDQ3gdtrOQ8WcKYceSgPimPiqzfMdrWOrJs9boZANI0EKxj+swgpsOg7F6x+vFcWnR+ox33O1ahfsri4ucL8hx5Xb7i1/rkvw4RJbx45vDXCtpQZtK3JQhvjnthUeFVCdmKKNyG8l/XikF9u4Z4gOUGbHiqVPmOh3LHXBWRV+awlP/X3rpouSOvmseV6tulim5lccsjo/Wr01T+Ixp81J3LuqsHdY2NUSLylGjLEsxjFU0jXz0OfKoFdrTauCIDQVn901TozHfbrK849tYcd+1xU+2d9/ka9TLHoo0fB3RZHe+iEStlowwElY19kopzjNG2Bhlt5q/c15vsRDlV8yvSJn6reR+LFzH4aTSWx8KZMNircaKDymzUL86IoBLzkwRIgARIgARqi8CWGAigK1m+4u9exdH3MvqTCpchQbVBiUmCoSxqira++iGi75+/sYLVn0Sk+iVMZ6xzvw0DgbXSJYIe/Wwv9v7sVRz41NYslZDW5/JFHAhWiEQdvcBJ4ggx033Ur78mtyjJjratH2Vl52/KZCtUUOUTzJMW/PZSK0NmbWxFXjv6zt6qUX8AFw3XaXNCLz1LXmmCCHBlbPGQz49OLE05tG+GkuTzFW1kuOZ6bHUlYv16n7+lJYGm9h6cF0dHiuMa9f6gu5rb21R+dhiD6rjKj7rQ+or3jKb3p2HZcDRh7UtdOXgOA4FwAdZPyyjahnZEfxGg0WuHpld07iVkK6Zw26dZBH1+ED3tTUj48sk+8PoAsvoW/CrfcZts5Hsxef3E5okgfuDK44MYPN6F1gbNiFhXbxz3V/Q4zYgg3g1D6bbe+Zgsjtv6imwd4o9HLNGWJZgbsurjo8HU6/+J173xMYy8792vyEBgl+vsn+Z4or/btkHE82IrMu6+Pmge01mMx4aPA1Ybvj+JpdV1rP+0ipUbY+jSDK511tasuL93qqPEtVvFY58s0OQtmerjo3Xijvjd3FLoS1Utv2JtoiqMJYzt9/pbfYMXdFYcwTt9+bzG0fZq8DIb2zyKzUGCZ/GCBEiABEiABGqHwNYYCOyV9yJeAUY087oSxwuVmCTETpjWs8bKtjdh9CeuddaZyvoEWERbv9wVRnDWFBtzQlq8gyz9ZxeatLzG8+sP4IA/qZH3HcrC0meHTaXKUVbTv+hn2BeXx/7V9AwQ52n3YVpX2vQMQvkrFeyxvhWDN6IFmEd2Kf7isx4HDmonUFSwxQCu87gVn9cP4EAQTbsOYZutYLJ3r7Ndw7ZpwsC8WYf1G4NoNYw9eh2860T7mLXyrMOzr0sobnbyIt8rakMsYMhQPFQ9NshAIOS8dxGHfaNJyFQ9x/98vQuTtvdCte94ETbyJ0PpNFdiw6zrmMuU6hf1aP3YNsSZylPYz8KS7StDeXO883b6uO/GmGd50IR5SvSzEswNWY3x0fK+Uu+d+LTHNSOfZXi1fkNZ/bMYc7O+qYO6l5XVB+sPRD1oSvDY6HFAbIGLGFQUy/p67Tez3xpt7+hD7narbuwTfcl4Xl30hBL9FCIxpqsTi8J+6F1Vxa9Em4iS1785j1SJMSd6EkzUCF/O+2vXid9JgARIgARIYCcT2CIDAWDs6S1mkTdc+7Sgdi7KJSYJxgTGnjD9MIfB/XrAJ7FCmMLgzAqmP9AmjZHJ6jqyZ6wI06+0YsA+Y9klr3Zv9Zsx9PzcfH7i5z24eM+aLNtyqzJWpjH4z69qk0VPZhFwUdTh+f4zV7GcKz/GA1ax8GlPsGoeKoAJtPaOYaHIEvrS5z3YqyvZ9XvR8/lSyQCUxuPtL6tZDFltm9g/hOxquKIkZLQnfqvfXMSAvaJd53lFGKcY6M/7Yc7a0+r3nVda0eNwbdWzRq9NRabqLQay4Arb8N6kdaqHWGHVt06UkK0chfvJCqY/OhD1EKl/FQc+msbKkygRM0CdbrDw0hZ9xx3FBbfKkddP7HpXRf8R7+vYN67OXUxZDSQwLgzlLe6dN3LEfbG8eoSH1IJp2LJX1CP9rMS4ashqj49PlnDxXdOoUv8zx7hm5Stapqhqyf5ZjHm0765eH7SUx3rs7RjC3A8OriV4yBwbOg6sy/HUGBfr6rH33TEsfDOGlDIWbJAHgZC/qrHPiInjOHbX8ObS4s84EKNSfuW0iXiOGHPO2B4/wmD1Kg44TjFYXzhvePgZW99ccvMeCZAACZAACdQggS0zEIggVaurftA1V8AvDe66SrdqT2y1RBt1+ZMKBFfhs56o+lSYz5a72uerctaV/KtYLcFVZYn7XPomC4n8h2n0xQaWisvt3Q/bbrWC7Q2KZSV5isshf1VsK+YSylM206A/iPZ4zj5RRtXikjxvGwbtt6lV0Pi+QFZxDGPvq/4kxqdN5RMrQXk/2Fs66vei7/LzGg3Le3SQKhiXNhZUdf0zaiBQclZXnsrt+NzQcUB7TzYWo0NwdUt7ZsXjpirjOT43lJ8lh/b+unCuXO4zjdWvD2DuRTCwxOZXEiABEiABEthqAltoINjqqvF5FRGwgrIFXgDPtZpZkQRM/LwE2IbPS7B28q9mMfiPYZyE+rcuYotNBNuIZbyBYBsJSVFeKIEVXHxLe1/+MRoA+IWKx4eTAAmQAAmQwBYSoIFgC2Fv50cZrtrKhdW1H3c7V+Ill41t+JJ3gEj1V73tUPVdmHS5zkfS1+oNGghqtWU3tF4yYGICqY+qPEVkQ4VhYSRAAiRAAiTw4gjQQPDi2G+vJz9ZxcLl8xjsPYy9LYfRc2YMcy/vkuP2aptypWEblkvq5Urniu3wUhFYwqQ6QvKjQUwuvlSVZ2UrIfDSvyuVwGJaEiABEiCBWiVAA0GttizrRQIkQAIkQAIkQAIkQAIkQAIkQAIVEKCBoAJYTEoCJEACJEACJEACJEACJEACJEACtUqABoJabVnWiwRIgARIgARIgARIgARIgARIgAQqIEADQQWwmJQESIAESIAESIAESIAESIAESIAEapUADQS12rKsFwmQAAmQAAmQAAmQAAmQAAmQAAlUQIAGggpgMSkJkAAJkAAJkAAJkAAJkAAJkAAJ1CoBGghqtWVZLxIgARIgARIgARIgARIgARIgARKogAANBBXAYlISIAESIAESIAESIAESIAESIAESqFUCNBDUasuyXiRAAiRAAiRAAiRAAiRAAiRAAiRQAQEaCCqAxaQkQAIkQAIkQAIkQAIkQAIkQAIkUKsEaCCo1ZZlvUiABEiABEiABEiABEiABEiABEigAgI0EFQAi0lJgARIgARIgARIgARIgARIgARIoFYJ0EBQqy3LepEACZAACZAACZAACZAACZAACZBABQRoIKgAFpOSAAmQAAmQAAmQAAmQAAmQAAmQQK0SoIGgVluW9SIBEiABEiABEiABEiABEiABEiCBCgjQQFABLCYlARIgARIgARIgARIgARIgARIggVolQANBrbYs60UCJEACJEACJEACJEACJEACJEACFRCggaACWExKAiRAAiRAAiRAAiRAAiRAAiRAArVKgAaCWm1Z1osESIAESIAESIAESIAESIAESIAEKiBAA0EFsJiUBEiABEiABEiABEiABEiABEiABGqVAA0EtdqyrBcJkAAJkAAJkAAJkAAJkAAJkAAJVECABqAo85EAACAASURBVIIKYDEpCZAACZAACZAACZAACZAACZAACdQqARoIarVlWS8SIAESIAESIAESIAESIAESIAESqIAADQQVwGJSEiABEiABEiABEiABEiABEiABEqhVAjQQ1GrLsl4kQAIkQAIkQAIkQAIkQAIkQAIkUAEBGggqgMWkJEACJEACJEACJEACJEACJEACJFCrBGggqNWWZb1IgARIgARIgARIgARIgARIgARIoAICNBBUAItJSYAESIAESIAESIAESIAESIAESKBWCdBAUKsty3qRAAmQAAmQAAmQAAmQAAmQAAmQQAUEaCCoABaTkgAJkAAJkAAJkAAJkAAJkAAJkECtEqCBoFZblvUiARIgARIgARIgARIgARIgARIggQoI0EBQASwmJQESIAESIAESIAESIAESIAESIIFaJUADQa22LOtFAiRAAiRAAiRAAiRAAiRAAiRAAhUQoIGgAlhMSgIkQAIkQAIkQAIkQAIkQAIkQAK1SoAGglptWdaLBEiABEiABEiABEiABEiABEiABCogQANBBbCYlARIgARIgARIgARIgARIgARIgARqlQANBLXasqwXCZAACZAACZAACZAACZAACZAACVRAgAaCCmAxKQmQAAmQAAmQAAmQAAmQAAmQAAnUKgEaCGq1ZVkvEiABEiABEiABEiABEiABEiABEqiAAA0EFcBiUhIgARIgARIgARIgARIgARIgARKoVQI0ENRqy7JeJEACJEACJEACJEACJEACJEACJFABARoIKoDFpCRAAiRAAiRAAiRAAiRAAiRAAiRQqwRoIKjVlmW9SIAESIAESIAESIAESIAESIAESKACAjQQVACLSUmABEiABEiABEiABEiABEiABEigVgnQQFCrLct6kQAJkAAJkAAJkAAJkAAJkAAJkEAFBGggqAAWk5IACZAACZAACZAACZAACZAACZBArRKggaBWW5b1IgESIAESIAESIAESIAESIAESIIEKCNBAUAEsJiUBEiABEiABEiABEiABEiABEiCBWiVAA0GttizrRQIkQAIkQAIkQAIkQAIkQAIkQAIVEKCBoAJYTEoCJEACJEACJEACJEACJEACJEACtUqABoJabVnWiwRIgARIgARIgARIgARIgARIgAQqIEADQQWwmJQESIAESIAESIAESIAESIAESIAEapUADQS12rKsFwmQAAmQAAmQAAmQAAmQAAmQAAlUQIAGggpgMSkJkAAJkAAJkAAJkAAJkAAJkAAJ1CoBGghqtWVZLxIgARIgARIgARIgARIgARIgARKogAANBBXAYlISIAESIAESIAESIAESIAESIAESqFUCNBDUasuyXiRAAiRAAiRAAiRAAiRAAiRAAiRQAYEaNxDM43Q6jdPzJYjMn0a6nHQliin7Z/m80yglVtnlbbuE9zHRm0bv5/dfmGT3P+9FOt2LiRcnQkzdvT6ZPlO7rR9TcfP2C38H2A5AmeOj2XL8RgIkQAIkQAIkQAIkUMMENtdA8DiP2d+eQPfhtFTA0wcP4ejx05i89WCLkG7TCfCLVo7uT6A37beJ+jzUgb4zk8hV2jTOurx4A8EWdbCafcz8Gat/pNM41H0CI9fzeFxRrWP6grPfVFQwEz83gW06Pj53vVgACZAACZAACZAACZBAtQQ2z0CwfAWZzjSO/t8J5H70VYrHD3Bn5pfoPngIJ77IVytzBfm26QT4RStH0kBgra6v38e1wQ6kO3+JG+uVIBbeF7Y3RIxSWEGxTPpiCUgDgeHl8BgPbo6h72AafZcqccuI6Qsv+h14sXi3ydO36fi4TehQDBIgARIgARIgARJ4GQlskoHAUwo6zszjkYvqgwfm/Ud3MHmmF4cOequWh46dxuRtPac/kZ27jysfHcUhsep96ChO/1ceeHQHE9q9U1/oyouaAD/Cnc9P4eghUf4hdBwfxqxun4gozOp5ecye8+U6eAi9v71hyg2vXOUhcaj7FCZs74gHOUx81O3VTZRxbhb5OZdS7QK1Sfci9fWf82wepw+mceq/HgPPbmC4I42+P1kuBeuzOHWwA8NfA5BKnr7SrIwOSim8Y3A/+tEV3H9m1unR7UmcPnYo8DDpPTOJO3rTKzfouVJtYZbryaYZLp6JvhO2w9Hjw7j2rfEgowC5RaF3Ane+HkGv7wFz6F/HpGz5ueHw3rER3NCKebx4BaePd3h9VK66n8KE0ZcVG9VPy+1rhnib/iVqIPAeKbm8PYY7AB78qQ/pjmHcsNr03qfdSB+fxAN4dRXbd4J/yujgGwhm87MYVu1/uBcjX2swxSOfeV5I3rubxqG3T2BkTn95gaCtbk/g1NteXzr09ilcWS6GyW4H4NHXI+jr9PN39uLUpzeQt+oWlvgIN37bhw41pvSewljWlEv0k7C8PgxHvC8eI389TJM+3I1Tn98xxpiS70fZHB8g9/mpwJvr0DExBs5aW7AeYF73+BJeRWK8ChiEzB75rOU2oq+H0ZHuw+SPIR1x9fj6KWf/MFPxGwmQAAmQAAmQAAmQwHYisDkGgpvuCaOz4o/mcbozje7fzOOBcDR49hj3Z06hI92BX2aVM7OnRHUczeCzv4t7j5GXabrR3duHMV8pfzB3WuYbvqme5OXrff8ETnya88oX2x5+1Y30wVO4pnSRiMJsPw94/PfP5OrpiS9ChfnOp904OjCJe3LFXa2wdiB4/rMchjvT6Bi8hvsijV+33s4Ox6q7knkLPiP1Vc8MFQBxRype3WO4p34W5P/Lm/Tn1D3nSrBXTkdnL355/YF0SX/846xs547fBDnxaP40Og52Y3jeSwOnF0N5baHECT4tuaTS2vsZ7snu8wj3ro/gs6B/BbmCC1n3jg70/mrW6zcPchh7P42O97rRO3gNeVnOPXz2fhrpf7uCoFfcz2H+20eeG77qywdP4EqgPJmM1T7wsG+7+1og2BZdxBkIDMPL+jxOd6Rx6rp6T4VwdzD2dhrhe2LX16+AbJ8OHP2/n3nvz7PHuPeHPqR1Vs/uY0Iwj7xjphdDpK0eP8DsGeENM4xcoNza4Cy5fMPX6eteSz7O5zDx2ytQZhw7t6f8nsasSP7sMfI3JzDy5zD1o+uncOi9Ycz73lOPl6/hVKfORbxffUh3nsK1ZY/f4++v4fTRoxj+2vte1vtRDkcAud8IHtqzhDy9HegwYq88xp1sDnnfg+jxj36fD95Zn9mZX6Lv+FjoGeYbgro/NUYKXPsoDf19txnyOwmQAAmQAAmQAAmQwPYjsCkGAjlh91cZS1U5XG00U975pBvpQDn1lMSjn4h1S/Wfp4h0nLuhbgiV1gqO5+VLf3TNWJUD7mGsW5u8RhRm1/MAqTR9dM1T/h5cwYl0JjQy+FLc+eQoVAC6B1+ccK6gybpF3PK1amz2ZaS+/gOlkqQpfLq3gEzyAJPH0zAUAUsR90ry2kFw11VHs194bRDxUHh2R7ZN+Iwy2sLFy5Lrxq/SSA/Y/cCV0a+BDHJ4Cte07RbSOGKvlFrPiZZ4H5+9l8bpOfWLu4+afdvqayrrFn7GGQjk+xq8l0Dk/RWryQdPYTbgZtfXr4TkdhRji1qldA+WIivQj4SRSnuG7Fdps60g+7hVvvaoyFjx/QT60kcxcttIFPslf6kP6bdHcMdpgMhhuCNaluw/vROe0SHybvmPCsor8/0ogyPkWOV7/eg1WhxDt2Eg0H/0r4W303uf+YYS/73Wjat+soi3wI+T6Et3Y+xbR5m8RQIkQAIkQAIkQAIksG0JvGADQYzyIHD5XggT34svnpJonkbgzisVm18po4GfL1DOwnaQiryarEcUZtfzQldmuU4oJ+aa67TuRu2XK2U5PRs+VF0tjuHoNjMQiNXCiYEOpN+fMLYB3DjXgfTgrKfoy0m/5UrsVJDdbWOsPkeYKzj+auf7E/ActstoizBreGXLJWJiHPVd1P+U8zw6wtSRK6l0qv6hfrXLFPdlPfrg9VNAul53+1smxBaDo9042qGf6GCzqbJ+SqZN+owYCIQ3xHURP6QDp+eV6w0ASxEU/aW40c4X2MXSMvBFZFB1lQpvGr/MejecbeUcM1QB4tNuB7FlQGwnOoTeMxOYXfS9WvQs+vWjGxjpPYT04V6c/nwWd1ScFVm0IwhoMD74216c9dceUO774SzHqpufZjYwPqjneEbWYFwV2znOqW0TYhtXB3rf1r2dvHLTrjHN35KkvEnk9hO5zUQ9i58kQAIkQAIkQAIkQAI7gcCmGAiUcm/vSY0CsSayeoLnMRCofc5KSdg0A8FpRCfdYSViDQSybtr++DDL1lxJ5cMybhw+6u031pf8hTTfilVGzyggFTFlLFCSlqOguNKWqwCpNrROBXQrhepBKj6CzfgxHn07j4lfncDRgx3IaC7hWk556SzfVVe9Hg+uICOC+P3hHh77ytjjRzmMvbdDDQSBUiv6yiF09DpibOAxZgfTnlFAegDYq8Yx77iLpaW0b62BwO8B63ncmRnDKaH8vzeCXOAJYfcQ7/vj/B1c+/QUeg+l0f3bnGdIk32iG58Vi4HgrL/2DL1fabfFpdwuoAxoznIs5n6a6FglPB3CY2Dv/FZsQziNWWXsePYYj2ZOaduhvHK7/xBupdBFC71JvHTKWKCn4TUJkAAJkAAJkAAJkMD2JrA5BgLlwn961nLt92Hk80HgKzmptFdqxU5mxxaDYKVLFmNNgv2iTaXCW52NbjHw8gb7YyOT8TJWdf1VzGKTYG+LwWnMW0rGtt1i4OyrngLY/ekVjHU73JTLUVBUuUZaz4VaBjlTv4vPmC0GZttb3hx6fnVtPEvdDD8fzWSQdvQ7laIqA4Hzmd4qbVhPu9+W0deUUFv4ab5HJR4sjEgHT+HKF6f84IR6eru+/m9OVmZatc/ffn+cWwwibenmGkpmPiu87189u4ORt0PlOfK7feP2iOYV5Cne4TYZO7GI8CiMSY73KVjlL/P9KIOj2mJwet6y/hlbDNw8vG01ytDmThPUTm6b6MbYn8fQ7QheGaTjBQmQAAmQAAmQAAmQwLYlsEkGAgD6MYcyopvYVOw45lAFKfzVrBHIzxWk0FQS3ZNVU7HxlAQzSOEDzP+mvCCF5vOiSmnut0eR7sxgUgZOBGRQr+NHcfqvvgu2ClKogqxt+yCFMf1URilPO+MpeN4ivd5q6bPH/sq5u22MLQZAEKTwl9fve/mKBCks1RYRyQ3FKY8r/9aLX87c8QNhPsCNc91ID2jBBa0CqjIQ/HgFJw52QJykIT0IHj9A7pM+eYJFTRsI4MWmECcVRGJK4AGu/FsaHb6x8PFjX0k12kfBt/pNEKRQHZWqAoE6ghQ+p4Hg8c1h9A6MYT4IGDgp29Idk+Axcr/pRebTeX+rymPk/3gC6c4RebqDqM2DP2dwyA7Aefooev8QBvLzghRmgpNPvKCA4RGwKkhh0fejHI7K60AfqxxBCqVnQu9IEHxQBFY8fVR4j5RpIAAgtySlfY8S1az8JAESIAESIAESIAES2DEENs9AIBA8uodr+rFZBw+h+99GosfL6UcBymMIY445NNzMLWXCR+4yEIg901Udc2g8L2oggDjm8E+ngyPvXMeUeccwhsfriaMSxWkL4aT7BfSViMdEKRnuYEScNGFEKVd5HmH+nDp68gSuyJgR7raxDQSihAe3JnBK7dkXx6rFHXNYsi2UPP6nrTg9yGHyjNpfLY66HMGN4OgBK686wcFWOu0yRTaL5aOvx3BCHbXX2YfhuRv4rHeHbjEItupE+dh3pEeGFjjQ+H15AifUUZG/8eODuFhaWwxkGeLUEW1f/KHu+GMOTcf3Sj0IxJGDIzih+qI4cvBP94wgm0adhFza2CaOOJ381lyhz8+NBH1B7Oc3jwwUpdnHHPbi9J/MYw5Lvh/lcrSPZBXHcz6wjjl8dh/X1HGzYqz+aAJ3ZvSxKua91sHcHkEHgxPqRHhNAiRAAiRAAiRAAjuKwOYaCHYUCgobIbD+WCpI3kqmflRfJCVvvJQEHuOx2D6jVvqD4/BeShgvdaUfrwvjyCPMi+Ml9WM/X2oqrDwJkAAJkAAJkAAJ7DwCNBDsvDbbIokfI/f/duOQCFR36CiG9cj1WyQBH7PNCeSvIKM8A/7VPP1im0tO8TaSwHoOI77nxaG3h8GhYiPhsiwSIAESIAESIAES2FoCNBBsLW8+jQRIgARIgARIgARIgARIgARIgAS2JYFNMRCIYGX8Vx6DbdkrKBQJkAAJkAAJkAAJkAAJkAAJkMBLR2BTDAQvHUVWmARIgARIgARIgARIgARIgARIgAR2OAEaCHZ4A1J8EiABEiABEiABEiABEiABEiABEtgIAjQQbARFlkECJEACJEACJEACJEACJEACJEACO5wADQQ7vAEpPgmQAAmQAAmQAAmQAAmQAAmQAAlsBAEaCDaCIssgARIgARIgARIgARIgARIgARIggR1OgAaCHd6AFJ8ESIAESIAESIAESIAESIAESIAENoIADQQbQZFlkAAJkAAJkAAJkAAJkAAJkAAJkMAOJ0ADwQ5vQIpPAiRAAiRAAiRAAiRAAiRAAiRAAhtBgAaCjaDIMkiABEiABEiABEiABEiABEiABEhghxOggWCHNyDFJwESIAESIAESIAESIAESIAESIIGNIEADwUZQZBkkQAIkQAIkQALbn0B2DnUdc5jbIElX/ngVdR1XMbayQQWyGBIgARIgARJ4wQRoIHjBDcDHkwAJkAAJvCACUlm8jLoO69+v75oCPflfTI9cQ9NbXrpXf/Elhv62aqbBMyxN/wWtIs1bVzDwF+v3+18j9e5fkX1iZdvCr54ya9Y18e41DPxxCSvVyLXByvaWoNiJMm8JGD6EBEiABEiABDwCNBCwJ5AACZAACbycBISy2JvFUrHaP8tj7IPLaBq8iaX1ZwCeYPVWFgfevIwDf8yHOVeEAWAOc2vPgB9y6HrrS0yu+T8/uouBnqsYuy/yv7j/pIHg+NcIF7ufYP2/l3B+cAp17/4F0z9UKN9OVLZ3oswvrsvwySRAAiRAAi8hARoIXsJGZ5VJgARIgAQA/O0vqDMU5iiVpT9cQZ1Y+bd05/W/fIn6N69hUjkKCMUz8Dx4gumhyxj8RpT3CHO/voKuaWUtiD5jq+5EDQTqyY8w/e+XUf/BTc14sIa5332J1rd9j4O3pnB45C5WFQepaOveCKGb/frfcxgYmELC98x49Rd/wdjiI/Uw52fpPHcx0HEZA39bxdzIVbz65mXUvTmFA7/7FutaiavZeXT9Ygr1/rObBv6KOd3wYRgI1nBx4DJeG/lWK0FcruD8Ly7j8J+9Nlv/Zh6H3/Xqmnj3Knr+sGRx0LYsPMtj8t+vBPLtHfgrJv+7eN2th/MrCZAACZAACbxQAptiIPj++zz4jwzYB0r3gYhrs+3qzO9R928yeSmZbMZfyniFWT3tPs73Xkbqj/+rboSfz77F4DuXQ8Vf9yBYu42+dz0PgpXLV7H313cNJTYsZGuvitb3v7No7ZjC4C0lUwFLX3+LVek1AWD1W5wXnhSjmjJtKNsqn9Cvv8WcUoqfFbDy5V/QpBtTtKTBZck8noGgqedLjN0rAHiG9XtfS08O3fiy/vclZH8QvwtnjzVkx6+iXjfwWDKvZ+fw2pt/wbRuZfh7Fns7rnkeIOu30ffmFPq++sl75g/fYux3C6EhxSpPGpSOZ7Ektmw8eYSlr+Zx/mtfnqCyvCABEiABEiCB7UuABgIaM2jMeYF9gAYCfQWS1+wP8X1gM/6MSoX5nas4/K/+irNYJf/1TSwEC77+qnXW9fT/xdjxy6g/rzYo6DEIrmJQxCi4/zUO9ES9D1ylbcW9ogYCeHV1GkOUcMLjou/rcEuGpRyrZNHPPMb6LqPvb8r9IJoiesfO48m3d/y+lvQZ5n59GXX/vhBvgHl2F30iiKDKFpHZ9BYQhofsyBTqh257Zf7PTRzouIKhxRjZrfKy5y+jbrCIPJr0vCQBEiABEiCB7UiABoIXqBxyhb30CnutM6JCGK8Qkg3Z6H1gM/6Art+aR9e/f43sqljufYb1H7xV8tDVvhIDgSWh8DCQcQeeYPUvc/HBC61sm/m1IgPBM+HKHwZmrHtrCqneKfMEAEs5VrKvL36NHs3N/9WeK9j7Townhp+pdB53W5h1eobVv/012A4g+k/T8StoElsTlJHHIfPqn6+h7hd+LArpGTKFwW+UQeARsr+7ioTYzvDrrzH9d2uriF3e/Rx6ei4j0fslhv78LVaUB4aCw08SIAESIAES2OYEaCCggYAeBC+wD+gKEK+pELMPxPeBLftbKt3L1X56f4vBhBaMMBDE2mIQ3BcXXtyBA5f/F1hbQJcIACiCF64toEcPXmjk2fwvpjJtPc/aYrDwOxG4cA7T0ngi7CcFrH75l9IGAlFfEcBx4j4C3fjRMs73FTEQlJWnDAPB4jyaOqYw8JVS4p9h/acF9JUwEMDfRiCNAtk51CtjgY5ofRULX2bRI7xG+uaRVVsSbAOBzOMFfxw7fw1735xC1zXHFhW9bF6TAAmQAAmQwDYiQAPBC1QOa311nPUr7SFBhTBeISQbstH7wKb83XziONvv1l/xWsdVXPwf74mxQQr/9he8FrOv3og7IBTIs+rYRD144abUqGih8QaCR5g7O6UFKfS2T9jbDURgxroOLSCfSzl23UORWA5C4rLylDYQOOu3voCeUgYCAKKd64dymBwKgxM6YT5bxlBvcY8EPd/6l1+WDISpp+c1CZAACZAACbxoAjQQ0EBAD4IX2Ad0BYjXVIjZB+L7wIb/sVxfwuC7l7H3bA4LapVcBeLTgwqKdD3imEO1FSE85vDwZYdngYw7MIc5FcdgLYeud5QHQRi8cMPrU0aBUQU6POawvsc/olGW8wzZ0SnUHZ8Pt1/cX0Bfj2gfzUDgG1Pk8Y3PnohdGsBqDl1vTqFnOu95EMhAgdeQeLOIB0FZeUobCHDrr2jquIqhW74HwXoek2evyBMNim0xkFVevYnDMgDqNVxUJ1OIH279FQcGs5i77wca/J+bsn5Diz5ww7ixisn/5yoGvrwPb9fKT8iOXEH94AL0Iv2c/CABEiABEiCBbUlgUwwE27KmFIoESIAESIAEdAJrK5gcuYa9/lF+9W9fQdfvtKP8VNon/4tpbT++PLbv/xNR7a3/Ht3FwLsiIJ7avy5+f7a9YhBYp4Ak3r2GgT8uYcV2pniWx/Svw+MEW//9ayx8OWcaCMRWipEr3nGGb13DpO91sf5NFl29nrFHlD/4tyUZ0NH2SNDplc5ThoEAz7D05RwO+O3pHa+44B2PWCQGgSfHI0wOXg6DEwbCPcHKV+HRiaKP9Px5Jfg14v2wtoyLvw5jNzQNzCMrtpfwPxIgARIgARLYIQRoINghDUUxSYAESIAESIAENpjAk4Ln6SA8P94UxzxSmd9gwiyOBEiABEhghxGggWCHNRjFJQESIAESIAES2BgCq9Nf4tU3L6PuzSk4t4xszGNYCgmQAAmQAAnsGAI0EOyYpqKgJEACJEACJEACJEACJEACJEACJLB5BGgg2Dy2LJkESIAESIAESIAESIAESIAESIAEdgwBGgh2TFNRUBIgARIgARIgARIgARIgARIgARLYPAI0EGweW5ZMAiRAAiRAAiRAAiRAAiRAAiRAAjuGAA0EO6apKCgJkAAJkAAJkAAJkAAJkAAJkAAJbB4BGgg2jy1LJgESIAESIAESIAESIAESIAESIIEdQ4AGgh3TVBSUBEiABEiABEiABEiABEiABEiABDaPAA0Em8eWJZMACZAACZAACZAACZAACZAACZDAjiFAA8GOaSoKSgIkQAIkQAIkQAIkQAIkQAIkQAKbR4AGgs1jy5JJgARIgARIgARIgARIgARIgARIYMcQoIFgxzQVBSUBEiABEiABEiABEiABEiABEiCBzSNAA8HmsWXJJEACJEACJEACJEACJEACJEACJLBjCNBAsGOaioKSAAmQAAmQwPYlkL/QjsShceQ3SsT5DBKJDLIbVV5Z5eQxfiiB9gsbVouynspEJEACJEACJLBdCNBAsF1agnKQAAmQAAm8WALfTeHYPody+DSP2XPdSDUlkUgkkGxKof9CDmtPNXGfLmPqeAqNiQQaUxnMWPrl8u/b0XImp2XY4ssfJ9CZSCIzH33u8icpJN4YxaL909MchvYk0Hlpzf7F+Z0GAieW7XXzhRhdthcCSkMCJEACJFCcAA0ExfnwVxIgARIggZeBQH4G/a0taNljGwgKmD3RiOSRUeR+9EH8mMPokSRaPs6i4N8SynHLyVlpNMhf6kZj7xSUWl2Yz6DtyDiWdYPCljNdw9Q7CSRP2uvx3op5IpHC6D1LqJtDaE50Y0pVxPrZ/koDgU1kG36ngWAbNgpFIgESIIHtRYAGgu3VHpSGBEiABEhgqwk8zCKzrwWZ+cWoe3l+Au2JNozetYT6bhzpRCcmfKNB9mQiXJ1/Oov+XUOea7wou7UbU8q4YBWzlV8L1/qRaMggqxsqVsbR/sYoxs82I/XJsiFO7kwzkidmAyMI8rMYerNFekkkdrWg88ws8lpZykCwLNId2Y1k4G2xGJZhPEH7spbD+PEUdjckkGjYjXZR9pxji0ERGdYudSKxZwg5TSbxhNzZZiS6JgKDTX5uCJ37GqU3SOO+Tgxd19093FsM8nPD6E55eRK7Uug+V13dFaPFm8Nolx4pSex+ZxSLDwEhV3DvyDByDzU+8H6PlzuLTCKBzFwes2faQ47nciF7aRxIyHoLT5hEoh3jK+Yz+I0ESIAESIAENsVA8P33efAfGbAPVN4H0uk0+I8M2AeifWDT/lxL40AS7ReEcuxQDoUCnUhj/DtLAmkgEAqZd1/3IFi7nkGL9CDIY+JIGzLzys/AKmOrvxZm0d9gbjMQcreNLAK3htBstkdPZgAAIABJREFUxA8Q2wuS6L/uy/5wFv1NKQzN++4EhWXMnGhB8p3QU0Iqv2+0o/NIBjPfefnWbo3LbRsp8Yy4/8RWhn0JtJyYwbLI9rSA5av9SO9rMWMQlJLBUT/IbRJhPQrX+7F7/xCyvsGm8N0M+vcl0T2p3CSifWD5QjuS+45h4q7PwvcgSR6ZCOItlFt3mW5PC9Ife94mWPO8UZr3p5A+MeMZXJ4uY/xI0mBbWm7PQNDSegzjvpyFu+Nob9DrBoAeBHG9kPdJgARIgAR8AjQQ0JhBY8426gNUDKOKIZmQiegDm/LfwxyG9jcidVatskaVQ2E0mBDKmmOLgViFDYLZ6TEIDg5hNg8IxbLt7AuMOxCBJrZLJNEcxEJYw0RXM4ZuiYTCIKCtKAuDgeZtIFbh285bSn5hBv3aKrRUfsVWBcvbQii3ySJbFdYmu50r/4sjKcNAUI4MEa+H+QySgVeBqGMbhm+bYKRnRWAcsfqANDo0Y+immQcPZ6SxRRlQvLpr/Pzkdt29dP2Y8W0NIpl8vuaNIrMKuYMAjeXI7RkIpLFHEzV7MonE8RnLi2CrAz9qAvGSBEiABEhg2xOggWAbKYdcca98xb3WmFEZpjLMPuDuAxv+1/ThohdH4GQYR8DpQSAe/HAREyc70bLLc8/23NIn0J9IaCvPloS3hvy4A3nMnIwPXmjl2vyvusK8NoVuoTz7TxUKuApIKK5DQ4KnNHtu6bqLunetAh9K5ffAOMyNCkIDFoYEbQuGVUuxPSPx4ax1F8DdUbQFSnJ5MkhPiIRSwD2DSLB1QnqDROX36qWUZstAELvi7sd0+NiL6VBu3WW6wBjhV9n1DClrOybE7oey5Pa3GFhBKCPPcz0rSp53SIAESIAEXmICNBDQQEAPgm3UB6gcupVDciGXDf87LZXPOGVR3I+uBhsyCOU6oVbfjV8AGXegHRMrwNoXx9DyoedOvna13wheaOXamq/S5d5bERcr9826h4MISii3DIgVa33V3FOa07+PqP6GzOUqyUYmALEGAuHFYBkISskALGM05Z+8IA0TYZwIT9F2bBcxBNpeBgIZIyBum4shNw0EBg5+IQESIAESqJoADQTbSDmstdVw1qdyjwgqwlSE2QfcfaDqv3IVZbSUwyJ5ZUC81Gh0tVxuSQjjDsjghX6cAujBC4uUvdk/Se+As1nMHLcMHNJ40I2pa0No1jwLhDwiT8JZ31BaaSBwbTGYzxQ9DcHbYpBBVnO7F6W6thiUkkHkk23TNYHFS51mkEW5jSIRCcYY1kBcWX3A32IQiSNR7hYDq+6RFX3xSNeqvu9B4AURFAabUnLTQGC2I7+RAAmQAAlUS4AGAhoI6EGwjfoAlUO3ckgu5FLtH7nK8lnKocxcQPZkGscu5OQRhuLW2vwQUg3i1ANLo4Ufd0DbtiBX6ZUHQRC8sDKpNjy18J7Y0xwxAojniD38zXuiJxrgxykc25VE6mzW4yADCWaQEsc3+gJK5dcKUli4O1F+kMLeCSwKpHFBCsuQQYoilfoWtOzTvSA8IYVHR2ODFWzxw5QfpFKkifYBFaRw/KYfyLDMIIWuuldnIPA8UYrLXaaBQHpltHtBN8VpD9aJD35T8oMESIAESOAlJrApBoKXmCerTgIkQAIksGMJRJVDWZWVWQy/5x/Bl0hi9/5+jN+OGgcK8xm0HBrHsq50Pd1mMQhkhTw3fGN7gWozsc1AeAHcUze0z7zHoVEekdeIlje9YIwqhVJ+qzrm8OGieczhuSzWYo45FG0RJ4OSRRg6XEceit/NIwvt4xrdfSB/PTwaMdlU4phD/yhIka7/gnnEo2KkH6xY2oPAq1Vxucs0EKCA7Bmf365uTBmCKHr8JAESIAESeJkJ0EDwMrc+604CJEACJEACJPDcBJyK/3OXygJIgARIgARIYOsJ0ECw9cz5RBIgARIgARIggRoiQANBDTUmq0ICJEACLzkBGghe8g7A6pMACZAACZAACZAACZAACZAACZCAIEADAfsBCZAACZAACZAACZAACZAACZAACZAADQTsAyRAAiRAAiRAAiRAAiRAAiRAAiRAAvQgYB8gARIgARIgARIgARIgARIgARIgARLgFgP2ARIgARIgARIgARIgARIgARIgARIgAUGAMQjYD0iABEiABEiABEiABEiABEiABEiABGggYB8gARIgARIgARIgARIgARIgARIgARKgBwH7AAmQAAmQAAmQAAmQAAmQAAmQAAmQALcYsA+QAAmQAAmQAAmQAAmQAAmQAAmQAAkIAoxBwH5AAiRAAiRAAiRAAiRAAiRAAiRAAiRAAwH7AAmQAAmQAAmQAAmQAAmQAAmQAAmQAD0I2AdIgARIgARIgARIgARIgARIgARIgAS4xYB9gARIgARIgARI4KUjUMgis6cd49+9dDXfkArnL7QjcWgc+ecqLY/xQ4mKy5HPTrRjfOW5Hr7BmbPIJBJInMxucLnlFidYNiMzVyg3wwakK7fO5abbAJFe2iJqgXEt1KF2OiBjENROW7ImJEACJEACFRDInkwgISb19r8jE6HiM5+J/m4pAoWbw2hvSiLRsBvdnyzCmKI/nEVmXzcmnk+TqqBW8Uk9xcqsb+O+TmQuZJF/Gp9vI37JXx9G98EWNErWSexu7UTmUg5rm/zcONkFi+aTWbOt9MRP15D9pBsp0a5C5l0tSL83jNkNVEo3RsnWhd66650ju2eEaL+wcS/gdqx7YT6D5jiDzY8T6EwkkZmP9o/lT1JIvDGKRfunpzkM7Umg89Ka/UvR79uRTVGBi/0ox/4MXpTJJ060mmIcV8kK75NJhcDKSE4DQRmQmIQESIAESKD2CYhJdkuDtaosJomuCbTC8TSLzK52jN8D8DCHoVQLhm/7Pz5dxviRNmTmDZOByrnln65JVOFeFqO9LUjs68fMxulQWt0KyH7chsbWYxi/mUfBNwis3Z1ApjWJ5JFRLD7Ukm/FpfIeiFX2hcwtUrbcj75AD5eR/eQY2ro049Fzyupqj+cscsuy7xzZXwYDge89EDvOrGHqnQSSEe8Gj00ikcKoGL/0/24OoTnRjanK7APYOf1Cr2zMNQ0EMWC23+2a6nfbBC8NBNukISgGCZAACZDACyTw3TjalaKvizGXKe4CvTKOdm3lTqzIdV7yNO3lC+1oO5vTS3uh1/GTqAJmjgtl3VJ+Hy5i/HgKuxsS0jsidXwcOaUwSAWiExNKgfZrtjbZjcSeIeR8Q0D+83Yk92WQdRkBHmaR2ZdAy8fhSr6ScTk/i6Eju5FMJJBsSqH/guWZ8d0U+ver39vQeWYGy65nOIiLNmo+U6xdshhsSKD/WhHDTkz9C9f7kQzqX0DuXCdadgmvjUa0HOzHaNbrG7KehueKtlJZjDsQKGGLynMlkcTudzxDS35uyPNmEfeODCNXgsna/DC6fY5SxjeHMGsbilZmMfSm7/2xy2uLRWuLgWq3SmWSXjya4hqUc3sc/alG6b3RmOrHlL4VxFbcni5jSuunbW8OYeaeaDulAGteM+pZqoynecyeacfuBp9/YRFTJ1WbRftefLu5DRH5uWF0+/VI7Eqh+9ys4a1TVn0dfVi/Jftc1wTUq6n/pq4L1/qREHXUPXbE2PXGKMbPNiP1ybJKKj9zZ5qRPDHre9h4rt/CA0H1L88bwaxz+WxUvkUsXuhHyn8/UsensKzLh4L3u+/FI/rB+O1FuS2lqEdIiTYEwvrolTb6ouwfWr+xtrSU3a6VvqMlZC+fsVezUnLCfw9mjfG2HcM3i4x9ouhS4698r9R7lMTu/aLtVJkh/2L9Sb2/7ReWg36XEOOaUZY/HsaMpcK7r3OfP47sS6P/k833ltP71E6+3hQDwfff58F/ZMA+wD7g6gPpdBr8RwaV9oFN/UO7NotMaxsGHStwagJv60yBPLoHwdNljB7yPAgK2UG0HRm3JrxBrhdyUbQu90aRSjRj6JYv2tNFjB5ow7FLi96q/9M15EaEsq+U/2WMphIwJ+prmOhKaMpGaTdlqdxoK5VSxjfa0Xkkg5nvvAnl2q1xHNuXQGpEOUL7z1ZKzcNlzJ4bRVbNP4vRfTiD/l3dmLIMG2YWr/zmD5WCZP7qffOUHFOxEoaWBJp9o5BnLMhgVmhuTwvI3xzH8BdhT3K2R0nu/oR4TwvSH896WzTWchg9kkTz/hTSJ2Y8BVR6rySRfGequOJ4N4tc3gcXaWMAP06huyGJ9hF/O4hM04m2fc2G4UzWpQqZDKVMGT/0cp6uYfak8HBR/Q5QSo1y/ZZu8odGvXftaQHL14cxGnQGpYyG3GX7ScWoH4Mfp9F/dTnwbBFKSW4+/F74bgb9+5LongzVb2e7+cYI/X0QBsLkvmOYuOvz/dFrJ90QF+Hmqq+r+6l7or+kWsL3Vt23Pwuz6G8wtxmIZ7eJd+rWkLU9Qby3SfRfVy+Up9D1fzwo+9eyuu2oc3lsvDZp3pfG4HWf649iK1YCLZpBdXEkhcQ+4Xnkp3m4jJkTbUg22OOOXdlSbRgqqHpOuy/a/Uylrapdy35HS8keGgjNHh3t5+XI6dWxBW2/GMeiaNenBSz+vh3JhmJjZInx1x97Wk7MQPWV/NUM2lqH/DG63P7k1antSCfaP/TLEuPPhWNoEV4vd1WLxDCRfb4ZGb+PFfI5jJ+bCrcPhtl55SBAAwGNGTTmsA9saR+oVDFkehoTRB/YvP+WMX7QWykSK9XOFb497ej2V7PFXvTOkxOGW3wYg6ANx8RKt1gZby02wdq82hQr2T15Vzm8SZtScKQnQO+MtUd/EaNvhErG2qVOJFKjCNYexYpkQvMqkN/bjImcelrwKdMkgv3RUkZrtU6kNQ0J3gr/sauBphIUV+pCKB26EhKXvnB7FJ27EmhMdWPwwgxyckXaTO0ZADTFVe71Dt21hfdE4o1hLBqromEZrvYoh7vHqB8zWvXlCrHOXjxmPoNkQvNMCB8df/V0FplEOgjemDvbjERkddrzONGDFFYrk62UucqB3Y/U6r9fi+zHSSQifVVVMao4yV/8FeLQ6KTSRz+Xf59G4sPZ4AdXu4Wrnb7a5isnQzeDbN6FMFA1hMp3WfW1itC/inZvLGEE8tIXMHsiqXnOCGOeMggKg4AW9FEYDAxvA29sEO+62ZejbMtiozw7jpvji8yrtnP5Bo3QSOHX2o+NoMYpnUWxa7MNn8NA8BztWu07asoeowzbxpoy5fQMBNYYLYzeRT2oio+/kXFRNUwwDpbbn7z+pY8zXlFeX05o/d7Z7/ITaE+0hVv+lBz8LIsADQRUDrdUOXStKPPey+VpQIWfCn81faCsv2jPmahwT6wWmi7vhVvD6Bau9f6Ks1iFEKu1+iqg+Vix39eLOyCUzO644IVmpi355pxEBU82DQRScTPcNkN322ByvjaF7kQ4uRQruaFbMhBR7IJnaRcuA8GB8dDooJIWZtCfCA0Jy5PH0NbQiNR7w5i4Ga74quTOz7K8B7ScYjX65gzGz/V7bqq70hia09btpLISKnvSYKIr0w9zGD7YiGRTOzIXZrFoeS242qMc7q58ztVOyba9aIBM4eKrXHC9bRAptAScvQl6+veBCSiAI5UdbWtNtTI5DQRaud4DLYXOMhAId+djrUlpzBm+lAtWLb28USVW3pdlhIaQoGL69g65vaUNqVaHt0RERus5tozBA/x4AB97/g9ObjEu8EER6qJc7wGVXhiM1PYX8e6Ka/83YQhSAQnFtbkFx+Mf7QdWnZUHSCk2tjKryZdQBi2/77pOqhB9JhiDVF79s2QbWv3Jz2v3Rec79Tzt6sprv6MlZS/TQOB6lqyn2f+cdYxrH41xsfE3wlHL512W259KjD+qr8T2O7HFK43Ght1oPzmO2buhF1BEJN6IEKCBgAYCGgjYB7a0D1SjHDIPjQqRv16bdMNb5Smx6np3FG2OVW4hkow7IPfUL2J4X7sX/OvpIob14IWbJHupYt3KiJ/L2mIgJ3naqqm7bH1VUngXNMNcMa1yi0EZBgIpj1Dg58cx+E6bdOWeig066EmfO9uibVNw16jY3bXrGTRbAd2ke7s0CojJbGgs0Msp5Bcx80k/0ruSSJ3LBV4ZrvYoh7srn3OiX0TJkvLdHkZLoiVwwRX3Cmu6ISZ+gi49HTRFsFqZbGXCWY6tMMcoPyLg5vjH3WhraMGxYCtHVImVdffLmA1WNcXdNUz1CuOf724tbj0tIDeSjm6n0Oouy7OVqhgZ5TNEwMANMBCINmi0VuE9WWL+Lw1a3jsq8qqtMDK1iKkhV2TFO2u/x75CPWeXG2Xrbj87nf3dL1dnJg2CjveppAdBOW24/QwEniGkHNm3h4FAtljM+Gu/03avCWJAlOxPXj+JGqYA+++0u9/5Ty7ksXh1FP3CWLt/GDnN8yoqG+8oAjQQUDncUuWQ3gIvl7eAq72p7FPZr6YPqD9aG/m59l0+UNZUuXLi0TAYHm1lKBB+KuGCm4iuzBpxB4Rypim6QpFUwQvVs7b6M34SVcDsh82GV4RUABv6MVtqMiUUiz1DyGaH0KxvN/ArJ4MU7slg1hUsT66Amh4bUkaH8UUe46bFKjDZFTDTW2JVUeyl39WPGZccZmHy29qPjtUm6X4fejHIhNKVN4XRq6NIqdVZR3ny1u1htJVY9SqHu7MddeVKPb+EgcBZjuWpIbcYRJThmC0GdroyZLKVCadMZRoIVLULV49pCn0ZyqjKaD/Hv7840qaVV6aC5rt4R04wcW0xsLnFyBGIKS6EorzP3Idt/B7zRXoHnM1i5rjaXuAnlIp3N6auee+z8izwfnUr1JFtFbEruXYb2N99Gaz+Igx6lccgcMtqtqHL4OHFT0moIJZCJEseKeXztKurPOMdLUf2je1/zjraxi6/eeI/zPF37YtjoaeKnin4W+quZ7Q/ef3EtcUge7IZJbcY6M8W18JQ/4Y1fttp+D0gQAMBDQQ0ELAPbGkfqEY5ZB4aFYK/Wht1oSLo94bbB2AHyipkMbgvibYPJ0L3cD/QWMvJMPK+FEnGHdCPSPT29crjw7TghRslfjXluJQvdcxhsnXQC6anCn6aw3BrEi29E17wKrG+enMUnSk/6J5KBxGwKomWfaGLcvCTuHiax8wJNdEPjzks3JvF4P4kGrsmjECOUkYrSGHh7oQZpDA/he6Dg5hRLqNrWQylkjj2hUOp94URUdnL2W8ukottJamGRqTPzGAxEsBvMBIMUZSdSCQst+wCcmfbceyTbODynr/UjeS+4eDMeWkMUMYTNXkug7urHZ0TfUP5MFrF+3JrCC0JEbHc51ZYxsyHbfLkCC9KfRikMHU26wVELBak0FZ0SypEwPMbCPKYei+NwauLgXzZMykke1VwRs+lOgg4qTi7ZBMeBO8k0Syi6fuGMdnndyUNA4Gz3RxKlQoSFwTZiwtSaHMrw0AgtrMkK/EeUM0vvJ/2NEujnmkEAEQ/bt4TPdEgWPGdV4Woz6iiXx6baD5ZYqRNqjnFoJw29PewHxr2TmURgfkuZZDel4BhIPANwePiBA3Rb/y+U3W7RuqntmGp+A/lyA6Ux9jzZhNBMov1P+e44ejLqsXlZ6nxVwUpFH9b/aFFvEftIjis3KFVmYHADFIo2ioapNDFpHBzCO29o8j6wW6xMoHuBu0YYqNS/GIT2BQDgf0QficBEiABEiCBbUdAHMV0rhsp/xgt7zg9P1q7EnZtETNnOtGmpbEDGUJOiFqQmTOX27dlDAIrrkDjvk5kLsQc/fRwERMnxRFwIv5A9HipAJEIVmgHyFM/+p/568PoPugflSfKau1E5pLFWluBlMcc+kfruY45XLs1gUxw9F4LOs/5Cqz1XPn1xwl0luMNoecV7X6uG2n/iKxEw24Z7yByBKDII131w+CEQTFG//L4TejnzT9dxsQ76qjGodBrpQT3DTMQiC0xVzPhsYjy+LAZZIIYBH5NxBFoAesU+i8ty600+spetTI9v4FAWK5ymAiOJmxEy5vDyOq2ou8mvFggot+d9c8+cClroroPcxh9L4VG8Z6IgKRnZpH9fbthIBDve7Td3Epv/noY4yE2CGqlBgK52u/ob0HHK3bhn9ChnRYQpJZHd7rKLVehE0p0OWzcrNzKaiCdd+GvAuunSlgpymtDf6+/184p9E8uY/akZSBAAcLY5KVRyq33tKra1dXnbCPeFvc/N/OY9tFAlxx/7WMOj2Qw4TjmUCtSjP7WEZbqu3fMoRcrJebvkLPfAfLvTnAcrjd2mc/ktzgCNBDEkeF9EiABEiABEiCBLSXgVDSfS4IChDtq0aBmVZZfkPYgUX5LyeMEq3wEs5FAhIB4R5ptD6ZIqp1/I//5Mc8DR20LKixj9uMUkvuiXjw7v7asQZSAMhBogWGjiXhnkwjQQLBJYFksCZAACZAACZBAZQQ23EDw3Tja92Qi2wIqk8qRupDD8P5GubWgMTWErFJiHEl5iwQ2jMDDWWT0Iwk3rODtV1DhuyzGT4beW9KLR5woo3uHbD+xKdGGEaCBYMNQVlEQDQRVQGMWEiABEiABEiABEiABEiABEiABEqg1AjQQ1FqLsj4kQAIkQAIkQAIkQAIkQAIkQAIkUAUBGgiqgMYsJEACJEACJEACJEACJEACJEACJFBrBGggqLUWZX1IgARIgARIgARIgARIgARIgARIoAoCNBBUAY1ZSIAESIAESIAESIAESIAESIAESKDWCNBAUGstyvqQAAmQAAmQAAmQAAmQAAmQAAmQQBUEaCCoAhqzkAAJkAAJkAAJkAAJkAAJkAAJkECtEaCBoNZalPUhARIgARIgARIgARIgARIgARIggSoI0EBQBTRmIQESIAESIAESIAESIAESIAESIIFaI0ADQa21KOtDAiRAAiRAAiRAAiRAAiRAAiRAAlUQoIGgCmjMQgIkQAIkQAIkQAIkQAIkQAIkQAK1RoAGglprUdaHBEiABEiABEiABEiABEiABEiABKogQANBFdCYhQRIgARIgARIoPYJ5C+0I5Fox/jK9qpr4eYw2puSSCQSaDyT3TLhJI9D48hv2RNr4UF5jB9qRmauUAuV2dI6FOYzaD40juWnW/rYyh+2Mo72bThOVF4R5iABjwANBOwJJEACJEACLyWB7MmEVLCEkmX8OzKhKUAFLF7KoHNfo0yTbEqh/8Ii9Kl+oKw17Eb3J+ZveDiLzL5uTGwDjcpTds26Nu7rROZSDmvbfQL+UvbQuEovYzSVQOr8opdgC9uOBoK4Nom/r5TcbTAExAu5LX/xDSvz+mi7LQUFaCDYpg1DsaolQANBteSYjwRIgARIoKYIiIl8S0M7xr9T1Soge7IFydYMZr7zJqmFu+Nob0ig/YI/3X+aRWZXO8bvAXiYw1CqBcO3/fxPlzF+pA2ZbTLBdSl3he9m0L8vgZaPs4bRQxHg53YkkEUmkUBmfutlc/WhrZdiJz1xBym52wzrjjKs0ECwzXoPxXleAjQQPC9B5icBEiABEtj5BL4bR7tS9IPaFLB4YRzZh8ENeZE724yEcrMWE0N1DWD5kxQ6L3nGg+UL7Wg7mzMzv8BvscrdfAbJRD9mpA1EKDSeAaRwexz9qUbNGJLH7LlupHZ5XgiNqW4Mz0XXRWW+/buRFJ4ZuzyPi0Xhqh9win/G2vwwulXeRCNa3hzCrPYIVYfFwMU+id3vjGLxIZCfG/Ld7pPYfWQYOa3dqs2H+QwSiQyUE39Qjs9Guvin+jEVGJW8Bi7NIKYjPC3F2DMOGB4vJ5V0epmel0FgyBI/FWbR35BA/zVtRXZtCt2JNoze9fM+XMT48RR2NySQaNiN1PFx5NbCclX9l/OzGDritbHLqybM4V8pjn75jbJvtKDzzCzyugdEYRFTJzvR4vexaNnxfQffTaHf7zvJpjZ0npnBstYHIGR+swXuZz9HuZHKhjcK1/uR7JqAhjD8UV2Vklv0iTOKSRK79/dj/LZqw9BYpPq/ZzhaQ1a8q/42lMQum7Wq77L53hhlKwHFONjvl+U//5ZeozgZAOFdpbyvGvel0f9J1mxv9YjIp+i/zRi6GfnBvFGUjapjHvZYVnScuTeKlLVdQLZjMEZ6IqxNdiPxxiikH4/TQFCCm3onZB3asbtBjTMF5M6p9m5Ey8F+jGa1QdAkwG8ksCkENsVA8P33efAfGbAPsA9sRB9Ip9PgPzLYlL+AqtC1WWRa2zBY5kp/9mQSCbUNQfcgeLqM0UOeB0EhO4i2I9tr76xS7iJTTWNy60+qTw6is2sUuR99SNIbIomW3gks+rrJ2s1RtDck0f65VuJdMbluwbEL/raFpwUsX+1HW0MyaiCwnyF02LtZ5PL+A56uITfSjuS+IeR8JVLWYU8L0h/Petsi1nIYPZJE8/4U0idmPOXDlzX5zlSgmFWbz2kg0J//dA2zJ1uQ0GREWQxU59M+y2WMUCHTckcuF0fakNAYiLo07mpEo2ZQKFzrD5Wcp4sYPdCGY5cWURC84/i/0Y7OI6FXzdqtcRzbl0BqxN/yEJEE8Di2o/2dboze9JXLlVkM7k8ieXxG817JIze/7D1f9Afp4ZJE96RSSGP6J3yDyCfL3tMfLmP23CiySo9+OIv+phSG5v1yCsuYOdGCsI9UWa6rruqe4JlqwdAtdcP1WUJu1SdOzGDZr0v+agZtrUN+3by+0P/xoOz/Kg1QwGI2B/Uq4UfvPWkJDJZefduOdKL9Q79s0d4XjqElkQoNRgAWP0mjLfLe6/WKkUEapJqRue4xL+RzGD83pW3fcvHw7ol+2aj3XVfSkmzi2rTUOLOI0TcSWp8Dsicb5bsTeu0UMHM8gTbV540x1BO2JDdpIOjH4Mdp9F/V+rwwKu3JYFZge1pA/uY4hr/QxlgXC94jgQ0mQAMBjRk05rAPbOs+QOMAjQOiD2zef8sYP+itiIvVyu5z1oqm/WAjyZWhAAAgAElEQVThaZDQFRZvlUwGjGtowzERn+BhFpnWbkwp5dou4wV9jzMQyNWxhn7MSgXEm1QnGvoxo62+yjR7QkVdVUFM5JNB3gJmTySRPDGrKXxeytwZzesC7meoMo3Pp7PIJNLBtg9ZB2slTyq5iU5M6LylV4RakQOqzec0EFjP9/Yfq1X4chkYtZRfymMskpZnIBCGijZNVuH50n9pCv2BMcOTVSk5ckW0V1fWxbOEspQMtjN4HE0FUqTyVli7MaX0eFkj7X9SGWqObreRq7XNRZXo5d+nkfhw1i8sru9kMdiQwLGryiKgPRuAqHubitmgfirMoD9YKa6uXFWU67MsJRfF5Y7rEwi8Lry+kEiNYjG455IGwFwGiQPj8Ewofn0Drx6Vx+sTgWFJepgcM8YCkVIYn5KBoSlGhvwE2hNt4ZYr9YhSn2UZVvw+5xiTQjZxbeoQwBpnpHEtMFzlMLSnHxNf9KPljO8RJo0f6p1HNAZBOdzkOxE1rOU/b0fijeHS7emoBm+RwEYRoIGAyuG2Vg43YgWaZexsTwYaCGgg2FwDQfjntHCvxH78eyL+QBKps7mIAhyWsoapd7y4A4Xbo+gWLr6u4IVhhi27chkI1m6K1d8k2i/4K69KeQ8UMk88GdAxUAg0keVEOIlB6eXuTcgNt3aVVEyGA2XEn7hbzxBJhZu0cklOiC0GB1No0fbbu+pgK/Hykf6KngoOWW0+u2xnOYbCXi4DBSb8LI+xSF+mgcBQ7j0lZ6YgVj59hVx4vzSEynls0M5EGHND1j9QMkPZIZXtInERpDKUwWxEifVWa4M+o29xSCQgtgqkWh3GJUffWZ48hraGRqTeG8bEzXBFFqpP28FI/e/eqnB8n4wvV6u/fVmmkiuyFSs/tk8Ez/P6Qvr36v31fzBc78VWnxakUy3adhmvvpF8wtgjvErUthpfiTW2tCiOwfscIwOEq3wajQ270X5yHLN346xHQWXkRXmGFbGqn0DCNSYFxcW3aalxRhrXhMu/6K+3htAsjAWijwuDhChfGCDVtfhuexCUw02mCY2fgdgPcxg+2IhkUzsyF2axqBs+g0S8IIHNJUADAQ0ENBCwD2zrPkADAQ0EW2UgEH9ujcmx9vd3LTuEVEMjOgNFWvtRu5RxB2TAv0UM72vHqAhe+HQRw3rwQi39Vl5K5U5N7uVnErtbOzF0XXdfdSsOsZNxw0Dgud2W60EQUU5uD6Ml0RK4JAs2hTWxyhsqnk4F3Vc+jZ341oS92nyVGwjKZRBt+fIYi3zlGgi8ld5m4VYuvAl8l23hKSC9BoTioyk58vkOxVuXdHMNBGuY6k0ieWQ82MYiXKxzI+mIcSnSd5SQYkvL/DgG32lDct8xTMnjKd19WmXxPkukcZZrlqB/E4wbgxVo/ZeY65jyY/tEUIzfF+aCG/Ji8ZzY9pLBrFIunxawdlVT/H2jiYujMQb671bUsKM/zy1DkKKQx+LVUfQLpXf/MHJuJw8v+dMchvZFPVSCsrSL0mxi2rSMccbznPGMZ8KbwNvi4hl/RbwO4ZEi3ysljzXeqHGjKLcSbAv5Rcx80o/0riRS54oZpZUQ/CSBjSNAAwGVw22tHHL1f2ev/m9E+9FAQAPBZhkI1r7LRzwB5OS4YTAISif+3C5fEvtyW9B/TVeko3+IjbgDYsKorbTqwQujObfmjlNJjjzam1QHK7r+756rcybc063uG1sMvNU2waqsGATqJAi/LKd81sq0M822MhCUyyAC3nPT31MG4woMBHL1841RTMngmf4KrjDqpEYxNdJmKDlyi0GwXSQqn7gj+Vt71MV9GXE+UcUWA6lYKS8Gt+FDunsHq9Xu/hmVtoCZ3tDzQSh0wg3fWmfXslVXrlZAeFmBkhtmUlem3GtfHPNWqm3Pi+C7i5m7Lobir7wqAq7h87Mnm8PYFb4BsP96Ma3eJYMqT/sUhtI3QmOf9ktwWYlhpTQbNwfnGGKNM0IguS1lZAqjqXD7kpAv9ckURt9QfdYX3TYQlMPNNW4FJLSL28NoUx4d2m1eksBmEqCBgAYCGgjYB7Z1H6CBgAaCTTEQiDgB4ni/3vEwEN+Ps949FchLBKD7uA3JhhSGbhabIIsjDkXcAf2IROHSrTwIwuCFm/kHvVTZzolxJJN7Ug0VEEzj5QxSKJRFEeFfnURQ4hQD4/G3htCSaMewCmInAsl92CZPQ1DBwZx1cE20rQl7tfnUSqDyTnCW41DYSzMwau59KZtxmQqZLFX0QxFgrR3jcjVd3BRtLO5ZSs7THIZbo4EoO1N+wDRlILCCFBbuTlQXpPDHLIaMIIVihTaJ5uNTQUA+0cc6dzkCXFrGJeSn0H1wEDPKjX0ti6FUEse+8I0iP07hmFiJPZv1glvK4JkZpEQgUckppt+XKtdrOeP/a5c6rcCLxs/ml1Ll631C2XdEcNBd3ZiS9kp3X8idbUHi0HAwtolgj5nWZLh1wDcQmEEKC1iUxlBzBT93zvPGmLjrj4Ei4GFXCpk5tWXALUPh5hDae0eR9Y+IxcoEuhu0Y2BNEoAwrOwxn20nMb6XZBPTpmWMM/I5wsNGBPXUjShiXPn/27u/1zayfO/3/1Rd6UIgMAQC8ZV1EzMXgly0CFiT0KZ7E9FgPKeJngy9ZTgxaYIme8d7GD8KPdF470bhCcfpHZSzg8LBoH4wCqSVh2yUJo0gtMDNKHj4HFZVLamqVLLlH7Jl+x1ISypVrVrrVeV21re+ay2zLZB54+4b+f+N2bavW9z/t8ywjAc5LT9q9H8GOk/ySsyteaslhAD4gMDkBCYSIJhcdSkZAQQQQACBYxIw43QDS4F5S6r5s++bU7j/gPMmMBwegzuYAM/rPKdVfBUOIpyFOQiGJUf8o9rsGBrXbJY7i1/mcLhMqfXn4Iz6o8/Rfl4cLFXoLrlWU/FMDTGIa723LWwwYr+xjOM7ZCNKdJ+E9pdj83cyGS1OtJNjvttpqbpillwz9310ST0/g2ChoqMuc+iWP7T0njl/U+WvMqGlCBuP45fIjLa3+7qqYnAZw4d+MMDu2KlrzZY9tITm6Hty33Jt+ebVdnLN0KIx/+xbfvSeuFFUNWaZw9Dpdtuq2evoL1fZeh5cstO211vm0Jv3Y/h6e2WawIH9uTTzQnhLlw7+bzf6fuy8HCxb6h73ZHQOhxtYiZngNNSu6Ic9bWwbhzO/9vv/jHcaE7AIrFTgbvRWnQgNLzDbYwIE7koSe7nFBgj8/8/2fy9516R6gPspSsRnBA4jQIDgMGocgwACCCCAAALDAh+qWv5DWY13fvfBPKl9uapMMq3V/ppzw4edqy0YDF/OUZ2h4T3P9BaTYTK70hgaujR9jRrdeT6VuvYaKl4JZrmcSi04KQII+AIECLgVEEAAAQQQQOB4BHptNTaKWrx6yR0a0H8K/dqmIx/Paaa6FAyGL89FCBDs1M9QJ3e6AgTtx2clsDJ8a7MFgfMoQIDgPF5V2oQAAggggAACCCCAAAIIIIDAAQUIEBwQjN0RQAABBBBAAAEEEEAAAQQQOI8CBAjO41WlTQgggAACCCCAAAIIIIAAAggcUIAAwQHB2B0BBBBAAAEEEEAAAQQQQACB8yhAgOA8XlXahAACCCCAAAIIIIAAAggggMABBQgQHBCM3RFAAAEEEEAAAQQQQAABBBA4jwIECM7jVaVNCCCAAAIIIIAAAggggAACCBxQgADBAcHYHQEEEEAAAQQQQAABBBBAAIHzKECA4DxeVdqEAAIIIIAAAggggAACCCCAwAEFCBAcEIzdEUAAAQQQQAABBBBAAAEEEDiPAgQIzuNVpU0IIIAAAggggAACCCCAAAIIHFCAAMEBwdgdAQQQQAABBBBAAAEEEEAAgfMoQIDgPF5V2oQAAggggMBUCDRUdBwVt/aqTEeVBUfOQkWdvXY7ju+2inKcohrHUdaxlOH5OCvTU6NjaRaFIIAAAgicWQECBGf20lFxBBBAAIGjCDRWHDlOzN8bVa+j2mursbGqfCYV7lTutrV5O6OU4yiVKaoW6dW2H+eUvt88StUmcmxnIycnmVPlfXzx3ad5JfbtzMcfO3rrOAGC0Ucf+zdTFyA49hZSIAIIIIAAAkcSIEBwJD4ORgABBBA4LwK9raLSwQ70Vkm522XVHi2HAgSmo51eqau7K3We5JVa2lTXRzBlzN+oqL07fSpugMBxlIir38dN5WcSBAim77JRIwQQQAABBE5UgADBiXJzMgQQQACBqRR4X1FuJqfKu5jaRZ46m8yDfsr8bl2FmZKXsr7TUPFqXpsfY8qYgk1ugGBhTeXbKeU22oEadbV5K6X80+rQcIDu1pry1y65gQPHSSn9eUn1SMaEuk1Vbmd0KWmyMaL7+BkErzqq3895+yQvKfewqV6gBm42Rz/N3htykNtoqbVRUGbGKzdze3Mo8NJ5VdLinMnwcJSaW1TpZbRygZOYt5Fr6X7bqav0edrNCHFm0lq8X1cnEODpvd1U0X7vJHTpWkGVN6Ha991MfXKXE/79MU7bbVttvcc5xtS659lcTnhtz5g6tdyhGrkNW1ak7XxEAAEEEEBgDIGJBAh++aUj/mLAPcA9MIl7IJvNir8Xz2CM32eH36VbV/HqvFa3gp2+QHGRTmUwg6D7sqi0m0HQUfXGvIqjyggUd1pvvQBBRZ2dmgqBTAkztCB1u6aehocD9N421Oz4LrtdNddzSsyV1LQdaBMUmUsot950Mypk9nm0qEtf+sM0/DLTV5dVeeuV03tbUS6ZUP6pzbuQ4gIEs3NZrb709/lYV3HOUfrBYOhG72VBl66V1PADMr33NRXmwuUOWUeupXbqKlzOqLTln6fXVu1OWolbg6wQfWiq8c4a9NR+XlA6GQwEeW6Fe6vK3qmp3b+NvO17tz0+QLD3MVJrPSNnblmVbb/eO6be80okHREgGLrqbEAAAQQQOIAAAQKCGQRzuAfO1D1AcODiBQfMNZ/cn7Yq1715CBKXM8o/DD89ds8b7VQG5yC47j1Rb2/kNB/ovE6uvocvuR8gMM+fXxU1u1BR+31VuZmCajum3OEAwdDZdusqOtn+PAbtRxk5X1b7Qyz6+9sAgl/m/Hqr/5V7ppWEHDco4W2OCxAEvzd7ufX/XVleSU2Vrsxr7U2oWPVeFPae7DByLZsPZjX/53Dd1Kup4ORU+RAue/Cprcpnjoqv7BbPzcmU1eq323znbd+77fEBgj2P6dVVSCZUeNmPRHgV2TUmBAjsVeEVAQQQQOBwAgQI6Byeqc7hJJ5IU+bZynQgQECA4HC/7vY/qvfOPIF2lL7XCKW/x6alB4t7XfLnHeiotjJ68sLgIafxPhggMCnq9W9mlUimVXxlO5rDAYJgCr87fOB6Run+RIbRzm1cq4bLNHuF6xKfQTD0JDzYuf9QUS5ugkl32x6rFATLkFf/2Ikq+22Uem8qKvSHWSR06WpG86GOuNfG7OPgsA3TynHaHjUc4xi37fEBDBNoGXKLuyxsQwABBBBAYIQAAQICBAQIuAfO1D1AgIAAwYjfZ8ey2X0CHV0GL9SpjJzGnXcgp+oHqftsWelvvMkLu88LockLI0edysdop9yk15fu1wPBkEjn9M2a0k5aRZvmbzIPuubpup2DIdq5jWtWpEx/l2hd4jIIhjq6wevgdpIHmQxxZ47dFizDDxAMd+wDR3Y3tZxMKPe4pZ7NDthpqvxZsCPut7GfUWCPH6ftUcMxjnEzHMggsMq8IoAAAggcrwABAjqHZ6pzyNP+s/W0fxLXiwABAYLj+jXYfd8JdI69Ut0AQXLVm3TQnijUqbQbzWt43gHTye2nnQcnLwwecorvo53y4aqEO6ex+7udUxsgkFoP02MNMehP6uifNFr2gQME8tLpM4+iT+2HWxXaErmWZoiBGRowspTI/l5ZLZV/FxMg2AqdaXIZBJKaD9LMQRDl5jMCCCCAwLEIECAgQECAgHvgTN0DBAgIEBzLbz93cj1H6aWKmnbVgZiJ8NxzxXYSJXfegZXBcAQz2d+szSDoT154LLU9lkKinfLhQsMBAr0uKe3ktGYnwjMT+H0zH14K0Z+kMHPPn7th15/E72pJTXfkQqRM/6TRuhw8QOBlbKSSkQkGv8lEVmiItDJ6LT9uankmocyDhj/Joql/URmzFKQ51Cz/mJxV4VnbyyBwJ2pcVCo0GWB8Gyc2xMBtEqsYRK4sHxFAAAEEjklgIgGCY6obxSCAAAIIIDA5gd2O6g/zyvhLxZlJCgsb/mz8wbNGO5Um1X6rqLSZ5M+mnZv9d8/SHATBBtr3wx1d01k2y/Y5/eX9av0l/exR0WUOM1+tBZZCHC7THHccAQK3nFdryme8ZQ7jlijs19G+ibmW6tS19pU3d8TwMo1Sb7vcP4e7lOKrRmQ5wfg2TjZAYBsUeN1tae13Tmh1iMC3vEUAAQQQQGAsAQIEYzGxEwIIIIAAAgggMB0Cne+Xtfyooba7+oSJWLVVv5dRYm5VDTvn5HRUlVoggAACCJwxAQIEZ+yCUV0EEEAAAQQQuNgCvfcNVVYWNe9nvzjJS8rcrqjZvdgutB4BBBBA4OgCBAiObkgJCCCAAAIIIIAAAggggAACCJx5AQIEZ/4S0gAEEEAAAQQQQAABBBBAAAEEji5AgODohpSAAAIIIIAAAggggAACCCCAwJkXIEBw5i8hDUAAAQQQQAABBBBAAAEEEEDg6AIECI5uSAkIIIAAAggggAACCCCAAAIInHkBAgRn/hLSAAQQQAABBBBAAAEEEEAAAQSOLkCA4OiGlIAAAggggAACCCCAAAIIIIDAmRcgQHDmLyENQAABBBBAAAEEEEAAAQQQQODoAgQIjm5ICQgggAACCCCAAAIIIIAAAgiceQECBGf+EtIABBBAAAEEEEAAAQQQQAABBI4uQIDg6IaUgAACCCCAAAIIIIAAAggggMCZFyBAcOYvIQ1AAAEEEEAAAQQQQAABBBBA4OgCBAiObkgJCCCAAAIInHOBhoqOo+LWtDTTq4+z0jiVCjVWHJ3WuU+lwZwUAQQQQODCCBAguDCXmoYigAACCIQFemo9KWpxLiXHcZS4nFFho6VecKfdrpobBWX9fZyZtBZXqmrtBHbaaWrtxiUlnIQu3SqHv1NP9W/Syj/pBA44nbedjZzbTtPWob8LFe1dw9MKEHRUWXCU29i7dictSoDgpMU5HwIIIIDASQkQIDgpac6DAAIIIDBFAj01VtJKXC2q9t4LCfTeVpRLhjujzQdpOZmi6v4+6rVVu2O2ldX2W9NYSSn32HzqqXk/o/TDVr+d7Y2c5lca4aBD/9uTfeMGCPYNBIyqEwGCoAwBgqAG7xFAAAEEzpMAAYLzdDVpCwIIIIDAmAI9tTYqagQzASQ1H8zK6XeiRzy9fl9R1smp6j7UNvvkVPngn/ZdWZkvq97T+PcV5a6W1Nwds0oT3m3sAIGfNZG5nJBjsiJulFTv1MNDDLaKcpyiwgn+8UGEzsvSyCyN3ttNFT9PK+VmNSR06VpBlTc2h8PzD2U79IcUxF+bzqs15TNeRogzk1H+YV2dgL81aL2pqODvl8oUtPk+gN9raXNlUekZL9MiLrNk3wCB9dlpqXI747XPZJ/cj69PKD/iQ0U5Z3BP2Tp3bFn2/hzzHG7LdlqqruR0KWnaZK5pUdW+s9f23vZa/zql5rIqPGqE7NSpq2SvVUxb9H5ThWsmk8Zk48xr8X5N7cjPV0CZtwgggAACUyowkQDBL790xF8MuAe4B6bhHshms+Lv2Tc4qd+hjZWEnBt+B1+SyQBIzBX6WQY2gyB9u6auX6lBBoHUfpTzMgh6Da1ezakS7HieVCNGnKff0Rzxvd3sZk0E2tx7X1Phelrp4BwEtnNqD3JfhwMEQ34faipenVep4QcBPjTVeOe/3+2p/bygdDKvzY+24PhAgDS83TvXsqpv/fI+NlW+kVAicD1dgytpZe/V1TWBg92u6itpOXPBQE5Hza22en5gwW3/XEL5p/aKS+MFCHLK3cqrvO0f96Gu1WsJJW7X+hklsdckNkBQ1OqXi4OyDI97DfY/h3YaKs4llHnQ8NvsOztprdrr0KurkJxV8aVX116nqcrDzcGwk526CpczKm35bfEzaRK3Nv2fg7bKGUe5R35ezU5b9Ydl2eLt1eQVAQQQQGD6BQgQEMwgmMM9cK7vAYIDZz84YK7hifwxT/ydcEfQdCAb9zPhMfs3ymoHnkorMAfB/B8qau2Y4QvzoQ7lidR/n5O4ndG4+QcCT6vV3VTemVVpO1LY27IyBw0Q+J3OobKCdpHTSG1VPnNUfGW/GA4EeN9Eto86105NhWRChZde0MAzKKjmxxDcstwO+bzKb+05h1/bj7Nyvqn3vxgvQDCr4lbwRJJMhonxfe0VNXaAwEmo8CJSlhsg2P8c7UcZOV9W+wEt24jWemYwVKZTVc6Z19ob+2341WTWzP95MHTG/bZXU6F/7zS0mnS0/DxSx3AxfEIAAQQQOAMCBAjoHJ7rzuE0PMGmDqebSUGAgADBWL+L35n5B8xT1mb/6a6ZU8Cdp+DaangOgm/mlZgrDg1PsOfpPs178w7stFS+NWryQrv3yb3Gdkajp/czA+pDnfiWyr8LrGIwTgZB7D7hE/ZMqr+flu6mvl/NaP5KcB6ISCCgf3hk+8hzdbV5y1HinjcYIt4gkvngp/J76fheunzmanDoybgZBEWNcrSTLsbWJy6DwIkpa59r5Z0j4tT3k/S6pNn+UJmemg+zSiUvKbdSUf3tIFvCZmuEhnoEAk12ZYv202XNJ1PKfLWm6vYgAyN4St4jgAACCEy/AAECAgQECLgHzvU9QICAAMF+v4q7jZIyyZQWN+y0g/4R7lPVmKfpu02VrjjxGQLuvAOrbmp162G6n3Ld+nN48sL96jSJ72M7o9ETjex0em22nUEvvX2fOQhGdtr9k3Y3tZxMKPe41U/nN9kY5c9OM0DQ1eaSGZZQUcs+DN/tqbmeDcxNcQoBgs8q/Ukx+5ds5LXygjkHCxD4pfY6aj0vq3A9pcS1NTVdAy/IkHUn4uyfPf6NGSayVdHqLRNEW9amnZsjfm+2IoAAAghMoQABAjqH57pzyNP70316Pw3+BAgIEOz1u7f9ZFlpJ63Ci9A0cd4hftr1UOr5qABBaN4B06nKDuYgCE5euFeFJvjdWAECf4jBUGr8iCEGoSfkH6taDA5DcAMAcQEWv5GxAYRg59bsN+oJeGS7HUMfTemPG2JgJ/nrWwczCILv+zuotT5/iABBTPq/mx0QGWIQ7fxve0/27cSXI6+b67f/OdwhBkNtlkJDDAZN9d7ttrQWyBhxJ+8MrNwR3X34c0+1pWCgZ3gPtiCAAAIITKcAAQICBAQIuAfO9T1AgIAAQeyvXzM53b15JZIZlbbto+Lonj3V75gnqeEhBvV7mZghBt68A7lAFoLpVNlJ2/qTF0ZPcYKfR3Y0I3XwJikcTPYXO0mh2yF3lPtz05v4rmdmyc+GJzLsT/K4rMprP2XdnTgwpfzTjvRxU/nkrArP/HR0s3rC+qJSoaUmvSECs9/UvaEf/aEPkQBB8Fx2UsBRkxQOdZaDQQFzvoRmb2+q7d8W3e2yFmcShwgQRCYQ/NhQKTJJoZ2ToPDMD1B9bGjt1ryb+j9egGCMc9hJCu/VvTbZySADkxT2tkvKLZXVsMt5fqgqn0wP5iT4uKnlmehEh0VlbviZDZ1N5a+vqmaHJnQbKmUSWn4WHKoQudH4iAACCCAwlQITCRBMZUupFAIIIIAAAlbAffrqLWM3PLY6kDrvL/mXnbNL56WVvV1RM9LvMTPop20n1p5jGucgCIwdD7c70GaZJSALGixzuKZGN7LMoSR3/oDQUoHD+xiK8DKHORWftPrzPPS2y/1lCVNziyq9aqiyEHny/L6qvF1y8YFdWHE4QDB8rtHLHIbzRYIBAskd5vBVeGnCxuPcIQIEZp4Kb5lDdz6DuKUBjc+rknK2fTfW1HwzYplDe1/ZV5uBMcY51G26yy168yqklP58eJnDzss15fvLFGZUeBIdclPXmnVxTBlm+UtbGan7ujpYstK09aG/asJgF94hgAACCJwBAQIEZ+AiUUUEEEAAAQQQOEMCtvM+ySqfxDkmWX/KRgABBBCYSgECBFN5WagUAggggAACCJxZgZPovJ/EOc7sBaDiCCCAAAKHFSBAcFg5jkMAAQQQQAABBBBAAAEEEEDgHAkQIDhHF5OmIIAAAggggAACCCCAAAIIIHBYAQIEh5XjOAQQQAABBBBAAAEEEEAAAQTOkQABgnN0MWkKAggggAACCCCAAAIIIIAAAocVIEBwWDmOQwABBBBAAAEEEEAAAQQQQOAcCRAgOEcXk6YggAACCCCAAAIIIIAAAgggcFgBAgSHleM4BBBAAAEEEEAAAQQQQAABBM6RAAGCc3QxaQoCCCCAAAIIIIAAAggggAAChxUgQHBYOY5DAAEEEEAAAQQQQAABBBBA4BwJECA4RxeTpiCAAAIIIIAAAggggAACCCBwWAECBIeV4zgEEEAAAQQQQAABBBBAAAEEzpEAAYJzdDFpCgIIIIAAAggggAACCCCAAAKHFSBAcFg5jkMAAQQQQODCCvTUfJjTpaQjx0mp1LiwEAdueGcjJ8fJqfLhwIcezwG9hopXcqq8P57ixiplqyjHcVTc2m/vhoqOI2eFG2o/qdP43r13FyrqnMbJOScCCJyYAAGCE6PmRAgggAAC0yXQU+tJUYtzKbfzkricUWGjpV60kjstVVdsZzihS9fyWnsZ+CfyblubtzNKOY5SmaJqga9MUe3HOaXvN6Olnsrn9vNBe53kJc1/XlT1dffgdXlXVsbJaO2Nf+iuee2osuAotxEBOHjpJ3zEpOrtdXb37xSfbHNNJ292pTF8n5tqbJc0Gxu86Kl+JyHndm34uCPfwUkAACAASURBVI9VLTqzKm0frB3nqbM5nW05/vt6/3Ye/zm9u2o6f5YOdsezNwJnR4AAwdm5VtQUAQQQQODYBHpqrKSVuFpU7b0XEui9rSiXjHRwew2tzjlK36mp7UcOutsVLf+horbbKZbMP5rTK3V1d6XOk7xSS5uyXe7eVlHzNwb7Hlv1D1FQ5/ucEnOFfnvV66j1fFWZqyU1hqIi+5zAfSJcVPg576Q6B/vU5chfT6reU9ipsdkDI7MXmipdifwMGN/dhoomWyRZUD1yr3SfLMq5UtJBQ2D7dzaPfGFPrIDpbMvx39f7t/P4z+ldxCn8WTqxu4sTIXDyAgQITt6cMyKAAAIInLpAT62Niho74Yo0H8zKCaTQth9l5GTKavnBgPDe3qfGSiB1ereuwkzJ6zjvNFS8mtfmx7ijTnpbR9UbjubXW/ufeLej+sO8MjNm+IDJishr7VUgK8BPFzff2b/FLa9jYD+7r26auPfkORFKGW+rnInWxeuYFl7YYM2mip+n3awMxzFZGwVV3gR6pjZAYep632R3BIIVnbpK9tiZtBbv19UZef1G1dtn2q+s95sqXLukhOMocXlei/drarv3lNehCXr0Myts3e0pzJCDhYpabyoqZLxsllSmoM3oEIBgXZKXlDPtemVS9wNt3+fqmvt5dp9sltb6fOhnwC1yq6jE7YoqtxIqvAxcB3VV/dJR5lHbO7NtW/S6fKgoF8hMcDuagftn0IZoB9PvGL6y19kEKS4p97AZzmRwz7eotHvPJnTpRkn1Tt0drrBXBkfv7T73meI7puZn3g6DGN0WE1jZ52fJ5N3Y67+9ptzlhNz7/VZZrR2p86o02HZjTc3A/6/2rvs+9/VOS5XbGW+IUPKSMrcratqopr2HPgR/jrzsqpZf18D/Deze/Qyi4D1vjdydgvdv3M/lYX6W/Owtd6iTmxFVUu1d8P4MVI+3CCAwtsBEAgS//NIRfzHgHuAeOAv3QDabFX+n32Ds32pH3LGxkpBzo+qPsW2r8lm0Izt8AvMPfJtB0H1ZVNrNIDAd8nkVt6blH6t+ivjCPtkMu21VbiSUXqqq5Ve9u11WLplQ7vtAt8B2BEMc0c6d92XvRSH8hNl0FmdSSgUCMXpb1rxTUM1yfWiqYf+hv9tT+3lB6WQg2OKev6DVe1kVnrfVswGAnboKlzMqbfm9nV5btTtpJW4NsjpCVXY/xNdb+5blBTpytnO801b9YTmQjRHfuVTEzu0gXkkre8/LQtFuV/WVtJy5kpr9dtVUSCaUuVf3Mll2e+psl7U4YzqUYwYIdmoqzAQMhyG8Le7wkfAcCebnwgRvuk/zCgV7upvKOxmV3/mFjboukQCB2dt2jAN3Vb+T2Q+m+B309NVlVd56N4eX6ZNQ/qnt0fZUu51Q4tqq6jYbqNNU+cuUG7jZK0Cg/e6zMQIEI9sy5s/S0PXvNlW+kdDstYyyd2pecMsvK3Qf71v3Eff1bkvlz+a1/KTl/dzsdtVcN9lFgfvt46by5md+velmRpl7srm+qPm5cADVv+qBlxHnnNDPkhvAXSh72Vzm/xMv11Q+cDpUoPq8RQABV4AAAcEMgjncAxf6HiA4MP3BAXONTuTPe/OUM9jx8Dt4zwNP25yU0mbcfvBpdnAOguvmyaXU3shp/sFBk64n3MpOTcWrCSUu51R4VFXjbWfQsfZP3XtZUMKki9uOqd3+oqBEML080sn1dhvROejVVHDmVX7r7WU6mfPrmypnFlX1syvcf+jHjW/3zy95wZriK3+De35HmUhGhMkAmf9zJEvCPX+4w9sv1n0TX+/9y2poNelo+bmNaoRL1YjOZWyAIBgcMcW4HeqBmc1k8Z/T90/kpvePGSBorWeUHuue9AIfi0/8Dviuye7Ia9N8NAEBk63h3x/mWgYzbry2DV8Xrz3ha3CQAEE088UN5Nn7xZ8Pox+ksDru3AiB7B67fc/XyH024hoGMwhMcXFtGfdnyT02cv3doJoz+Plwq2yyOPa81tG6x9/X7jVbis4l0VL5d4n+JJJuJtWX1f5QKY/MC8SErveQZfw5J/Wz1LiXkDPUlqFKsQEBBA4oQICAzuGF7hyehSfc1HGymRgECAgQuL8335n5BxLKPAimLnsBgsRMVqsv/afU5knaxrLS5qmp3+Ed+r37uuTPO9BRbWX05IVDx53Qhu7bhqqPisqb1PjkvJYDEzNGOz79KrlPihNatZMOHCRAINOxsOPau9q85XV8TSq79xTY61QMnghLPZNu76fuuynXVzOaD46Nd8+fjczE75UTSnEOpLGPfpIc16kZr6z202XNJ1PKfLWm6nYgk8GFO0AGQTCbIubYkdfFDSSMkUEwbvaAf8HdTqvtIL4uabafgWGun52Q0Lx31A8kmGNjr4sNeBw+QBC9dqEOeey9aCrjXcPosX4T3Zd977MjBAhGXrPIz1KoLbZycW3yszCqfsrF/nWPu68lt16Bn4vgz4uXueEdl30cDUdJbuBi6F61lTavcef0tgXPE3xvr8+hfpbeb2r5asIbBvWk2Z8nJlgj3iOAwMEFCBAQICBAwD1woe8BAgQECLqNkjLJlBY3ov8g9jp40aeX9mn2bNzTWHfegZyqH6Tus2Wlv/HSxrvPC6HJCw/+63pCR7wru1kTdlz5uJ2a6FNwr3ZxnQPvG7djYTqZ5mm+ndDOdDzNU2C3w+Q/oTa7dze1bNKbH/sp0GbbTlPlz2yQwXZEi6qHMh1Gd2y8Woz6b1y9D1CWSW3eqmj11rwSc8va7E8AeHwBAndegExZ0Tt03AyC5oP0ULbFKA13u/v03XuCbZ7+BoM35pzuve9et+Gn3GbIQ/i6TDhA4A5PCQxzsA3bL4NgnPtsCgME7vKYY9U97r72AwTf1K1SzOvoe38oY2To6Lhzji5v6PCD/iz5BfTeNVS5l9d8Mq3lZ+FBK0PnYAMCCOwrQICAzuGF7hzydH6yT+fPgi8BgosdIGg/MdkAaRVexP2j0ntCOipAMLw9PO+A6Wz3U+KDkxfu+6t5Mjv0Ptox28HyvbRkO+bbS4suBsbRe/uaDv6hhxiYItzOZEHVZ4XAko9NleYK2nxSkNN/Qj3o/NtkBa8GJgV6OEAQ3kdyU6NjOtLBFg+/j+vUHKasnmpLgTqO6FxGgyuxT5Cjx/pjwg81B4E5dqagWmCCu2GD6Bbv3s8/baj8u0DwxuxmOt5XSqqZ4QXB62a+i3vybbYfcQ4C+5TZ1jJsZup6iDkIYusauc/sdbBDW9wKeBMzBifgC9fHq+W4P0txx8Y6Bg3Hqnv8fe128oPDhSxq4NX9ORrKFDjaEAMz2Ws0wBU4ZeTtmD9L0aOeL4eHvES+5yMCCIwnQICAAAEBAu6BC30PECC4oAECMxHcvXklkhmVtkeNIZfM5HnZmUx4iIGZ0CvpZQkEf9W68w4E1pc3/xCftRkE/ckLg0ec4PtOTcuXE5r/Qzlm8r9AW/oTq1XU9OcHGH+SQq9Tadrsioae7nuduNRMqj/O2bS+sZJSaiY474PpgJpx7rMqPAsM61hfVCq4BGVsB8k7dnnGDBVp+JOrmQkOi8qYpSZHco+o98dN7VlWZ1P566uqvfUDL92GSpmElp/ZQIy/ZKBN1bYekbrHdhBtx3QrUOngLPAHWMWgeX/2YNkD/indrI8rs4HhBbYupoM8q9kr0RUNDhYgcDuqV4qqm8CFtRlKUY/PwhgyO8wqBuPcZ7KTe655s/zv9tR6UlR2brCKgVGJbcuYP0tDbTEFRu4RVz4YIBir7iPu692m1q4OT0S6mCmqbm9dt/zgz9G4kxSOOOdEfpY62vwqq9Xnrf5Eio37GSUCy8zaO5ZXBBA4mMBEAgQHqwJ7I4AAAgggcMIC7j/AB8v0BcfERmeF772pqnjDW8rOcScpLKneTyP36t3bKiodXSFgd8rmINjtqLFR1OLVYFsiEy6a5kQ7W9ciyxyafeI6MGb7+6rydqm2B+Hn+24nKjoZm5kU0Yk8oZbU2y4rb5f8m1tU6VVDlYXA0/lR5zd16NS19pU390P/esUliJh97Z9R9d6nrO7r6mA5RrN020M/MOGX29sq+ctFppR/6lciUvfYDmJcgMDWNfDaM09M7ZCNwPb+W/O0f5+nxf19o296dRWSTmh4gd3FHdoQV26kbXb/uAwC7bZVvWWXiPSXBj1sgKB/osCbnZqWnVmVXge2Rd7ue5+Z/f0lAVNm3P5MRoWnbdUDyxy6Rca2ZbyfpdjrH+cYDBCM8zNiKjbqvt5pqbpilgc1/w+MWUbUHBsMSJl2P2m7k6/uPUnhHuecxM9St6nqil3e0kwgu6aGDXK4F4b/IIDAYQQIEBxGjWMQQAABBBBAAIGTEug1VLpVUi2w8kR3u6Llucjyk6H69NRYmZUdPhL66lx96KlxP6/S85Y6NhnoY1OVpbQS/SVLz1WDaQwCCCAwUQECBBPlpXAEEEAAAQQQQOCIArtdtZ6vKX89LfdJtuMoZTIrXu6RGmGW7bwyPJ/EEWsylYd339a09lVW6Rk/K8hkc9yvq9MfujCV1aZSCCCAwFQKECCYystCpRBAAAEEEEAAAQQQQAABBBA4WQECBCfrzdkQQAABBBBAAAEEEEAAAQQQmEoBAgRTeVmoFAIIIIAAAggggAACCCCAAAInK0CA4GS9ORsCCCCAAAIIIIAAAggggAACUylAgGAqLwuVQgABBBBAAAEEEEAAAQQQQOBkBQgQnKw3Z0MAAQQQQAABBBBAAAEEEEBgKgUIEEzlZaFSCCCAAAIIIIAAAggggAACCJysAAGCk/XmbAgggAACCCCAAAIIIIAAAghMpQABgqm8LFQKAQQQQAABBBBAAAEEEEAAgZMVIEBwst6cDQEEEEAAAQQQQAABBBBAAIGpFCBAMJWXhUohgAACCCCAAAIIIIAAAgggcLICBAhO1puzIYAAAggggAACCCCAAAIIIDCVAgQIpvKyUCkEEEAAAQSmWaCn5sOcLiUdOU5KpcY015W67SuwVZTjOCpu7bsnOyCAAAIInHMBAgTn/ALTPAQQQACBUQI9tZ4UtTiXcjtHicsZFTZa6oV233+f9tOCMjOOnJmMii86oaP1vqLcXEnN3fDm0/rUfj5or5O8pPnPi6q+7h68Ou/KyjgZrb3xD3Xb11FlwVFuI2Jw8NLP4RFHtHE78EURhzmHtwZNQgABBKZMgADBlF0QqoMAAgggcBICPTVW0kpcLar23gsJ9N5WlEsGO7hj7PPBBACKqps+dqeq/MyyNm1/e6eh4tWcKu9Poj37n6PzfU6JuUK/vep11Hq+qszVkhrhqMj+hcV2WI/YCd7/rGd4jyPaxHqfYQ6qjgACCCAwtQIECKb20lAxBBBAAIHJCfTU2qiosRM+Q/PBrJyFirxn4GPsYzpuK4PnuvU7Nt3eBBfmlX9qowXh85z8p46qNxzNr7f2P/VuR/WHeS8rwnGUyuS19iqQFeB2Vs3QgsHf4pbXAQ5u81x6qt9JKBEwktoqZ6J1aap0xVHhhQ3WbKr4eVop9xwJXbpWUOVNIIphO8ymrvfNUIfA0/VOXSV77Exai/fr6uyVwWHL2mmpcjvjnTPmuM5Gzrs37H79+0TqvamqeOOSEqa+yUvKrVTV6t9bo2z8S3Fg75wqHyRtlzTrLKr6MXxJey8LSlyxWSsNFd2hA+Ze9jNdnJTSn5dUD1xSmUCX45drivNN6sbSb1fick5r24FrYPZz/ReVNhk0TkKXbphy6/45w/XiEwIIIIDA2RCYSIDgl1864i8G3APcAxflHshms+LvZA1O6ldqYyUh50bVDxDEnzW0TzCDoFtXcc7LIDBP6+dXGpHhCvHlncxWr6Nugh/tvTrLu21VbiSUXqqq5fcFu9tl5ZIJ5b4P9ChtpzpU+fin5L0XBTmmw2r3NWYzKaUCHWy9LWveKahm+58fmmq88z/s9tR+XlA6mdem7Qy75y9o9V5Whedt9WybduoqXM6otOUHZnpt1e6klbi1qZGhGresnHK38ipv+3t9qGv1WkKJ27X+NfQCBEWtfrk42E9Sb6uodHL4nM7caiAzI95Gx+CdedS2sqY2qt12NPvAansBgtyNvPKPmuoaJ9Opv5dRIllQzQYxYgMEac3/oeLdB7s9tR7nlAheA/dcCSWurapus3A6TZW/TLmBEuYzCFwW3iKAAAJnSIAAAcEMgjncA9wDR7wHCA5MNjhgfE/kj5kvwEns/dQ/Zp/BHARZlcyTdrPPVfsE90RqPt5JOjUVryZkngQXHlXVeNsZdKz9EsJPnwfFmk6+6VDWbQf+AAEC9WoqOPMqv/XK6z7Na359U+XM4Ol3+1FGTqAzPjizfddW5TNHxVf+Z/f8jjKRjAiTATL/50iWhHv+wNNxW6R9dcuaVXHLNs7/wp1nYVal195nN0DgJPpZDt5WLxti8Ukk/LDbcrMkBp33+ADB0byloeM/VrXoZFR+ZxvnBQhmh4JVXr37gYTYAMHgmrml7TZUTA6yPOTPQzE4l39Otw5MeGivAK8IIIDAWRMgQHDEjsFFeUJKO8kG4B4YfQ8QIDgHAYJ3Zv6BhDIPmv0nxkO/0MfZZ7epkj/vQOdFcfTkhUOFn9yG7tuGqo+Kyl+7pERyXsuBiRkbK05oyES/Vt1N5Z2EVu1oioMECPyn2t7khV1t3vI6nq11OwTD6zwHh2P03lRUMPWzQwyuZjR/JTA/hHv+bGR+B6+c0DCH0DCIfmvCb/y21G0WQv/blsq/G5zTCxAUFdov2rHuHyu5w1X62SjxAYKjeZtsADM0I6HCSy+40X2yKOfLaiBbwh9iYAMrgfoZ//5wmmg7xrm+sfuYE3htJYMggM1bBBBA4AwJECAgQMDTY+4B7oEj3gMECM52gKDbKCmTTGlxI5iqHf5NPs4+Jr3bzDvgpuJ3N7VsJy/s1lQITl4YLvp0P70ru1kTtoN5tA5rfCfYNNAdZmDS/M3TfDvc4HVJsyZrwA0+5AeTOxo7M6ThcWuQ4bDTVPmzQWe9P0Y+1Kn3zp99PPo6xmIfJEDwWUWh0qMd68AJTiRAIMnNvnCDAqb9g2CBV5UJBgjcYSHBbAW/8WQQBO4C3iKAAAJnT4AAwRE7BjxVHf1UFRtsLso9QIDg7AYI2k+WlXbSKkSXJwz8Ph9nH7N7aN4B0+n8pt4vZTB5YX/Tib/pfYykwbs18FL37dKEXsp6MTB23qvmkYYYmCLcIEBB1WcFpe/b8fFNleYK2nxSkBOcIyD2yXT4ab4NENiEBovpdsoz5XAn3n456tU9X8wQA7fzHxliEJw3wS3PS9W3fv1THGiIwWG9/bP16iokMyo/LyvTn5zQ1mTUEAMvmLL3EIPAxI9ucdEAkMkGYQ4CK80rAgggcF4ECBAQIODpMfcA98AR7wECBGcwQLDbVf3evBJmcrnozOz2N/w4+9h93XkHioNVEUyH+Iq//GFg8kK7+4m/dmpavpzQ/B/KMZP/5VQ1s+KbP/1J8ypq+hMCjj9JoekwOpr9pu4N0wg93fc6k6mZlIKp542VlFIzkXkfPm4qn5xV4Zk/+eBuV831RaWCS1DGBhEkfdzU8owZKtLwJ+QzExwWlbkRefLvN9d9ccuKTFL4saFS7CSFdoWLQQF2ksLVl359/YkRw5MUjrAZ19tkW5hVBsySme5Eg4Pzm3fN+7PuqhKz/eCL/d4LEIQnKeyq8WCcSQr3CxD4Ex7eZxUDq80rAgggcB4EJhIgOA8wtAEBBBBA4BwLuJ3CwTJ94XHrfsdonH0M0U5DxTm/8xYgm7o5CHY7amwUtXjVju03y90VVQ0uH2jqH1267lpkmUOzz6gO+vuq8pcT3pJ3D8LP983khE5wpQIz9MAsyecEhhf4fr3tsvKZlNvpTc0tqvSqocrC8BCD8Bn8gzt1rX3lL1cYt6Sfv1v/xbbFX77wUtKRs9cyh/0DB2+6rwNzJphjV4LLHPr7jbIZx9sMX7lvl2DMazOwoIRb+ps1pUOTE9q6+UMMtvxlDt1rM/4yh2HfaAaBPUfkdaemZWeQeRH5lo8IIIAAAlMuQIBgyi8Q1UMAAQQQQACBCQrYAMEETzGponvu3IRm7otRSznaAMEkamCCFnmVnrfUsQtAfGyqspRWoj854yTOS5kIIIAAApMUIEAwSV3KRgABBBBAAIHpFjirAYJeU2vX/CyLTGkwvCWkPckAgdR9W9PaV1mlZ/xsnJjMi1B1+IAAAgggMPUCBAim/hJRQQQQQAABBBBAAAEEEEAAAQQmL0CAYPLGnAEBBBBAAAEEEEAAAQQQQACBqRcgQDD1l4gKIoAAAggggAACCCCAAAIIIDB5AQIEkzfmDAgggAACCCCAAAIIIIAAAghMvQABgqm/RFQQAQQQQAABBBBAAAEEEEAAgckLECCYvDFnQAABBBBAAAEEEEAAAQQQQGDqBQgQTP0looIIIIAAAggggAACCCCAAAIITF6AAMHkjTkDAggggAACCCCAAAIIIIAAAlMvQIBg6i8RFUQAAQQQQAABBBBAAAEEEEBg8gIECCZvzBkQQAABBBBAAAEEEEAAAQQQmHoBAgRTf4moIAIIIIAAAggggAACCCCAAAKTFyBAMHljzoAAAggggAACCCCAAAIIIIDA1AsQIJj6S0QFEUAAAQQQQGCUQGcjJ2ehos6oHdh+LAKus5NT5cOxFEchCCCAAAJTKkCAYEovDNVCAAEEEJi0QE+tJ0UtzqXkOI4SlzMqbLTUs6fttdXYWFU+Y74vqmG377a1eTujlOMolSmqFumZth/nlL7ftHtPzavbwUsWVNuJqdKHinIH7vx1VFlwlNuIAMQUP8lNBAgmqUvZCCCAAAIXTYAAwUW74rQXAQQQQEBST42VtBJXi6q990ICvbcV5ZKBDu9WSbnbZdUeLYcCBKZDml6pq7srdZ7klVraVNc37W0VNX+jovbu9CF7T4AdJeLqR4Bg+i4YNUIAAQQQQOAUBAgQnAI6p0QAAQQQOG2BnlobFTUiT9ObD2aH09W3iqEAQWPFUXHLr/9uXYWZkpddsNNQ8Wpemx9Pu23x5/eetBe1eiOh9L3GIFPC7B4bIDBGBWUuJ+Q4CV26VlDltQ2FeNkDJvOi/3fF5Fj0VL+TUMJ9b+vRVjnjaH69ZTdIaqp0xVHhRT9fQ51Xa362hiNnJqP8w7o6gUBLP1Ngp6WKyeDwhxX0t9vSdzuq3UnHB0L8fewx7U5dpRuXlIjLINEgQ6L3pqJCJhXKltivvu6pTPmfp91sEyd5Sbn7dXVehe8nW5dOpF29t5sq2mOt/5uBl/z7sv5+062buQ42o8XW19tW0OZ7iyMd9bh+Jo09f8gwp7XtQB3NaccwCNSOtwgggAACpywwkQDBL790xF8MuAe4By7qPZDNZsXf4zU4qd+VjZWEnBvV8Hj2SIDAdOhsBkH3ZVFpN4Ogo+qNeRW3Ip2jk6r4GOcZdEQbKs6lw3WNCRC0HmU1v1RVy29Sd7usXDKt0mt7skEH2m4xr70XBTlXSuoPsjBlz6T6HXp337dlzTsF1fyy2xs5JeaWVX3rb/jYVPlGQonAtfDqX9Tql4sqb9tAhdRvl1uwlxnizBWHgj/BOrrH/C6nxRuDDJLu64qW5xxl+oEMv30rq1r8sqxmIPAzTn21U1MhmVDmXl1t06zdnjrbZS3OmIDLYMjKqHbpQ1ONd77Hbk/t5wWlk4EAlHtfpjX/h4p3jfzAiJPJKGvqa4h2u6qvpOXMldS0wZYjHTeotxdoCJ6/p9bjnBLBOo5pELw2vEcAAQQQOF0BAgQEMwjmcA9wDxzzPUBw4HiDA8bzRP68N+PwE8o/HXQ+3fNGAgQKzkFwvaR6RzIdxvkH/S7xiVT3oCcJdaRNW5M5VeyT5WiAoLupvLM8NF9Ba30+kB0QHyBQr6aCM6/yW6+G3ad5za9vqpxZVNXvZLcfZeTcrnlZDL26CslZlbYjLfI7l4WXXifZrb+TCGUdmCOC7fI67oWheSEiJXvHxMy50HtZUMLJa9O9Bbz2OdF5G8asr9vGTFntyMm7TxaHAwQx7YocJqmtymeOiq/8b9z7cuDsbnUDLxHL6LU90nHRAEHk/LsNFZODzJBxDYbbyhYEEEAAgdMSIEBwzB2Di/rElHaTLcA9MLgHCBCcwQDBO9NhTijzoBlOvTe/naMBguhv7Nclf96BjmoroycvjB520p+DHWlzbrczveDPlxDbiQwMHwgOJeivGDAiQKCearftXA5dbd7yOpEmuOAFX7zj+oGYkb7mWEeJe15SuxcgKKpun4T7gLZdzVdFpZ1LWrXDP/YAdo/5rDLUefeCG3YIiR8g+KYeLmnM+pqhKE5oqIVfjGs96GiPapc7TOCaN/zBHeJxNaP5K9Z1xH0ZvY7uKRsqOgmt2rEBcfU/zHFx5QSGZZhTj2sQBuYTAggggMBpChAgIEDA02PuAe6BY74HCBCcrQBBt1FSJpnS4kb0Wa//6zm2I+R/5847kFP1g9R9tqz0N97khd3nhdDkhaf5i96e23akB2sOeOn46ZWGetEOot/maGfcluW9jgoQ+MMMbm2qa7IJ7HCD1yXNmqwBNzvBPqUf0dF1TxATIIjp1LvtSiaUSOa0vBRJpw9XuP/pIAGC7OPIfTHyfgjX1wREnHEzCKLt6m5qOZlQ7nFLPRsQ2Wmq/NlhAwQ26DHCO3r9XSkTWNjjuFiH8D0xrkH/wvAGAQQQQODUBQgQHHPHgKeog6eoWGBxUe8BAgRnJ0DQfrKstJNW4cWg2zz0mzm2I2T2Cs874E5eaNO/g5MXDhV4OhuGAwRmjHpL5UxC+Qel8DKHbic+IZveH1/jcGcwtI97fEHVZ4XAko9NleYK2nxSkGOCB/YAP2V/aP6GuCEG/ewFe7A/xCA5r1Uz/0OvodU5R27QY7DL0DvXIm6IwVZRs5Ehof32UAAADMpJREFUBkPLOI5ZX33cVH7sOQgqe8574TWgpfLvzlaAYFyDoQvEBgQQQACBUxMgQECAgKfH3APcA8d8DxAgOAMBAjN52715JZIZlaKzrkd/JY8IELjzDpin7/7+Zqz9rM0g6E9eGC3s9D7HBghMddz5CMxwgpwqHwb1az6cH5448MuMiq9s1957Ym7a7BrYJ91uEea7hFIzqcGKD27KeUqpmeF5Hry5A5ZVsZMPjpykMNKRjsxB4J7anUsiMgnjoFnuO9ciMklh7201fpLCjeHg0Tj19U50gFUMgnV0gwuzKjxrexkEu1011xeVCi3DGV4NwT38MJkA5sDDHBf7cxETNGIVg+CV5T0CCCAw9QITCRBMfaupIAIIIIDAxRZwOzcjxtgHZph3kWI6Qr2totJ2/L6VNLPIn6E5CGy1zavbnkiAwCxZ2HpSVM5d5tBR4nJGhY1WPyDiHv++qrxdBvGBHeTulWwCJk5gpQL3PKFJAL397H87L0tanEu5yyaac41c5tAe4L/GBT7cDryZXNDGMkYc4y5z6C8lONy+mM5uoJz96hvYNfS293w5tMpDXP3NAb3tcn/Zx9TcokqvGqosnLEMglDLBx+iBoNveIcAAgggcNoCBAhO+wpwfgQQQAABBBA4UYFRnfJjrUSvodKtkmpvO/15BLrbZinFhHLfD2clHOu5p6UwDKblSlAPBBBAYGwBAgRjU7EjAggggAACCJwHgRMJEOx21Xq+pvz1tFL+KhBuJsDLCxIcMDcKBufhx4U2IIDABRMgQHDBLjjNRQABBBBAAAEEEEAAAQQQQCBOgABBnArbEEAAAQQQQAABBBBAAAEEELhgAgQILtgFp7kIIIAAAggggAACCCCAAAIIxAkQIIhTYRsCCCCAAAIIIIAAAggggAACF0yAAMEFu+A0FwEEEEAAAQQQQAABBBBAAIE4AQIEcSpsQwABBBBAAAEEEEAAAQQQQOCCCRAguGAXnOYigAACCCCAAAIIIIAAAgggECdAgCBOhW0IIIAAAggggAACCCCAAAIIXDABAgQX7ILTXAQQQAABBBBAAAEEEEAAAQTiBAgQxKmwDQEEEEAAAQQQQAABBBBAAIELJkCA4IJdcJqLAAIIIIAAAggggAACCCCAQJzAxQwQ/FzVUnZJ1Z99kujnOKkR237+fknZpapsUSN2O1ubj+BxthpKbRFAAAEEEEAAAQQQQAABBKzA5AIEv/6o7/6Y18L1rLLZrBYWl3TnL3V1PtlTn+JrtAMc/RxXta1vlc1+q63IdxcjQPCzqktZLX1/rsIgkSvJRwQQQAABBBBAAAEEEEDgYgtMJkDw9x/1p8Wsvn7U1K9uQOCTfvvvLX33z1/o6//VOX3xaEAg+jmuhgQICBDE3RdsQwABBBBAAAEEEEAAAQTOicBkAgSNPymbvasXf99fqfNqTV8vLvhZBl9r7WVH4SSD3/TT93eV/72fiZC/q+rrX/cs+FPrB317+6YWsoFj3vw2OCYaEIh+HuzpvXODA15ZJhsiGxieYDMIfnpT1d1/8tvxT3f1QztSSKeuNVunhZv6+uE+2RQ2IPGPjuoPl7RwPZC9sF9Z7R90N+/VJfv7L/T1wxd65zff1jeUCxBtf+izlz3gtds3uG/zKH7Tj3/5WjcXzPYF3Vy6q+8aeweA/uu//isCM/xxnH2Gj2ILAggggAACCCCAAAIIIIDAUQQmEyD47++Uz97Ut68CnfKYWv728q4WvlrT1kcvJPCp/UJ3F7O682wQAPjpr3l98c9P9c4NNnzSr9vf6evrN7W2HVOg3fRzU1v//ZsXaPjHJ/1cu6ub1+/oh4/+DqEOsKToZ1tO8NV22IPbzKFmDoKbN7X0L3UvW+LTr6rfv6ns4pqa//B3/q2uu7/Pa23rV69Of/9ZL1ZvKvvHHzRoaaRg93x39ad/WdLd2s/6NHZZ7/RdPqulyjv3XJ9+e6f6X/6mH/1gzcEDBKZe8UMMPr28q+zNb1U3jfjHJ3W2q1r/z1DoIdIouYGgvQIA5jsTjOAPAggggAACCCCAAAIIIIDAyQpMJkCg3/TTX7/WQnZBX/zxT6rWmnr3WzgvQGpq7eYXWn8TbvCn//fuYNK/X3/QnWxRLyJxhp8efaFs/yl2+Pj4Tz/rb19l9e0r/9toQCD6Oa6QvQIE0WwJt7wv9F3LK6j5bzf1xf/8KVzq31/obiATIfylJPd8WeUfhY/bv6wf9afrWRVrETT/BMcZIOg8+VrZf1rXTzZ4MdSI4Q02EyEuSGCDAwQIht3YggACCCCAAAIIIIAAAghMWmBCAQK/2n//Wc1aVev/t5eGvrC0prrNQHc70cG0/eB7P53e7yTbTmXodY+VA34z6f42xd5MkPhFXl/cDEyyFw0IRD/Hqe8VIBiqy5a+zWb1rZuJH5Oi7w99MO3x9ok5oXu+vP4WGqowXlk/Pyvqi+smOLOup9uB7AOb8RCtb7T90c8jMgj0249aX1pQ9vdL+vb7un7yM0FiWtPf9K//+q9uhoBpezBIEAwOmH34gwACCCCAAAIIIIAAAgggcLICkw0QBNvyj19V//amsvnv9M5sdzuh0Q5w8AD7FP1b1Q/whFq//qDi9ay+/vd3/bT8T7819d1XpxsgyP/73qn3kZb7GQTRtnsBgrHK+vSb3m1V9af/8YWyi0X94J/+ODMIbJ0/dX7Si7/e1dJCVvm/NCNzSNi9Bq/RIAHBgYEN7xBAAAEEEEAAAQQQQACB0xKYTIDgH7/q17jB9a+CSwWaIQZZ5f/qhgvi2+8OMcjq7svo8IT43d2tsU/6f9J3/3RaAQLJDAvoB0b2qHroq9h2HKas3/TinwdtdwMEX/1NoXDF/17TzeBwh3EzCEIVlvRmXV/ELAUZ3c18DgYJbGYImQNxUmxDAAEEEEAAAQQQQAABBE5GYAIBgk9q/s+8sgtLWqv9pI4/Od6nj019939ldfNffuw/Yf71P4tauB6ZvO/bL7T074OgQfMv3hPwp//Hn8jQlHP7C337/8WPsdfHH3Tn+k3dfean1n/6Vc1HX2vh+qCTPDQp4VCHOAZ/2+tEuyn///jUz06IfSKv4BADydSpaJ6u/9uWN5GhO3Hit/pi+W9eNkXM6bw5CAIrF9h99iur84PuLP1JL1r+hIi//qi1fFbF//QjNv4EknefeatFfPq4pfX/8cU+AYJf9cMfs7r5bV1G/dMncy0+qflvSyr+dUs/+xNIdv7XHWUX1xWeNcFWfPg1GCQgODDswxYEEEAAAQQQQAABBBBA4CQFJhAg8Kr/6/95ofU/LvlL4GWV/X1ed/5SVycyXKDzal13/OUBs3b5v9A+v+mn/+dbLfnLHJpy7n7/k9tRHQX12//+rl/mwuLXWnv1o/62dMQAgX7T1sMvvKUTF+7oh1+8s48VIDC7dupa/6N/vFkS8HZgPoa4hozIIHB33aesX18/HSzzaEz/8qN+DZiapSWt58Lyun58U9XSnhkEktpV3bFLTf7bj16NP3VU/8ud0BKUT//7ANkece1mGwIIIIAAAggggAACCCCAwKkITCxAcCqt4aQIIIAAAggggAACCCCAAAIIIHAogWMPEPzHf/xHf5Z6O7ac1+AKDef//eLi4qFuRg5CAAEEEEAAAQQQQAABBBA4PYFjDxCcXlM4MwIIIIAAAggggAACCCCAAAIIHFaAAMFh5TgOAQQQQAABBBBAAAEEEEAAgXMkQIDgHF1MmoIAAggggAACCCCAAAIIIIDAYQUIEBxWjuMQQAABBBBAAAEEEEAAAQQQOEcCBAjO0cWkKQgggAACCCCAAAIIIIAAAggcVoAAwWHlOA4BBBBAAAEEEEAAAQQQQACBcyRAgOAcXUyaggACCCCAAAIIIIAAAggggMBhBQgQHFaO4xBAAAEEEEAAAQQQQAABBBA4RwIECM7RxaQpCCCAAAIIIIAAAggggAACCBxWgADBYeU4DgEEEEAAAQQQQAABBBBAAIFzJECA4BxdTJqCAAIIIIAAAggggAACCCCAwGEFCBAcVo7jEEAAAQQQQAABBBBAAAEEEDhHAgQIztHFpCkIIIAAAggggAACCCCAAAIIHFaAAMFh5TgOAQQQQAABBBBAAAEEEEAAgXMkQIDgHF1MmoIAAggggAACCCCAAAIIIIDAYQUIEBxWjuMQQAABBBBAAAEEEEAAAQQQOEcCBAjO0cWkKQgggAACCCCAAAIIIIAAAggcVoAAwWHlOA4BBBBAAAEEEEAAAQQQQACBcyRAgOAcXUyaggACCCCAAAIIIIAAAggggMBhBQgQHFaO4xBAAAEEEEAAAQQQQAABBBA4RwIECM7RxaQpCCCAAAIIIIAAAggggAACCBxW4P8HPNuonOgx1IgAAAAASUVORK5CYII=)"
      ]
    },
    {
      "cell_type": "markdown",
      "metadata": {
        "id": "8Rz-Mw2Jy5n-"
      },
      "source": [
        "##4. Reproduce \"What do you use Python for? (multiple answers)\" chart"
      ]
    },
    {
      "cell_type": "code",
      "metadata": {
        "id": "hhq2geBU0sDB"
      },
      "source": [
        "#Only obtaining necessary columns \n",
        "df_py_m=df_py[df_py.columns[41]]\n",
        "# What do you use Python for the most?"
      ],
      "execution_count": null,
      "outputs": []
    },
    {
      "cell_type": "code",
      "metadata": {
        "id": "3Of95LSx1R63"
      },
      "source": [
        "df_py_mult=df_py_m.value_counts()\n",
        "df_py_mult=pd.DataFrame(df_py_mult)\n",
        "df_py_mult.reset_index(inplace=True)\n"
      ],
      "execution_count": null,
      "outputs": []
    },
    {
      "cell_type": "code",
      "metadata": {
        "id": "ZnLkUZzK3Ljg",
        "outputId": "85c5a16a-339e-4d09-a663-eff7a0603a6e",
        "colab": {
          "base_uri": "https://localhost:8080/",
          "height": 545
        }
      },
      "source": [
        "df_py_mult.dropna(inplace=True)\n",
        "df_py_mult"
      ],
      "execution_count": null,
      "outputs": [
        {
          "output_type": "execute_result",
          "data": {
            "text/html": [
              "<div>\n",
              "<style scoped>\n",
              "    .dataframe tbody tr th:only-of-type {\n",
              "        vertical-align: middle;\n",
              "    }\n",
              "\n",
              "    .dataframe tbody tr th {\n",
              "        vertical-align: top;\n",
              "    }\n",
              "\n",
              "    .dataframe thead th {\n",
              "        text-align: right;\n",
              "    }\n",
              "</style>\n",
              "<table border=\"1\" class=\"dataframe\">\n",
              "  <thead>\n",
              "    <tr style=\"text-align: right;\">\n",
              "      <th></th>\n",
              "      <th>index</th>\n",
              "      <th>What do you use Python for the most?</th>\n",
              "    </tr>\n",
              "  </thead>\n",
              "  <tbody>\n",
              "    <tr>\n",
              "      <th>0</th>\n",
              "      <td>Web development</td>\n",
              "      <td>2112</td>\n",
              "    </tr>\n",
              "    <tr>\n",
              "      <th>1</th>\n",
              "      <td>Data analysis</td>\n",
              "      <td>1430</td>\n",
              "    </tr>\n",
              "    <tr>\n",
              "      <th>2</th>\n",
              "      <td>Educational purposes</td>\n",
              "      <td>763</td>\n",
              "    </tr>\n",
              "    <tr>\n",
              "      <th>3</th>\n",
              "      <td>DevOps / System administration / Writing autom...</td>\n",
              "      <td>754</td>\n",
              "    </tr>\n",
              "    <tr>\n",
              "      <th>4</th>\n",
              "      <td>Machine learning</td>\n",
              "      <td>696</td>\n",
              "    </tr>\n",
              "    <tr>\n",
              "      <th>5</th>\n",
              "      <td>Desktop development</td>\n",
              "      <td>458</td>\n",
              "    </tr>\n",
              "    <tr>\n",
              "      <th>6</th>\n",
              "      <td>Programming of web parsers / scrapers / crawlers</td>\n",
              "      <td>300</td>\n",
              "    </tr>\n",
              "    <tr>\n",
              "      <th>7</th>\n",
              "      <td>Other - Write In:</td>\n",
              "      <td>284</td>\n",
              "    </tr>\n",
              "    <tr>\n",
              "      <th>8</th>\n",
              "      <td>Software testing / Writing automated tests</td>\n",
              "      <td>275</td>\n",
              "    </tr>\n",
              "    <tr>\n",
              "      <th>9</th>\n",
              "      <td>Network programming</td>\n",
              "      <td>268</td>\n",
              "    </tr>\n",
              "    <tr>\n",
              "      <th>10</th>\n",
              "      <td>Software prototyping</td>\n",
              "      <td>241</td>\n",
              "    </tr>\n",
              "    <tr>\n",
              "      <th>11</th>\n",
              "      <td>Game development</td>\n",
              "      <td>191</td>\n",
              "    </tr>\n",
              "    <tr>\n",
              "      <th>12</th>\n",
              "      <td>Computer graphics</td>\n",
              "      <td>143</td>\n",
              "    </tr>\n",
              "    <tr>\n",
              "      <th>13</th>\n",
              "      <td>Embedded development</td>\n",
              "      <td>114</td>\n",
              "    </tr>\n",
              "    <tr>\n",
              "      <th>14</th>\n",
              "      <td>Mobile development</td>\n",
              "      <td>56</td>\n",
              "    </tr>\n",
              "    <tr>\n",
              "      <th>15</th>\n",
              "      <td>Multimedia applications development</td>\n",
              "      <td>27</td>\n",
              "    </tr>\n",
              "  </tbody>\n",
              "</table>\n",
              "</div>"
            ],
            "text/plain": [
              "                                                index  What do you use Python for the most?\n",
              "0                                     Web development                                  2112\n",
              "1                                       Data analysis                                  1430\n",
              "2                                Educational purposes                                   763\n",
              "3   DevOps / System administration / Writing autom...                                   754\n",
              "4                                    Machine learning                                   696\n",
              "5                                 Desktop development                                   458\n",
              "6    Programming of web parsers / scrapers / crawlers                                   300\n",
              "7                                   Other - Write In:                                   284\n",
              "8          Software testing / Writing automated tests                                   275\n",
              "9                                 Network programming                                   268\n",
              "10                               Software prototyping                                   241\n",
              "11                                   Game development                                   191\n",
              "12                                  Computer graphics                                   143\n",
              "13                               Embedded development                                   114\n",
              "14                                 Mobile development                                    56\n",
              "15                Multimedia applications development                                    27"
            ]
          },
          "metadata": {
            "tags": []
          },
          "execution_count": 19
        }
      ]
    },
    {
      "cell_type": "code",
      "metadata": {
        "id": "QUQp0FPF3ugj",
        "outputId": "5284e680-387a-4a56-fde8-ea2ed5ca34e6",
        "colab": {
          "base_uri": "https://localhost:8080/",
          "height": 545
        }
      },
      "source": [
        "#Renaming columns\n",
        "\n",
        "df_py_mult.columns=('Python for','Count_')\n",
        "df_py_mult"
      ],
      "execution_count": null,
      "outputs": [
        {
          "output_type": "execute_result",
          "data": {
            "text/html": [
              "<div>\n",
              "<style scoped>\n",
              "    .dataframe tbody tr th:only-of-type {\n",
              "        vertical-align: middle;\n",
              "    }\n",
              "\n",
              "    .dataframe tbody tr th {\n",
              "        vertical-align: top;\n",
              "    }\n",
              "\n",
              "    .dataframe thead th {\n",
              "        text-align: right;\n",
              "    }\n",
              "</style>\n",
              "<table border=\"1\" class=\"dataframe\">\n",
              "  <thead>\n",
              "    <tr style=\"text-align: right;\">\n",
              "      <th></th>\n",
              "      <th>Python for</th>\n",
              "      <th>Count_</th>\n",
              "    </tr>\n",
              "  </thead>\n",
              "  <tbody>\n",
              "    <tr>\n",
              "      <th>0</th>\n",
              "      <td>Web development</td>\n",
              "      <td>2112</td>\n",
              "    </tr>\n",
              "    <tr>\n",
              "      <th>1</th>\n",
              "      <td>Data analysis</td>\n",
              "      <td>1430</td>\n",
              "    </tr>\n",
              "    <tr>\n",
              "      <th>2</th>\n",
              "      <td>Educational purposes</td>\n",
              "      <td>763</td>\n",
              "    </tr>\n",
              "    <tr>\n",
              "      <th>3</th>\n",
              "      <td>DevOps / System administration / Writing autom...</td>\n",
              "      <td>754</td>\n",
              "    </tr>\n",
              "    <tr>\n",
              "      <th>4</th>\n",
              "      <td>Machine learning</td>\n",
              "      <td>696</td>\n",
              "    </tr>\n",
              "    <tr>\n",
              "      <th>5</th>\n",
              "      <td>Desktop development</td>\n",
              "      <td>458</td>\n",
              "    </tr>\n",
              "    <tr>\n",
              "      <th>6</th>\n",
              "      <td>Programming of web parsers / scrapers / crawlers</td>\n",
              "      <td>300</td>\n",
              "    </tr>\n",
              "    <tr>\n",
              "      <th>7</th>\n",
              "      <td>Other - Write In:</td>\n",
              "      <td>284</td>\n",
              "    </tr>\n",
              "    <tr>\n",
              "      <th>8</th>\n",
              "      <td>Software testing / Writing automated tests</td>\n",
              "      <td>275</td>\n",
              "    </tr>\n",
              "    <tr>\n",
              "      <th>9</th>\n",
              "      <td>Network programming</td>\n",
              "      <td>268</td>\n",
              "    </tr>\n",
              "    <tr>\n",
              "      <th>10</th>\n",
              "      <td>Software prototyping</td>\n",
              "      <td>241</td>\n",
              "    </tr>\n",
              "    <tr>\n",
              "      <th>11</th>\n",
              "      <td>Game development</td>\n",
              "      <td>191</td>\n",
              "    </tr>\n",
              "    <tr>\n",
              "      <th>12</th>\n",
              "      <td>Computer graphics</td>\n",
              "      <td>143</td>\n",
              "    </tr>\n",
              "    <tr>\n",
              "      <th>13</th>\n",
              "      <td>Embedded development</td>\n",
              "      <td>114</td>\n",
              "    </tr>\n",
              "    <tr>\n",
              "      <th>14</th>\n",
              "      <td>Mobile development</td>\n",
              "      <td>56</td>\n",
              "    </tr>\n",
              "    <tr>\n",
              "      <th>15</th>\n",
              "      <td>Multimedia applications development</td>\n",
              "      <td>27</td>\n",
              "    </tr>\n",
              "  </tbody>\n",
              "</table>\n",
              "</div>"
            ],
            "text/plain": [
              "                                           Python for  Count_\n",
              "0                                     Web development    2112\n",
              "1                                       Data analysis    1430\n",
              "2                                Educational purposes     763\n",
              "3   DevOps / System administration / Writing autom...     754\n",
              "4                                    Machine learning     696\n",
              "5                                 Desktop development     458\n",
              "6    Programming of web parsers / scrapers / crawlers     300\n",
              "7                                   Other - Write In:     284\n",
              "8          Software testing / Writing automated tests     275\n",
              "9                                 Network programming     268\n",
              "10                               Software prototyping     241\n",
              "11                                   Game development     191\n",
              "12                                  Computer graphics     143\n",
              "13                               Embedded development     114\n",
              "14                                 Mobile development      56\n",
              "15                Multimedia applications development      27"
            ]
          },
          "metadata": {
            "tags": []
          },
          "execution_count": 20
        }
      ]
    },
    {
      "cell_type": "code",
      "metadata": {
        "id": "aa-aaDQu3ieL",
        "outputId": "3fe257b7-9451-4773-bf5d-9a34ade8e0f7",
        "colab": {
          "base_uri": "https://localhost:8080/",
          "height": 545
        }
      },
      "source": [
        "#Getting percentage (We calculated the total previously)\n",
        "df_py_mult['Percentage_']=(df_py_mult['Count_']*100)/total\n",
        "df_py_mult"
      ],
      "execution_count": null,
      "outputs": [
        {
          "output_type": "execute_result",
          "data": {
            "text/html": [
              "<div>\n",
              "<style scoped>\n",
              "    .dataframe tbody tr th:only-of-type {\n",
              "        vertical-align: middle;\n",
              "    }\n",
              "\n",
              "    .dataframe tbody tr th {\n",
              "        vertical-align: top;\n",
              "    }\n",
              "\n",
              "    .dataframe thead th {\n",
              "        text-align: right;\n",
              "    }\n",
              "</style>\n",
              "<table border=\"1\" class=\"dataframe\">\n",
              "  <thead>\n",
              "    <tr style=\"text-align: right;\">\n",
              "      <th></th>\n",
              "      <th>Python for</th>\n",
              "      <th>Count_</th>\n",
              "      <th>Percentage_</th>\n",
              "    </tr>\n",
              "  </thead>\n",
              "  <tbody>\n",
              "    <tr>\n",
              "      <th>0</th>\n",
              "      <td>Web development</td>\n",
              "      <td>2112</td>\n",
              "      <td>26.035503</td>\n",
              "    </tr>\n",
              "    <tr>\n",
              "      <th>1</th>\n",
              "      <td>Data analysis</td>\n",
              "      <td>1430</td>\n",
              "      <td>17.628205</td>\n",
              "    </tr>\n",
              "    <tr>\n",
              "      <th>2</th>\n",
              "      <td>Educational purposes</td>\n",
              "      <td>763</td>\n",
              "      <td>9.405819</td>\n",
              "    </tr>\n",
              "    <tr>\n",
              "      <th>3</th>\n",
              "      <td>DevOps / System administration / Writing autom...</td>\n",
              "      <td>754</td>\n",
              "      <td>9.294872</td>\n",
              "    </tr>\n",
              "    <tr>\n",
              "      <th>4</th>\n",
              "      <td>Machine learning</td>\n",
              "      <td>696</td>\n",
              "      <td>8.579882</td>\n",
              "    </tr>\n",
              "    <tr>\n",
              "      <th>5</th>\n",
              "      <td>Desktop development</td>\n",
              "      <td>458</td>\n",
              "      <td>5.645957</td>\n",
              "    </tr>\n",
              "    <tr>\n",
              "      <th>6</th>\n",
              "      <td>Programming of web parsers / scrapers / crawlers</td>\n",
              "      <td>300</td>\n",
              "      <td>3.698225</td>\n",
              "    </tr>\n",
              "    <tr>\n",
              "      <th>7</th>\n",
              "      <td>Other - Write In:</td>\n",
              "      <td>284</td>\n",
              "      <td>3.500986</td>\n",
              "    </tr>\n",
              "    <tr>\n",
              "      <th>8</th>\n",
              "      <td>Software testing / Writing automated tests</td>\n",
              "      <td>275</td>\n",
              "      <td>3.390039</td>\n",
              "    </tr>\n",
              "    <tr>\n",
              "      <th>9</th>\n",
              "      <td>Network programming</td>\n",
              "      <td>268</td>\n",
              "      <td>3.303748</td>\n",
              "    </tr>\n",
              "    <tr>\n",
              "      <th>10</th>\n",
              "      <td>Software prototyping</td>\n",
              "      <td>241</td>\n",
              "      <td>2.970907</td>\n",
              "    </tr>\n",
              "    <tr>\n",
              "      <th>11</th>\n",
              "      <td>Game development</td>\n",
              "      <td>191</td>\n",
              "      <td>2.354536</td>\n",
              "    </tr>\n",
              "    <tr>\n",
              "      <th>12</th>\n",
              "      <td>Computer graphics</td>\n",
              "      <td>143</td>\n",
              "      <td>1.762821</td>\n",
              "    </tr>\n",
              "    <tr>\n",
              "      <th>13</th>\n",
              "      <td>Embedded development</td>\n",
              "      <td>114</td>\n",
              "      <td>1.405325</td>\n",
              "    </tr>\n",
              "    <tr>\n",
              "      <th>14</th>\n",
              "      <td>Mobile development</td>\n",
              "      <td>56</td>\n",
              "      <td>0.690335</td>\n",
              "    </tr>\n",
              "    <tr>\n",
              "      <th>15</th>\n",
              "      <td>Multimedia applications development</td>\n",
              "      <td>27</td>\n",
              "      <td>0.332840</td>\n",
              "    </tr>\n",
              "  </tbody>\n",
              "</table>\n",
              "</div>"
            ],
            "text/plain": [
              "                                           Python for  Count_  Percentage_\n",
              "0                                     Web development    2112    26.035503\n",
              "1                                       Data analysis    1430    17.628205\n",
              "2                                Educational purposes     763     9.405819\n",
              "3   DevOps / System administration / Writing autom...     754     9.294872\n",
              "4                                    Machine learning     696     8.579882\n",
              "5                                 Desktop development     458     5.645957\n",
              "6    Programming of web parsers / scrapers / crawlers     300     3.698225\n",
              "7                                   Other - Write In:     284     3.500986\n",
              "8          Software testing / Writing automated tests     275     3.390039\n",
              "9                                 Network programming     268     3.303748\n",
              "10                               Software prototyping     241     2.970907\n",
              "11                                   Game development     191     2.354536\n",
              "12                                  Computer graphics     143     1.762821\n",
              "13                               Embedded development     114     1.405325\n",
              "14                                 Mobile development      56     0.690335\n",
              "15                Multimedia applications development      27     0.332840"
            ]
          },
          "metadata": {
            "tags": []
          },
          "execution_count": 21
        }
      ]
    },
    {
      "cell_type": "code",
      "metadata": {
        "id": "WhUAydsQ29oq",
        "outputId": "bbc39fc9-aac7-4388-d8fa-aba41c6b5125",
        "colab": {
          "base_uri": "https://localhost:8080/",
          "height": 282
        }
      },
      "source": [
        "#Bar chart\n",
        "df_py_mult = df_py_mult.sort_values(by=['Percentage_'], ascending=True)\n",
        "df_py_mult.plot.barh(x='Python for', y='Percentage_',rot=0)"
      ],
      "execution_count": null,
      "outputs": [
        {
          "output_type": "execute_result",
          "data": {
            "text/plain": [
              "<matplotlib.axes._subplots.AxesSubplot at 0x7f2e218a8c18>"
            ]
          },
          "metadata": {
            "tags": []
          },
          "execution_count": 22
        },
        {
          "output_type": "display_data",
          "data": {
            "image/png": "[encoded data removed]",
            "text/plain": [
              "<Figure size 432x288 with 1 Axes>"
            ]
          },
          "metadata": {
            "tags": [],
            "needs_background": "light"
          }
        }
      ]
    },
    {
      "cell_type": "markdown",
      "metadata": {
        "id": "5S8aaTQBG7pA"
      },
      "source": [
        "**According to the website, we have the same values**\n",
        "![image.png](data:image/png;base64,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)"
      ]
    },
    {
      "cell_type": "markdown",
      "metadata": {
        "id": "HCvH2cLM_1Cq"
      },
      "source": [
        "# Exercise 2: slicing arrays\n",
        "\n",
        "Given the array provided in the next cell. Do the following with slicing (check the other notebooks for examples)\n",
        "\n",
        "\n",
        "\n",
        "*   Print the whole array using slice\n",
        "*   Print number 12\n",
        "*   Reverse the array\n",
        "*   Reverse only one row in the array\n",
        "*   Slice the first three columns in the array\n",
        "*   Slice the last three columns and reverse them\n",
        "*   Slice the last two rows and print them\n",
        "*   Slice the last integers in a row\n",
        "*   Slice rows and columns\n",
        "\n",
        "\n",
        "[Here](https://machinelearningmastery.com/index-slice-reshape-numpy-arrays-machine-learning-python/) some good examples ;-)\n",
        "\n",
        "\n",
        "\n"
      ]
    },
    {
      "cell_type": "code",
      "metadata": {
        "id": "ksQUFmu3-HKl",
        "outputId": "c65b14cb-a715-4675-a833-2968362262fb",
        "colab": {
          "base_uri": "https://localhost:8080/"
        }
      },
      "source": [
        "import numpy as np\n",
        "\n",
        "a = [[1, 2, 3, 4, 5], [6, 7, 8, 9, 10], [11, 12, 13, 14, 15], [16, 17, 18, 19, 20]]\n",
        "nd_a = np.array(a)\n",
        "nd_a"
      ],
      "execution_count": null,
      "outputs": [
        {
          "output_type": "execute_result",
          "data": {
            "text/plain": [
              "array([[ 1,  2,  3,  4,  5],\n",
              "       [ 6,  7,  8,  9, 10],\n",
              "       [11, 12, 13, 14, 15],\n",
              "       [16, 17, 18, 19, 20]])"
            ]
          },
          "metadata": {
            "tags": []
          },
          "execution_count": 63
        }
      ]
    },
    {
      "cell_type": "markdown",
      "metadata": {
        "id": "eG_sbJ8MXlrM"
      },
      "source": [
        "*   **Print the whole array using slice**"
      ]
    },
    {
      "cell_type": "code",
      "metadata": {
        "id": "GDMyk3aOwotZ",
        "outputId": "d8adb317-25a5-4cb7-c235-7983c299f262",
        "colab": {
          "base_uri": "https://localhost:8080/"
        }
      },
      "source": [
        "nd_a[:]"
      ],
      "execution_count": null,
      "outputs": [
        {
          "output_type": "execute_result",
          "data": {
            "text/plain": [
              "array([[ 1,  2,  3,  4,  5],\n",
              "       [ 6,  7,  8,  9, 10],\n",
              "       [11, 12, 13, 14, 15],\n",
              "       [16, 17, 18, 19, 20]])"
            ]
          },
          "metadata": {
            "tags": []
          },
          "execution_count": 64
        }
      ]
    },
    {
      "cell_type": "markdown",
      "metadata": {
        "id": "k80AScXTYRIs"
      },
      "source": [
        "\n",
        "\n",
        "*   **Print number 12**\n",
        "\n"
      ]
    },
    {
      "cell_type": "code",
      "metadata": {
        "id": "isZhDF6RYfPP",
        "outputId": "401e8938-eae6-46f9-a98b-a24b11eebb72",
        "colab": {
          "base_uri": "https://localhost:8080/"
        }
      },
      "source": [
        "nd_a[2,1:2]"
      ],
      "execution_count": null,
      "outputs": [
        {
          "output_type": "execute_result",
          "data": {
            "text/plain": [
              "array([12])"
            ]
          },
          "metadata": {
            "tags": []
          },
          "execution_count": 65
        }
      ]
    },
    {
      "cell_type": "markdown",
      "metadata": {
        "id": "4FWbx6LfYd5I"
      },
      "source": [
        "\n",
        "\n",
        "*   **Reverse the array**\n",
        "\n"
      ]
    },
    {
      "cell_type": "code",
      "metadata": {
        "id": "_mnaYwP-bpEB",
        "outputId": "e0cd32aa-23e9-4efb-9bee-f7c2e7cd431c",
        "colab": {
          "base_uri": "https://localhost:8080/"
        }
      },
      "source": [
        "np.flip(nd_a)  \n",
        "##nd_a[::-1]"
      ],
      "execution_count": null,
      "outputs": [
        {
          "output_type": "execute_result",
          "data": {
            "text/plain": [
              "array([[20, 19, 18, 17, 16],\n",
              "       [15, 14, 13, 12, 11],\n",
              "       [10,  9,  8,  7,  6],\n",
              "       [ 5,  4,  3,  2,  1]])"
            ]
          },
          "metadata": {
            "tags": []
          },
          "execution_count": 66
        }
      ]
    },
    {
      "cell_type": "markdown",
      "metadata": {
        "id": "qsNyACEgb9da"
      },
      "source": [
        "**Reverse only one row in the array**"
      ]
    },
    {
      "cell_type": "code",
      "metadata": {
        "id": "6OxwYbZAcAR5",
        "outputId": "b7993f4f-35c1-41f6-c943-c26cb2d8b343",
        "colab": {
          "base_uri": "https://localhost:8080/"
        }
      },
      "source": [
        "##nd_a[1::-1]\n",
        "nd_b =nd_a\n",
        "nd_b[0] = np.flip(nd_b[0])\n",
        "nd_b\n"
      ],
      "execution_count": null,
      "outputs": [
        {
          "output_type": "execute_result",
          "data": {
            "text/plain": [
              "array([[ 5,  4,  3,  2,  1],\n",
              "       [ 6,  7,  8,  9, 10],\n",
              "       [11, 12, 13, 14, 15],\n",
              "       [16, 17, 18, 19, 20]])"
            ]
          },
          "metadata": {
            "tags": []
          },
          "execution_count": 115
        }
      ]
    },
    {
      "cell_type": "markdown",
      "metadata": {
        "id": "slXDUkIRgK9y"
      },
      "source": [
        "**Slice the first three columns in the array**"
      ]
    },
    {
      "cell_type": "code",
      "metadata": {
        "id": "Imu4UMfOgNUO",
        "outputId": "906ed257-a4f3-4194-8302-c7dda1a94704",
        "colab": {
          "base_uri": "https://localhost:8080/"
        }
      },
      "source": [
        "nd_a[:,[0,1,2]]"
      ],
      "execution_count": null,
      "outputs": [
        {
          "output_type": "execute_result",
          "data": {
            "text/plain": [
              "array([[ 1,  2,  3],\n",
              "       [ 6,  7,  8],\n",
              "       [11, 12, 13],\n",
              "       [16, 17, 18]])"
            ]
          },
          "metadata": {
            "tags": []
          },
          "execution_count": 86
        }
      ]
    },
    {
      "cell_type": "markdown",
      "metadata": {
        "id": "X5mYkLPOg_y0"
      },
      "source": [
        "**Slice the last three columns and reverse them**"
      ]
    },
    {
      "cell_type": "code",
      "metadata": {
        "id": "aZcI36BVhCWQ",
        "outputId": "00605e64-b851-4a3b-f980-954b2ff88850",
        "colab": {
          "base_uri": "https://localhost:8080/"
        }
      },
      "source": [
        "np.flip(nd_a[:,[2,3,4]])"
      ],
      "execution_count": null,
      "outputs": [
        {
          "output_type": "execute_result",
          "data": {
            "text/plain": [
              "array([[20, 19, 18],\n",
              "       [15, 14, 13],\n",
              "       [10,  9,  8],\n",
              "       [ 5,  4,  3]])"
            ]
          },
          "metadata": {
            "tags": []
          },
          "execution_count": 90
        }
      ]
    },
    {
      "cell_type": "markdown",
      "metadata": {
        "id": "3Utq6YKKhvck"
      },
      "source": [
        "**Slice the last two rows and print them**"
      ]
    },
    {
      "cell_type": "code",
      "metadata": {
        "id": "XKSniyI8hx0j",
        "outputId": "5885bbb3-c65f-41a2-957d-58959b4975a6",
        "colab": {
          "base_uri": "https://localhost:8080/"
        }
      },
      "source": [
        "nd_a[-2:]"
      ],
      "execution_count": null,
      "outputs": [
        {
          "output_type": "execute_result",
          "data": {
            "text/plain": [
              "array([[11, 12, 13, 14, 15],\n",
              "       [16, 17, 18, 19, 20]])"
            ]
          },
          "metadata": {
            "tags": []
          },
          "execution_count": 93
        }
      ]
    },
    {
      "cell_type": "markdown",
      "metadata": {
        "id": "fGuhJZWNiSch"
      },
      "source": [
        "**Slice the last integers in a row**"
      ]
    },
    {
      "cell_type": "code",
      "metadata": {
        "id": "ufAxFgxriUw9",
        "outputId": "f0937870-5042-4074-81f7-d3dfbe178512",
        "colab": {
          "base_uri": "https://localhost:8080/"
        }
      },
      "source": [
        "nd_a[:,[4]]"
      ],
      "execution_count": null,
      "outputs": [
        {
          "output_type": "execute_result",
          "data": {
            "text/plain": [
              "array([[ 5],\n",
              "       [10],\n",
              "       [15],\n",
              "       [20]])"
            ]
          },
          "metadata": {
            "tags": []
          },
          "execution_count": 96
        }
      ]
    },
    {
      "cell_type": "markdown",
      "metadata": {
        "id": "eqP0asG5j99t"
      },
      "source": [
        "**Slice rows and columns**"
      ]
    },
    {
      "cell_type": "code",
      "metadata": {
        "id": "-JoHbELnkA2V",
        "outputId": "6752899c-548b-4a06-d0de-bf7ec9faf598",
        "colab": {
          "base_uri": "https://localhost:8080/"
        }
      },
      "source": [
        "nd_a[:]"
      ],
      "execution_count": null,
      "outputs": [
        {
          "output_type": "execute_result",
          "data": {
            "text/plain": [
              "array([[ 1,  2,  3,  4,  5],\n",
              "       [ 6,  7,  8,  9, 10],\n",
              "       [11, 12, 13, 14, 15],\n",
              "       [16, 17, 18, 19, 20]])"
            ]
          },
          "metadata": {
            "tags": []
          },
          "execution_count": 97
        }
      ]
    },
    {
      "cell_type": "markdown",
      "metadata": {
        "id": "XrA3YsGkQVY4"
      },
      "source": [
        "# Exercise 3: when is best to bike alone?\n",
        "\n",
        "Given the bike dataset:\n",
        "\n",
        "* Download the Dataset using curl\n",
        "* Open the dataset using Pandas\n",
        "* Display the DataFrame\n",
        "* Reply to the following questions (either by plotting the graph and summarizing the values):\n",
        "\n",
        "    * When are the busiest hours per week in Total?\n",
        "    * Where will you be more comfortable (alone) riding during the week in West or East?\n",
        "    * What about riding during the business days? When and where are the best hours to ride alone between 06:00 and 10:00? And between 15:00 and 20:00?\n",
        "    * What happened during the coronavirus pandemic? Did the daily riding hours change? How many riders are passing through the bridge comparing 2018 and 2020?"
      ]
    },
    {
      "cell_type": "markdown",
      "metadata": {
        "id": "87hPeF18wKYx"
      },
      "source": [
        "**Download the Dataset using curl**"
      ]
    },
    {
      "cell_type": "code",
      "metadata": {
        "id": "007TRg0V4EUn",
        "outputId": "8d5fa263-73be-478a-d2fd-689adf7329c3",
        "colab": {
          "base_uri": "https://localhost:8080/"
        }
      },
      "source": [
        "!curl -o FremontBridge.csv https://data.seattle.gov/api/views/65db-xm6k/rows.csv?accessType=DOWNLOAD"
      ],
      "execution_count": 3,
      "outputs": [
        {
          "output_type": "stream",
          "text": [
            "  % Total    % Received % Xferd  Average Speed   Time    Time     Time  Current\n",
            "                                 Dload  Upload   Total   Spent    Left  Speed\n",
            "100 4248k    0 4248k    0     0  1477k      0 --:--:--  0:00:02 --:--:-- 1477k\n"
          ],
          "name": "stdout"
        }
      ]
    },
    {
      "cell_type": "markdown",
      "metadata": {
        "id": "mEJSQ-4BwOWn"
      },
      "source": [
        "**Open the dataset using Pandas**"
      ]
    },
    {
      "cell_type": "code",
      "metadata": {
        "id": "2q5IET-4wSjz"
      },
      "source": [
        "import pandas as pd\n",
        "\n",
        "data = pd.read_csv('FremontBridge.csv', index_col='Date', parse_dates=True)\n",
        "data.columns = ['Total', 'East', 'West']\n",
        "data['Total'] = data.eval('East + West')"
      ],
      "execution_count": 4,
      "outputs": []
    },
    {
      "cell_type": "markdown",
      "metadata": {
        "id": "sXoYTwcuwtM_"
      },
      "source": [
        "**Display the DataFrame**"
      ]
    },
    {
      "cell_type": "code",
      "metadata": {
        "id": "EvvYag8OxD1N",
        "outputId": "8ea84b5a-dabd-4a48-d021-fce1af1202c2",
        "colab": {
          "base_uri": "https://localhost:8080/",
          "height": 235
        }
      },
      "source": [
        "data.head()"
      ],
      "execution_count": 5,
      "outputs": [
        {
          "output_type": "execute_result",
          "data": {
            "text/html": [
              "<div>\n",
              "<style scoped>\n",
              "    .dataframe tbody tr th:only-of-type {\n",
              "        vertical-align: middle;\n",
              "    }\n",
              "\n",
              "    .dataframe tbody tr th {\n",
              "        vertical-align: top;\n",
              "    }\n",
              "\n",
              "    .dataframe thead th {\n",
              "        text-align: right;\n",
              "    }\n",
              "</style>\n",
              "<table border=\"1\" class=\"dataframe\">\n",
              "  <thead>\n",
              "    <tr style=\"text-align: right;\">\n",
              "      <th></th>\n",
              "      <th>Total</th>\n",
              "      <th>East</th>\n",
              "      <th>West</th>\n",
              "    </tr>\n",
              "    <tr>\n",
              "      <th>Date</th>\n",
              "      <th></th>\n",
              "      <th></th>\n",
              "      <th></th>\n",
              "    </tr>\n",
              "  </thead>\n",
              "  <tbody>\n",
              "    <tr>\n",
              "      <th>2012-10-03 00:00:00</th>\n",
              "      <td>13.0</td>\n",
              "      <td>4.0</td>\n",
              "      <td>9.0</td>\n",
              "    </tr>\n",
              "    <tr>\n",
              "      <th>2012-10-03 01:00:00</th>\n",
              "      <td>10.0</td>\n",
              "      <td>4.0</td>\n",
              "      <td>6.0</td>\n",
              "    </tr>\n",
              "    <tr>\n",
              "      <th>2012-10-03 02:00:00</th>\n",
              "      <td>2.0</td>\n",
              "      <td>1.0</td>\n",
              "      <td>1.0</td>\n",
              "    </tr>\n",
              "    <tr>\n",
              "      <th>2012-10-03 03:00:00</th>\n",
              "      <td>5.0</td>\n",
              "      <td>2.0</td>\n",
              "      <td>3.0</td>\n",
              "    </tr>\n",
              "    <tr>\n",
              "      <th>2012-10-03 04:00:00</th>\n",
              "      <td>7.0</td>\n",
              "      <td>6.0</td>\n",
              "      <td>1.0</td>\n",
              "    </tr>\n",
              "  </tbody>\n",
              "</table>\n",
              "</div>"
            ],
            "text/plain": [
              "                     Total  East  West\n",
              "Date                                  \n",
              "2012-10-03 00:00:00   13.0   4.0   9.0\n",
              "2012-10-03 01:00:00   10.0   4.0   6.0\n",
              "2012-10-03 02:00:00    2.0   1.0   1.0\n",
              "2012-10-03 03:00:00    5.0   2.0   3.0\n",
              "2012-10-03 04:00:00    7.0   6.0   1.0"
            ]
          },
          "metadata": {
            "tags": []
          },
          "execution_count": 5
        }
      ]
    },
    {
      "cell_type": "code",
      "metadata": {
        "id": "SwMPzDcZyR2X"
      },
      "source": [
        "%matplotlib inline\n",
        "import seaborn; seaborn.set()\n",
        "import matplotlib.pyplot as plt"
      ],
      "execution_count": null,
      "outputs": []
    },
    {
      "cell_type": "markdown",
      "metadata": {
        "id": "KAvWCb9JxgHQ"
      },
      "source": [
        "## **When are the busiest hours per week in Total?**"
      ]
    },
    {
      "cell_type": "markdown",
      "metadata": {
        "id": "k0blCxLI5Rgx"
      },
      "source": [
        "**Looking the information during the week**"
      ]
    },
    {
      "cell_type": "code",
      "metadata": {
        "id": "VPe2WNb-zGTg",
        "outputId": "a08c1400-c3b9-47b0-8732-a97f6df73237",
        "colab": {
          "base_uri": "https://localhost:8080/",
          "height": 268
        }
      },
      "source": [
        "import numpy as np\n",
        "by_weekday = data.groupby(data.index.weekday).mean()\n",
        "by_weekday.index = ['Mon', 'Tues', 'Wed', 'Thurs', 'Fri', 'Sat', 'Sun']\n",
        "by_weekday.plot(style=[':', '--', '-']);"
      ],
      "execution_count": null,
      "outputs": [
        {
          "output_type": "display_data",
          "data": {
            "image/png": "[encoded data removed]",
            "text/plain": [
              "<Figure size 432x288 with 1 Axes>"
            ]
          },
          "metadata": {
            "tags": []
          }
        }
      ]
    },
    {
      "cell_type": "code",
      "metadata": {
        "id": "qwrab701Bqgt",
        "outputId": "2e8be75d-d050-4563-c878-f316901ab1ec",
        "colab": {
          "base_uri": "https://localhost:8080/",
          "height": 235
        }
      },
      "source": [
        "by_time = data.groupby([data.index.weekday, data.index.time]).mean()\n",
        "by_time.head()"
      ],
      "execution_count": null,
      "outputs": [
        {
          "output_type": "execute_result",
          "data": {
            "text/html": [
              "<div>\n",
              "<style scoped>\n",
              "    .dataframe tbody tr th:only-of-type {\n",
              "        vertical-align: middle;\n",
              "    }\n",
              "\n",
              "    .dataframe tbody tr th {\n",
              "        vertical-align: top;\n",
              "    }\n",
              "\n",
              "    .dataframe thead th {\n",
              "        text-align: right;\n",
              "    }\n",
              "</style>\n",
              "<table border=\"1\" class=\"dataframe\">\n",
              "  <thead>\n",
              "    <tr style=\"text-align: right;\">\n",
              "      <th></th>\n",
              "      <th></th>\n",
              "      <th>Total</th>\n",
              "      <th>East</th>\n",
              "      <th>West</th>\n",
              "    </tr>\n",
              "    <tr>\n",
              "      <th>Date</th>\n",
              "      <th></th>\n",
              "      <th></th>\n",
              "      <th></th>\n",
              "      <th></th>\n",
              "    </tr>\n",
              "  </thead>\n",
              "  <tbody>\n",
              "    <tr>\n",
              "      <th rowspan=\"5\" valign=\"top\">0</th>\n",
              "      <th>00:00:00</th>\n",
              "      <td>7.054254</td>\n",
              "      <td>2.985203</td>\n",
              "      <td>4.069051</td>\n",
              "    </tr>\n",
              "    <tr>\n",
              "      <th>01:00:00</th>\n",
              "      <td>3.350185</td>\n",
              "      <td>1.471023</td>\n",
              "      <td>1.879162</td>\n",
              "    </tr>\n",
              "    <tr>\n",
              "      <th>02:00:00</th>\n",
              "      <td>2.367448</td>\n",
              "      <td>1.193588</td>\n",
              "      <td>1.173859</td>\n",
              "    </tr>\n",
              "    <tr>\n",
              "      <th>03:00:00</th>\n",
              "      <td>2.278668</td>\n",
              "      <td>1.213317</td>\n",
              "      <td>1.065351</td>\n",
              "    </tr>\n",
              "    <tr>\n",
              "      <th>04:00:00</th>\n",
              "      <td>7.257707</td>\n",
              "      <td>3.891492</td>\n",
              "      <td>3.366215</td>\n",
              "    </tr>\n",
              "  </tbody>\n",
              "</table>\n",
              "</div>"
            ],
            "text/plain": [
              "                  Total      East      West\n",
              "Date                                       \n",
              "0    00:00:00  7.054254  2.985203  4.069051\n",
              "     01:00:00  3.350185  1.471023  1.879162\n",
              "     02:00:00  2.367448  1.193588  1.173859\n",
              "     03:00:00  2.278668  1.213317  1.065351\n",
              "     04:00:00  7.257707  3.891492  3.366215"
            ]
          },
          "metadata": {
            "tags": []
          },
          "execution_count": 28
        }
      ]
    },
    {
      "cell_type": "code",
      "metadata": {
        "id": "YQurpWikA6XM",
        "outputId": "10695582-57dc-4f14-b990-fdbf9984b6f5",
        "colab": {
          "base_uri": "https://localhost:8080/",
          "height": 235
        }
      },
      "source": [
        "by_time.drop('East', axis=1, inplace=True)\n",
        "by_time.drop('West', axis=1, inplace=True)\n",
        "by_time.head()"
      ],
      "execution_count": null,
      "outputs": [
        {
          "output_type": "execute_result",
          "data": {
            "text/html": [
              "<div>\n",
              "<style scoped>\n",
              "    .dataframe tbody tr th:only-of-type {\n",
              "        vertical-align: middle;\n",
              "    }\n",
              "\n",
              "    .dataframe tbody tr th {\n",
              "        vertical-align: top;\n",
              "    }\n",
              "\n",
              "    .dataframe thead th {\n",
              "        text-align: right;\n",
              "    }\n",
              "</style>\n",
              "<table border=\"1\" class=\"dataframe\">\n",
              "  <thead>\n",
              "    <tr style=\"text-align: right;\">\n",
              "      <th></th>\n",
              "      <th></th>\n",
              "      <th>Total</th>\n",
              "    </tr>\n",
              "    <tr>\n",
              "      <th>Date</th>\n",
              "      <th></th>\n",
              "      <th></th>\n",
              "    </tr>\n",
              "  </thead>\n",
              "  <tbody>\n",
              "    <tr>\n",
              "      <th rowspan=\"5\" valign=\"top\">0</th>\n",
              "      <th>00:00:00</th>\n",
              "      <td>7.054254</td>\n",
              "    </tr>\n",
              "    <tr>\n",
              "      <th>01:00:00</th>\n",
              "      <td>3.350185</td>\n",
              "    </tr>\n",
              "    <tr>\n",
              "      <th>02:00:00</th>\n",
              "      <td>2.367448</td>\n",
              "    </tr>\n",
              "    <tr>\n",
              "      <th>03:00:00</th>\n",
              "      <td>2.278668</td>\n",
              "    </tr>\n",
              "    <tr>\n",
              "      <th>04:00:00</th>\n",
              "      <td>7.257707</td>\n",
              "    </tr>\n",
              "  </tbody>\n",
              "</table>\n",
              "</div>"
            ],
            "text/plain": [
              "                  Total\n",
              "Date                   \n",
              "0    00:00:00  7.054254\n",
              "     01:00:00  3.350185\n",
              "     02:00:00  2.367448\n",
              "     03:00:00  2.278668\n",
              "     04:00:00  7.257707"
            ]
          },
          "metadata": {
            "tags": []
          },
          "execution_count": 29
        }
      ]
    },
    {
      "cell_type": "markdown",
      "metadata": {
        "id": "4sejsMy05bff"
      },
      "source": [
        "**We group the information to identify the busiest day, now we need the hour!**"
      ]
    },
    {
      "cell_type": "code",
      "metadata": {
        "id": "Hq0wSgjH42Oq",
        "outputId": "2cb6b01a-7ae8-41f6-d50e-533dc2599617",
        "colab": {
          "base_uri": "https://localhost:8080/",
          "height": 297
        }
      },
      "source": [
        "by_time.groupby('Date').max('Total')"
      ],
      "execution_count": null,
      "outputs": [
        {
          "output_type": "execute_result",
          "data": {
            "text/html": [
              "<div>\n",
              "<style scoped>\n",
              "    .dataframe tbody tr th:only-of-type {\n",
              "        vertical-align: middle;\n",
              "    }\n",
              "\n",
              "    .dataframe tbody tr th {\n",
              "        vertical-align: top;\n",
              "    }\n",
              "\n",
              "    .dataframe thead th {\n",
              "        text-align: right;\n",
              "    }\n",
              "</style>\n",
              "<table border=\"1\" class=\"dataframe\">\n",
              "  <thead>\n",
              "    <tr style=\"text-align: right;\">\n",
              "      <th></th>\n",
              "      <th>Total</th>\n",
              "    </tr>\n",
              "    <tr>\n",
              "      <th>Date</th>\n",
              "      <th></th>\n",
              "    </tr>\n",
              "  </thead>\n",
              "  <tbody>\n",
              "    <tr>\n",
              "      <th>0</th>\n",
              "      <td>512.352651</td>\n",
              "    </tr>\n",
              "    <tr>\n",
              "      <th>1</th>\n",
              "      <td>541.890259</td>\n",
              "    </tr>\n",
              "    <tr>\n",
              "      <th>2</th>\n",
              "      <td>530.200492</td>\n",
              "    </tr>\n",
              "    <tr>\n",
              "      <th>3</th>\n",
              "      <td>492.161330</td>\n",
              "    </tr>\n",
              "    <tr>\n",
              "      <th>4</th>\n",
              "      <td>420.223181</td>\n",
              "    </tr>\n",
              "    <tr>\n",
              "      <th>5</th>\n",
              "      <td>140.670777</td>\n",
              "    </tr>\n",
              "    <tr>\n",
              "      <th>6</th>\n",
              "      <td>153.048089</td>\n",
              "    </tr>\n",
              "  </tbody>\n",
              "</table>\n",
              "</div>"
            ],
            "text/plain": [
              "           Total\n",
              "Date            \n",
              "0     512.352651\n",
              "1     541.890259\n",
              "2     530.200492\n",
              "3     492.161330\n",
              "4     420.223181\n",
              "5     140.670777\n",
              "6     153.048089"
            ]
          },
          "metadata": {
            "tags": []
          },
          "execution_count": 30
        }
      ]
    },
    {
      "cell_type": "markdown",
      "metadata": {
        "id": "DtccVr36JWF8"
      },
      "source": [
        "**We will rank per day and hour**"
      ]
    },
    {
      "cell_type": "code",
      "metadata": {
        "id": "o7bZNB0rzHXZ",
        "outputId": "99cb6ecf-2da1-41ab-f37f-b44245c151e6",
        "colab": {
          "base_uri": "https://localhost:8080/",
          "height": 700
        }
      },
      "source": [
        "by_time['rank_hour_week'] = by_time.groupby('Date').rank(ascending=False)\n",
        "by_time.head(20)"
      ],
      "execution_count": null,
      "outputs": [
        {
          "output_type": "execute_result",
          "data": {
            "text/html": [
              "<div>\n",
              "<style scoped>\n",
              "    .dataframe tbody tr th:only-of-type {\n",
              "        vertical-align: middle;\n",
              "    }\n",
              "\n",
              "    .dataframe tbody tr th {\n",
              "        vertical-align: top;\n",
              "    }\n",
              "\n",
              "    .dataframe thead th {\n",
              "        text-align: right;\n",
              "    }\n",
              "</style>\n",
              "<table border=\"1\" class=\"dataframe\">\n",
              "  <thead>\n",
              "    <tr style=\"text-align: right;\">\n",
              "      <th></th>\n",
              "      <th></th>\n",
              "      <th>Total</th>\n",
              "      <th>rank_hour_week</th>\n",
              "    </tr>\n",
              "    <tr>\n",
              "      <th>Date</th>\n",
              "      <th></th>\n",
              "      <th></th>\n",
              "      <th></th>\n",
              "    </tr>\n",
              "  </thead>\n",
              "  <tbody>\n",
              "    <tr>\n",
              "      <th rowspan=\"20\" valign=\"top\">0</th>\n",
              "      <th>00:00:00</th>\n",
              "      <td>7.054254</td>\n",
              "      <td>21.0</td>\n",
              "    </tr>\n",
              "    <tr>\n",
              "      <th>01:00:00</th>\n",
              "      <td>3.350185</td>\n",
              "      <td>22.0</td>\n",
              "    </tr>\n",
              "    <tr>\n",
              "      <th>02:00:00</th>\n",
              "      <td>2.367448</td>\n",
              "      <td>23.0</td>\n",
              "    </tr>\n",
              "    <tr>\n",
              "      <th>03:00:00</th>\n",
              "      <td>2.278668</td>\n",
              "      <td>24.0</td>\n",
              "    </tr>\n",
              "    <tr>\n",
              "      <th>04:00:00</th>\n",
              "      <td>7.257707</td>\n",
              "      <td>20.0</td>\n",
              "    </tr>\n",
              "    <tr>\n",
              "      <th>05:00:00</th>\n",
              "      <td>32.699137</td>\n",
              "      <td>17.0</td>\n",
              "    </tr>\n",
              "    <tr>\n",
              "      <th>06:00:00</th>\n",
              "      <td>115.215783</td>\n",
              "      <td>9.0</td>\n",
              "    </tr>\n",
              "    <tr>\n",
              "      <th>07:00:00</th>\n",
              "      <td>298.378545</td>\n",
              "      <td>4.0</td>\n",
              "    </tr>\n",
              "    <tr>\n",
              "      <th>08:00:00</th>\n",
              "      <td>427.448829</td>\n",
              "      <td>2.0</td>\n",
              "    </tr>\n",
              "    <tr>\n",
              "      <th>09:00:00</th>\n",
              "      <td>230.501850</td>\n",
              "      <td>6.0</td>\n",
              "    </tr>\n",
              "    <tr>\n",
              "      <th>10:00:00</th>\n",
              "      <td>97.339088</td>\n",
              "      <td>11.0</td>\n",
              "    </tr>\n",
              "    <tr>\n",
              "      <th>11:00:00</th>\n",
              "      <td>75.863132</td>\n",
              "      <td>15.0</td>\n",
              "    </tr>\n",
              "    <tr>\n",
              "      <th>12:00:00</th>\n",
              "      <td>78.618989</td>\n",
              "      <td>14.0</td>\n",
              "    </tr>\n",
              "    <tr>\n",
              "      <th>13:00:00</th>\n",
              "      <td>85.971640</td>\n",
              "      <td>12.0</td>\n",
              "    </tr>\n",
              "    <tr>\n",
              "      <th>14:00:00</th>\n",
              "      <td>97.749692</td>\n",
              "      <td>10.0</td>\n",
              "    </tr>\n",
              "    <tr>\n",
              "      <th>15:00:00</th>\n",
              "      <td>136.676942</td>\n",
              "      <td>8.0</td>\n",
              "    </tr>\n",
              "    <tr>\n",
              "      <th>16:00:00</th>\n",
              "      <td>265.505549</td>\n",
              "      <td>5.0</td>\n",
              "    </tr>\n",
              "    <tr>\n",
              "      <th>17:00:00</th>\n",
              "      <td>512.352651</td>\n",
              "      <td>1.0</td>\n",
              "    </tr>\n",
              "    <tr>\n",
              "      <th>18:00:00</th>\n",
              "      <td>347.676942</td>\n",
              "      <td>3.0</td>\n",
              "    </tr>\n",
              "    <tr>\n",
              "      <th>19:00:00</th>\n",
              "      <td>158.903822</td>\n",
              "      <td>7.0</td>\n",
              "    </tr>\n",
              "  </tbody>\n",
              "</table>\n",
              "</div>"
            ],
            "text/plain": [
              "                    Total  rank_hour_week\n",
              "Date                                     \n",
              "0    00:00:00    7.054254            21.0\n",
              "     01:00:00    3.350185            22.0\n",
              "     02:00:00    2.367448            23.0\n",
              "     03:00:00    2.278668            24.0\n",
              "     04:00:00    7.257707            20.0\n",
              "     05:00:00   32.699137            17.0\n",
              "     06:00:00  115.215783             9.0\n",
              "     07:00:00  298.378545             4.0\n",
              "     08:00:00  427.448829             2.0\n",
              "     09:00:00  230.501850             6.0\n",
              "     10:00:00   97.339088            11.0\n",
              "     11:00:00   75.863132            15.0\n",
              "     12:00:00   78.618989            14.0\n",
              "     13:00:00   85.971640            12.0\n",
              "     14:00:00   97.749692            10.0\n",
              "     15:00:00  136.676942             8.0\n",
              "     16:00:00  265.505549             5.0\n",
              "     17:00:00  512.352651             1.0\n",
              "     18:00:00  347.676942             3.0\n",
              "     19:00:00  158.903822             7.0"
            ]
          },
          "metadata": {
            "tags": []
          },
          "execution_count": 31
        }
      ]
    },
    {
      "cell_type": "markdown",
      "metadata": {
        "id": "wAgYHJ4BJE8O"
      },
      "source": [
        "**We have the ranking per day and hour , the busiest hour during the week**"
      ]
    },
    {
      "cell_type": "code",
      "metadata": {
        "id": "CA3RL-Gw6GAO",
        "outputId": "edf86db8-a854-4e25-b7db-b138c884b668",
        "colab": {
          "base_uri": "https://localhost:8080/",
          "height": 535
        }
      },
      "source": [
        "Bike_busiest_hour_week = by_time[by_time.rank_hour_week == 1]\n",
        "Bike_busiest_hour_week.drop('rank_hour_week', axis=1, inplace=True)\n",
        "Bike_busiest_hour_week.rename_axis(['Dia', 'Hora'], inplace=True)\n",
        "Bike_busiest_hour_week.rename(index={0: 'Mon',1:'Tue',2:'Wed',3:'Thu',4:'fri',5:'Sat',6:'Sun'}, inplace=True)\n",
        "Bike_busiest_hour_week.head(10)"
      ],
      "execution_count": null,
      "outputs": [
        {
          "output_type": "stream",
          "text": [
            "/usr/local/lib/python3.6/dist-packages/pandas/core/frame.py:4170: SettingWithCopyWarning:\n",
            "\n",
            "\n",
            "A value is trying to be set on a copy of a slice from a DataFrame\n",
            "\n",
            "See the caveats in the documentation: https://pandas.pydata.org/pandas-docs/stable/user_guide/indexing.html#returning-a-view-versus-a-copy\n",
            "\n",
            "/usr/local/lib/python3.6/dist-packages/pandas/core/frame.py:4304: SettingWithCopyWarning:\n",
            "\n",
            "\n",
            "A value is trying to be set on a copy of a slice from a DataFrame\n",
            "\n",
            "See the caveats in the documentation: https://pandas.pydata.org/pandas-docs/stable/user_guide/indexing.html#returning-a-view-versus-a-copy\n",
            "\n"
          ],
          "name": "stderr"
        },
        {
          "output_type": "execute_result",
          "data": {
            "text/html": [
              "<div>\n",
              "<style scoped>\n",
              "    .dataframe tbody tr th:only-of-type {\n",
              "        vertical-align: middle;\n",
              "    }\n",
              "\n",
              "    .dataframe tbody tr th {\n",
              "        vertical-align: top;\n",
              "    }\n",
              "\n",
              "    .dataframe thead th {\n",
              "        text-align: right;\n",
              "    }\n",
              "</style>\n",
              "<table border=\"1\" class=\"dataframe\">\n",
              "  <thead>\n",
              "    <tr style=\"text-align: right;\">\n",
              "      <th></th>\n",
              "      <th></th>\n",
              "      <th>Total</th>\n",
              "    </tr>\n",
              "    <tr>\n",
              "      <th>Dia</th>\n",
              "      <th>Hora</th>\n",
              "      <th></th>\n",
              "    </tr>\n",
              "  </thead>\n",
              "  <tbody>\n",
              "    <tr>\n",
              "      <th>Mon</th>\n",
              "      <th>17:00:00</th>\n",
              "      <td>512.352651</td>\n",
              "    </tr>\n",
              "    <tr>\n",
              "      <th>Tue</th>\n",
              "      <th>17:00:00</th>\n",
              "      <td>541.890259</td>\n",
              "    </tr>\n",
              "    <tr>\n",
              "      <th>Wed</th>\n",
              "      <th>17:00:00</th>\n",
              "      <td>530.200492</td>\n",
              "    </tr>\n",
              "    <tr>\n",
              "      <th>Thu</th>\n",
              "      <th>17:00:00</th>\n",
              "      <td>492.161330</td>\n",
              "    </tr>\n",
              "    <tr>\n",
              "      <th>fri</th>\n",
              "      <th>17:00:00</th>\n",
              "      <td>420.223181</td>\n",
              "    </tr>\n",
              "    <tr>\n",
              "      <th>Sat</th>\n",
              "      <th>15:00:00</th>\n",
              "      <td>140.670777</td>\n",
              "    </tr>\n",
              "    <tr>\n",
              "      <th>Sun</th>\n",
              "      <th>14:00:00</th>\n",
              "      <td>153.048089</td>\n",
              "    </tr>\n",
              "  </tbody>\n",
              "</table>\n",
              "</div>"
            ],
            "text/plain": [
              "                   Total\n",
              "Dia Hora                \n",
              "Mon 17:00:00  512.352651\n",
              "Tue 17:00:00  541.890259\n",
              "Wed 17:00:00  530.200492\n",
              "Thu 17:00:00  492.161330\n",
              "fri 17:00:00  420.223181\n",
              "Sat 15:00:00  140.670777\n",
              "Sun 14:00:00  153.048089"
            ]
          },
          "metadata": {
            "tags": []
          },
          "execution_count": 32
        }
      ]
    },
    {
      "cell_type": "markdown",
      "metadata": {
        "id": "Sdy5gTAiJjgn"
      },
      "source": [
        "**During the weekday, the busiest hour is 17:00. Only on the weekend's change between 15:00 and 14:00, it's very similar with weekdays.**"
      ]
    },
    {
      "cell_type": "code",
      "metadata": {
        "id": "_tYmR-1H7Dwj",
        "outputId": "7f84a261-98ba-4c71-8c3c-46e3eba206a1",
        "colab": {
          "base_uri": "https://localhost:8080/",
          "height": 381
        }
      },
      "source": [
        "Bike_busiest_hour_week.plot(kind='bar')"
      ],
      "execution_count": null,
      "outputs": [
        {
          "output_type": "execute_result",
          "data": {
            "text/plain": [
              "<matplotlib.axes._subplots.AxesSubplot at 0x7f2e16ccd8d0>"
            ]
          },
          "metadata": {
            "tags": []
          },
          "execution_count": 33
        },
        {
          "output_type": "display_data",
          "data": {
            "image/png": "[encoded data removed]",
            "text/plain": [
              "<Figure size 432x288 with 1 Axes>"
            ]
          },
          "metadata": {
            "tags": []
          }
        }
      ]
    },
    {
      "cell_type": "markdown",
      "metadata": {
        "id": "0gpdZtttFFBG"
      },
      "source": [
        "##**Where will you be more comfortable (alone) riding during the week in West or East?**"
      ]
    },
    {
      "cell_type": "code",
      "metadata": {
        "id": "6b-eml1HFOni",
        "outputId": "bf89edc2-cc0d-4477-be18-90707c67454f",
        "colab": {
          "base_uri": "https://localhost:8080/",
          "height": 297
        }
      },
      "source": [
        "by_day = data.groupby([data.index.weekday]).mean()\n",
        "by_day.rename_axis(['Dia'], inplace=True)\n",
        "by_day.drop('Total', axis=1, inplace=True)\n",
        "by_day.rename(index={0: 'Mon',1:'Tue',2:'Wed',3:'Thu',4:'fri',5:'Sat',6:'Sun'}, inplace=True)\n",
        "by_day.head(10)"
      ],
      "execution_count": null,
      "outputs": [
        {
          "output_type": "execute_result",
          "data": {
            "text/html": [
              "<div>\n",
              "<style scoped>\n",
              "    .dataframe tbody tr th:only-of-type {\n",
              "        vertical-align: middle;\n",
              "    }\n",
              "\n",
              "    .dataframe tbody tr th {\n",
              "        vertical-align: top;\n",
              "    }\n",
              "\n",
              "    .dataframe thead th {\n",
              "        text-align: right;\n",
              "    }\n",
              "</style>\n",
              "<table border=\"1\" class=\"dataframe\">\n",
              "  <thead>\n",
              "    <tr style=\"text-align: right;\">\n",
              "      <th></th>\n",
              "      <th>East</th>\n",
              "      <th>West</th>\n",
              "    </tr>\n",
              "    <tr>\n",
              "      <th>Dia</th>\n",
              "      <th></th>\n",
              "      <th></th>\n",
              "    </tr>\n",
              "  </thead>\n",
              "  <tbody>\n",
              "    <tr>\n",
              "      <th>Mon</th>\n",
              "      <td>58.526819</td>\n",
              "      <td>73.285193</td>\n",
              "    </tr>\n",
              "    <tr>\n",
              "      <th>Tue</th>\n",
              "      <td>62.576721</td>\n",
              "      <td>77.754111</td>\n",
              "    </tr>\n",
              "    <tr>\n",
              "      <th>Wed</th>\n",
              "      <td>62.118816</td>\n",
              "      <td>77.098945</td>\n",
              "    </tr>\n",
              "    <tr>\n",
              "      <th>Thu</th>\n",
              "      <td>59.495177</td>\n",
              "      <td>72.966954</td>\n",
              "    </tr>\n",
              "    <tr>\n",
              "      <th>fri</th>\n",
              "      <td>53.746660</td>\n",
              "      <td>66.076053</td>\n",
              "    </tr>\n",
              "    <tr>\n",
              "      <th>Sat</th>\n",
              "      <td>32.259659</td>\n",
              "      <td>32.089139</td>\n",
              "    </tr>\n",
              "    <tr>\n",
              "      <th>Sun</th>\n",
              "      <td>31.820523</td>\n",
              "      <td>30.876510</td>\n",
              "    </tr>\n",
              "  </tbody>\n",
              "</table>\n",
              "</div>"
            ],
            "text/plain": [
              "          East       West\n",
              "Dia                      \n",
              "Mon  58.526819  73.285193\n",
              "Tue  62.576721  77.754111\n",
              "Wed  62.118816  77.098945\n",
              "Thu  59.495177  72.966954\n",
              "fri  53.746660  66.076053\n",
              "Sat  32.259659  32.089139\n",
              "Sun  31.820523  30.876510"
            ]
          },
          "metadata": {
            "tags": []
          },
          "execution_count": 34
        }
      ]
    },
    {
      "cell_type": "markdown",
      "metadata": {
        "id": "k7EGpep8i035"
      },
      "source": [
        "**You will be more comfortable riding alone on Sundays (West). \n",
        "If you don't have time on weekends, You should ride on weekdays heading east.**"
      ]
    },
    {
      "cell_type": "code",
      "metadata": {
        "id": "z_lEipRLVACt",
        "outputId": "7149593e-2856-4d85-c606-300f698c4657",
        "colab": {
          "base_uri": "https://localhost:8080/",
          "height": 305
        }
      },
      "source": [
        "by_day.plot()"
      ],
      "execution_count": null,
      "outputs": [
        {
          "output_type": "execute_result",
          "data": {
            "text/plain": [
              "<matplotlib.axes._subplots.AxesSubplot at 0x7f2e22ca3da0>"
            ]
          },
          "metadata": {
            "tags": []
          },
          "execution_count": 35
        },
        {
          "output_type": "display_data",
          "data": {
            "image/png": "[encoded data removed]",
            "text/plain": [
              "<Figure size 432x288 with 1 Axes>"
            ]
          },
          "metadata": {
            "tags": []
          }
        }
      ]
    },
    {
      "cell_type": "markdown",
      "metadata": {
        "id": "ZD0rptEsWqQq"
      },
      "source": [
        "##**What about riding during the business days? When and where are the best hours to ride alone between 06:00 and 10:00? And between 15:00 and 20:00?**"
      ]
    },
    {
      "cell_type": "code",
      "metadata": {
        "id": "e0ytbYryWJd1"
      },
      "source": [
        "by_bus_day = data.copy()\n",
        "by_bus_day.drop('Total', axis=1, inplace=True)\n"
      ],
      "execution_count": null,
      "outputs": []
    },
    {
      "cell_type": "markdown",
      "metadata": {
        "id": "F5Cdl9XhBHkH"
      },
      "source": [
        "**I am filtering business days and hours (06:00 to 10:00)**"
      ]
    },
    {
      "cell_type": "code",
      "metadata": {
        "id": "o2lpDAXRWtEU",
        "outputId": "67f7ff33-c05a-4469-dda2-66db37914719",
        "colab": {
          "base_uri": "https://localhost:8080/",
          "height": 235
        }
      },
      "source": [
        "by_bus_day_06_10 = by_bus_day[(by_bus_day.index.hour > 5 ) & (by_bus_day.index.hour < 11) & (by_bus_day.index.weekday < 5 )]\n",
        "by_bus_day_06_10.head()"
      ],
      "execution_count": null,
      "outputs": [
        {
          "output_type": "execute_result",
          "data": {
            "text/html": [
              "<div>\n",
              "<style scoped>\n",
              "    .dataframe tbody tr th:only-of-type {\n",
              "        vertical-align: middle;\n",
              "    }\n",
              "\n",
              "    .dataframe tbody tr th {\n",
              "        vertical-align: top;\n",
              "    }\n",
              "\n",
              "    .dataframe thead th {\n",
              "        text-align: right;\n",
              "    }\n",
              "</style>\n",
              "<table border=\"1\" class=\"dataframe\">\n",
              "  <thead>\n",
              "    <tr style=\"text-align: right;\">\n",
              "      <th></th>\n",
              "      <th>East</th>\n",
              "      <th>West</th>\n",
              "    </tr>\n",
              "    <tr>\n",
              "      <th>Date</th>\n",
              "      <th></th>\n",
              "      <th></th>\n",
              "    </tr>\n",
              "  </thead>\n",
              "  <tbody>\n",
              "    <tr>\n",
              "      <th>2012-10-03 06:00:00</th>\n",
              "      <td>105.0</td>\n",
              "      <td>50.0</td>\n",
              "    </tr>\n",
              "    <tr>\n",
              "      <th>2012-10-03 07:00:00</th>\n",
              "      <td>257.0</td>\n",
              "      <td>95.0</td>\n",
              "    </tr>\n",
              "    <tr>\n",
              "      <th>2012-10-03 08:00:00</th>\n",
              "      <td>291.0</td>\n",
              "      <td>146.0</td>\n",
              "    </tr>\n",
              "    <tr>\n",
              "      <th>2012-10-03 09:00:00</th>\n",
              "      <td>172.0</td>\n",
              "      <td>104.0</td>\n",
              "    </tr>\n",
              "    <tr>\n",
              "      <th>2012-10-03 10:00:00</th>\n",
              "      <td>72.0</td>\n",
              "      <td>46.0</td>\n",
              "    </tr>\n",
              "  </tbody>\n",
              "</table>\n",
              "</div>"
            ],
            "text/plain": [
              "                      East   West\n",
              "Date                             \n",
              "2012-10-03 06:00:00  105.0   50.0\n",
              "2012-10-03 07:00:00  257.0   95.0\n",
              "2012-10-03 08:00:00  291.0  146.0\n",
              "2012-10-03 09:00:00  172.0  104.0\n",
              "2012-10-03 10:00:00   72.0   46.0"
            ]
          },
          "metadata": {
            "tags": []
          },
          "execution_count": 43
        }
      ]
    },
    {
      "cell_type": "markdown",
      "metadata": {
        "id": "ImpYxijXB7Xw"
      },
      "source": [
        "**We identify that the best hour to ride alone is 06:00 heading west**"
      ]
    },
    {
      "cell_type": "code",
      "metadata": {
        "id": "Gbz5qFJ0B7h3",
        "outputId": "b47901f3-9bfc-4e60-e9e0-db177e908c6e",
        "colab": {
          "base_uri": "https://localhost:8080/",
          "height": 204
        }
      },
      "source": [
        "by_bus_day_06_10 = by_bus_day_06_10.groupby([ by_bus_day_06_10.index.time]).mean()\n",
        "by_bus_day_06_10.head(20)"
      ],
      "execution_count": null,
      "outputs": [
        {
          "output_type": "execute_result",
          "data": {
            "text/html": [
              "<div>\n",
              "<style scoped>\n",
              "    .dataframe tbody tr th:only-of-type {\n",
              "        vertical-align: middle;\n",
              "    }\n",
              "\n",
              "    .dataframe tbody tr th {\n",
              "        vertical-align: top;\n",
              "    }\n",
              "\n",
              "    .dataframe thead th {\n",
              "        text-align: right;\n",
              "    }\n",
              "</style>\n",
              "<table border=\"1\" class=\"dataframe\">\n",
              "  <thead>\n",
              "    <tr style=\"text-align: right;\">\n",
              "      <th></th>\n",
              "      <th>East</th>\n",
              "      <th>West</th>\n",
              "    </tr>\n",
              "  </thead>\n",
              "  <tbody>\n",
              "    <tr>\n",
              "      <th>06:00:00</th>\n",
              "      <td>72.202020</td>\n",
              "      <td>46.564178</td>\n",
              "    </tr>\n",
              "    <tr>\n",
              "      <th>07:00:00</th>\n",
              "      <td>189.646957</td>\n",
              "      <td>114.093865</td>\n",
              "    </tr>\n",
              "    <tr>\n",
              "      <th>08:00:00</th>\n",
              "      <td>251.848731</td>\n",
              "      <td>173.441981</td>\n",
              "    </tr>\n",
              "    <tr>\n",
              "      <th>09:00:00</th>\n",
              "      <td>125.491250</td>\n",
              "      <td>104.931969</td>\n",
              "    </tr>\n",
              "    <tr>\n",
              "      <th>10:00:00</th>\n",
              "      <td>51.877742</td>\n",
              "      <td>48.246241</td>\n",
              "    </tr>\n",
              "  </tbody>\n",
              "</table>\n",
              "</div>"
            ],
            "text/plain": [
              "                East        West\n",
              "06:00:00   72.202020   46.564178\n",
              "07:00:00  189.646957  114.093865\n",
              "08:00:00  251.848731  173.441981\n",
              "09:00:00  125.491250  104.931969\n",
              "10:00:00   51.877742   48.246241"
            ]
          },
          "metadata": {
            "tags": []
          },
          "execution_count": 63
        }
      ]
    },
    {
      "cell_type": "code",
      "metadata": {
        "id": "ILTfhmaBCIrt",
        "outputId": "a8985e2d-8a14-40ef-c090-451a0556b964",
        "colab": {
          "base_uri": "https://localhost:8080/",
          "height": 487
        }
      },
      "source": [
        "by_bus_day_06_10.plot(kind='bar',figsize=(15, 7))"
      ],
      "execution_count": null,
      "outputs": [
        {
          "output_type": "execute_result",
          "data": {
            "text/plain": [
              "<matplotlib.axes._subplots.AxesSubplot at 0x7f2e168a4780>"
            ]
          },
          "metadata": {
            "tags": []
          },
          "execution_count": 64
        },
        {
          "output_type": "display_data",
          "data": {
            "image/png": "[encoded data removed]",
            "text/plain": [
              "<Figure size 1080x504 with 1 Axes>"
            ]
          },
          "metadata": {
            "tags": []
          }
        }
      ]
    },
    {
      "cell_type": "markdown",
      "metadata": {
        "id": "s15P89MABYlN"
      },
      "source": [
        "**I am filtering business days and hours (15:00 to 20:00)**"
      ]
    },
    {
      "cell_type": "code",
      "metadata": {
        "id": "g0cSFsCMWILT",
        "outputId": "7586e035-ca30-41f4-e552-3858644ba300",
        "colab": {
          "base_uri": "https://localhost:8080/",
          "height": 235
        }
      },
      "source": [
        "by_bus_day_15_20 = by_bus_day[(by_bus_day.index.hour > 14 ) & (by_bus_day.index.hour < 21) & (by_bus_day.index.weekday < 5 )]\n",
        "by_bus_day_15_20.head()"
      ],
      "execution_count": null,
      "outputs": [
        {
          "output_type": "execute_result",
          "data": {
            "text/html": [
              "<div>\n",
              "<style scoped>\n",
              "    .dataframe tbody tr th:only-of-type {\n",
              "        vertical-align: middle;\n",
              "    }\n",
              "\n",
              "    .dataframe tbody tr th {\n",
              "        vertical-align: top;\n",
              "    }\n",
              "\n",
              "    .dataframe thead th {\n",
              "        text-align: right;\n",
              "    }\n",
              "</style>\n",
              "<table border=\"1\" class=\"dataframe\">\n",
              "  <thead>\n",
              "    <tr style=\"text-align: right;\">\n",
              "      <th></th>\n",
              "      <th>East</th>\n",
              "      <th>West</th>\n",
              "    </tr>\n",
              "    <tr>\n",
              "      <th>Date</th>\n",
              "      <th></th>\n",
              "      <th></th>\n",
              "    </tr>\n",
              "  </thead>\n",
              "  <tbody>\n",
              "    <tr>\n",
              "      <th>2012-10-03 15:00:00</th>\n",
              "      <td>72.0</td>\n",
              "      <td>92.0</td>\n",
              "    </tr>\n",
              "    <tr>\n",
              "      <th>2012-10-03 16:00:00</th>\n",
              "      <td>133.0</td>\n",
              "      <td>182.0</td>\n",
              "    </tr>\n",
              "    <tr>\n",
              "      <th>2012-10-03 17:00:00</th>\n",
              "      <td>192.0</td>\n",
              "      <td>391.0</td>\n",
              "    </tr>\n",
              "    <tr>\n",
              "      <th>2012-10-03 18:00:00</th>\n",
              "      <td>122.0</td>\n",
              "      <td>258.0</td>\n",
              "    </tr>\n",
              "    <tr>\n",
              "      <th>2012-10-03 19:00:00</th>\n",
              "      <td>59.0</td>\n",
              "      <td>69.0</td>\n",
              "    </tr>\n",
              "  </tbody>\n",
              "</table>\n",
              "</div>"
            ],
            "text/plain": [
              "                      East   West\n",
              "Date                             \n",
              "2012-10-03 15:00:00   72.0   92.0\n",
              "2012-10-03 16:00:00  133.0  182.0\n",
              "2012-10-03 17:00:00  192.0  391.0\n",
              "2012-10-03 18:00:00  122.0  258.0\n",
              "2012-10-03 19:00:00   59.0   69.0"
            ]
          },
          "metadata": {
            "tags": []
          },
          "execution_count": 44
        }
      ]
    },
    {
      "cell_type": "markdown",
      "metadata": {
        "id": "HWMLfxMdBiuc"
      },
      "source": [
        "**We identify that the best hour to ride alone is 20:00 heading east**"
      ]
    },
    {
      "cell_type": "code",
      "metadata": {
        "id": "LcAuysdc8Hl6",
        "outputId": "667605e0-8486-4d5e-f5ae-dff44d04ff9f",
        "colab": {
          "base_uri": "https://localhost:8080/",
          "height": 235
        }
      },
      "source": [
        "##by_bus_day_15_20.plot(by_bus_day_15_20.groupby([ by_bus_day_15_20.index.time]).mean())\n",
        "by_bus_day_15_20_1 = by_bus_day_15_20.groupby([ by_bus_day_15_20.index.time]).mean()\n",
        "by_bus_day_15_20_1.head(20)"
      ],
      "execution_count": null,
      "outputs": [
        {
          "output_type": "execute_result",
          "data": {
            "text/html": [
              "<div>\n",
              "<style scoped>\n",
              "    .dataframe tbody tr th:only-of-type {\n",
              "        vertical-align: middle;\n",
              "    }\n",
              "\n",
              "    .dataframe tbody tr th {\n",
              "        vertical-align: top;\n",
              "    }\n",
              "\n",
              "    .dataframe thead th {\n",
              "        text-align: right;\n",
              "    }\n",
              "</style>\n",
              "<table border=\"1\" class=\"dataframe\">\n",
              "  <thead>\n",
              "    <tr style=\"text-align: right;\">\n",
              "      <th></th>\n",
              "      <th>East</th>\n",
              "      <th>West</th>\n",
              "    </tr>\n",
              "  </thead>\n",
              "  <tbody>\n",
              "    <tr>\n",
              "      <th>15:00:00</th>\n",
              "      <td>58.355101</td>\n",
              "      <td>81.895022</td>\n",
              "    </tr>\n",
              "    <tr>\n",
              "      <th>16:00:00</th>\n",
              "      <td>89.993593</td>\n",
              "      <td>182.719813</td>\n",
              "    </tr>\n",
              "    <tr>\n",
              "      <th>17:00:00</th>\n",
              "      <td>135.690734</td>\n",
              "      <td>363.688270</td>\n",
              "    </tr>\n",
              "    <tr>\n",
              "      <th>18:00:00</th>\n",
              "      <td>108.350665</td>\n",
              "      <td>227.725973</td>\n",
              "    </tr>\n",
              "    <tr>\n",
              "      <th>19:00:00</th>\n",
              "      <td>58.151306</td>\n",
              "      <td>101.564317</td>\n",
              "    </tr>\n",
              "    <tr>\n",
              "      <th>20:00:00</th>\n",
              "      <td>34.779694</td>\n",
              "      <td>53.459586</td>\n",
              "    </tr>\n",
              "  </tbody>\n",
              "</table>\n",
              "</div>"
            ],
            "text/plain": [
              "                East        West\n",
              "15:00:00   58.355101   81.895022\n",
              "16:00:00   89.993593  182.719813\n",
              "17:00:00  135.690734  363.688270\n",
              "18:00:00  108.350665  227.725973\n",
              "19:00:00   58.151306  101.564317\n",
              "20:00:00   34.779694   53.459586"
            ]
          },
          "metadata": {
            "tags": []
          },
          "execution_count": 60
        }
      ]
    },
    {
      "cell_type": "code",
      "metadata": {
        "id": "7r_l7gwn-cYR",
        "outputId": "0deb18ba-1e9c-4edf-83ff-d0eea75e156c",
        "colab": {
          "base_uri": "https://localhost:8080/",
          "height": 487
        }
      },
      "source": [
        "by_bus_day_15_20_1.plot(kind='bar',figsize=(15, 7))"
      ],
      "execution_count": null,
      "outputs": [
        {
          "output_type": "execute_result",
          "data": {
            "text/plain": [
              "<matplotlib.axes._subplots.AxesSubplot at 0x7f2e169ffc88>"
            ]
          },
          "metadata": {
            "tags": []
          },
          "execution_count": 62
        },
        {
          "output_type": "display_data",
          "data": {
            "image/png": "[encoded data removed]",
            "text/plain": [
              "<Figure size 1080x504 with 1 Axes>"
            ]
          },
          "metadata": {
            "tags": []
          }
        }
      ]
    },
    {
      "cell_type": "markdown",
      "metadata": {
        "id": "49Q0Z_tdJC6n"
      },
      "source": [
        "##**What happened during the coronavirus pandemic? Did the daily riding hours change? How many riders are passing through the bridge comparing 2018 and 2020?**"
      ]
    },
    {
      "cell_type": "code",
      "metadata": {
        "id": "VkG67ag_JWrE",
        "outputId": "f8863a67-0e1c-4187-b3f7-3824a50c1f21",
        "colab": {
          "base_uri": "https://localhost:8080/",
          "height": 235
        }
      },
      "source": [
        "by_covid_trend = data.copy()\n",
        "#by_covid_trend.drop('East', axis=1, inplace=True)\n",
        "#by_covid_trend.drop('West', axis=1, inplace=True)\n",
        "by_covid_trend.head()"
      ],
      "execution_count": 6,
      "outputs": [
        {
          "output_type": "execute_result",
          "data": {
            "text/html": [
              "<div>\n",
              "<style scoped>\n",
              "    .dataframe tbody tr th:only-of-type {\n",
              "        vertical-align: middle;\n",
              "    }\n",
              "\n",
              "    .dataframe tbody tr th {\n",
              "        vertical-align: top;\n",
              "    }\n",
              "\n",
              "    .dataframe thead th {\n",
              "        text-align: right;\n",
              "    }\n",
              "</style>\n",
              "<table border=\"1\" class=\"dataframe\">\n",
              "  <thead>\n",
              "    <tr style=\"text-align: right;\">\n",
              "      <th></th>\n",
              "      <th>Total</th>\n",
              "      <th>East</th>\n",
              "      <th>West</th>\n",
              "    </tr>\n",
              "    <tr>\n",
              "      <th>Date</th>\n",
              "      <th></th>\n",
              "      <th></th>\n",
              "      <th></th>\n",
              "    </tr>\n",
              "  </thead>\n",
              "  <tbody>\n",
              "    <tr>\n",
              "      <th>2012-10-03 00:00:00</th>\n",
              "      <td>13.0</td>\n",
              "      <td>4.0</td>\n",
              "      <td>9.0</td>\n",
              "    </tr>\n",
              "    <tr>\n",
              "      <th>2012-10-03 01:00:00</th>\n",
              "      <td>10.0</td>\n",
              "      <td>4.0</td>\n",
              "      <td>6.0</td>\n",
              "    </tr>\n",
              "    <tr>\n",
              "      <th>2012-10-03 02:00:00</th>\n",
              "      <td>2.0</td>\n",
              "      <td>1.0</td>\n",
              "      <td>1.0</td>\n",
              "    </tr>\n",
              "    <tr>\n",
              "      <th>2012-10-03 03:00:00</th>\n",
              "      <td>5.0</td>\n",
              "      <td>2.0</td>\n",
              "      <td>3.0</td>\n",
              "    </tr>\n",
              "    <tr>\n",
              "      <th>2012-10-03 04:00:00</th>\n",
              "      <td>7.0</td>\n",
              "      <td>6.0</td>\n",
              "      <td>1.0</td>\n",
              "    </tr>\n",
              "  </tbody>\n",
              "</table>\n",
              "</div>"
            ],
            "text/plain": [
              "                     Total  East  West\n",
              "Date                                  \n",
              "2012-10-03 00:00:00   13.0   4.0   9.0\n",
              "2012-10-03 01:00:00   10.0   4.0   6.0\n",
              "2012-10-03 02:00:00    2.0   1.0   1.0\n",
              "2012-10-03 03:00:00    5.0   2.0   3.0\n",
              "2012-10-03 04:00:00    7.0   6.0   1.0"
            ]
          },
          "metadata": {
            "tags": []
          },
          "execution_count": 6
        }
      ]
    },
    {
      "cell_type": "code",
      "metadata": {
        "id": "m8FZdMu_KXQr",
        "outputId": "96ab1df3-1ef6-452d-87b6-861d3a4b2087",
        "colab": {
          "base_uri": "https://localhost:8080/",
          "height": 286
        }
      },
      "source": [
        "by_covid_trend.plot()"
      ],
      "execution_count": 7,
      "outputs": [
        {
          "output_type": "execute_result",
          "data": {
            "text/plain": [
              "<matplotlib.axes._subplots.AxesSubplot at 0x7f2544c446a0>"
            ]
          },
          "metadata": {
            "tags": []
          },
          "execution_count": 7
        },
        {
          "output_type": "display_data",
          "data": {
            "image/png": "[encoded data removed]",
            "text/plain": [
              "<Figure size 432x288 with 1 Axes>"
            ]
          },
          "metadata": {
            "tags": [],
            "needs_background": "light"
          }
        }
      ]
    },
    {
      "cell_type": "code",
      "metadata": {
        "id": "4TsCl6QXYaBS",
        "outputId": "d987a322-7d4b-42a0-9ab2-e1a9f9c5daba",
        "colab": {
          "base_uri": "https://localhost:8080/",
          "height": 824
        }
      },
      "source": [
        "by_covid_trend_2020 = by_covid_trend[ by_covid_trend.index.year == 2020]\n",
        "by_covid_trend_2020 = by_covid_trend_2020.groupby( by_covid_trend_2020.index.hour).mean()\n",
        "#by_covid_trend_2018_2020.rename_axis(['Anio', 'Hora'], inplace=True)\n",
        "by_covid_trend_2020"
      ],
      "execution_count": 8,
      "outputs": [
        {
          "output_type": "execute_result",
          "data": {
            "text/html": [
              "<div>\n",
              "<style scoped>\n",
              "    .dataframe tbody tr th:only-of-type {\n",
              "        vertical-align: middle;\n",
              "    }\n",
              "\n",
              "    .dataframe tbody tr th {\n",
              "        vertical-align: top;\n",
              "    }\n",
              "\n",
              "    .dataframe thead th {\n",
              "        text-align: right;\n",
              "    }\n",
              "</style>\n",
              "<table border=\"1\" class=\"dataframe\">\n",
              "  <thead>\n",
              "    <tr style=\"text-align: right;\">\n",
              "      <th></th>\n",
              "      <th>Total</th>\n",
              "      <th>East</th>\n",
              "      <th>West</th>\n",
              "    </tr>\n",
              "    <tr>\n",
              "      <th>Date</th>\n",
              "      <th></th>\n",
              "      <th></th>\n",
              "      <th></th>\n",
              "    </tr>\n",
              "  </thead>\n",
              "  <tbody>\n",
              "    <tr>\n",
              "      <th>0</th>\n",
              "      <td>4.938303</td>\n",
              "      <td>1.917738</td>\n",
              "      <td>3.020566</td>\n",
              "    </tr>\n",
              "    <tr>\n",
              "      <th>1</th>\n",
              "      <td>2.570694</td>\n",
              "      <td>1.051414</td>\n",
              "      <td>1.519280</td>\n",
              "    </tr>\n",
              "    <tr>\n",
              "      <th>2</th>\n",
              "      <td>1.971649</td>\n",
              "      <td>0.796392</td>\n",
              "      <td>1.175258</td>\n",
              "    </tr>\n",
              "    <tr>\n",
              "      <th>3</th>\n",
              "      <td>1.352185</td>\n",
              "      <td>0.578406</td>\n",
              "      <td>0.773779</td>\n",
              "    </tr>\n",
              "    <tr>\n",
              "      <th>4</th>\n",
              "      <td>4.187661</td>\n",
              "      <td>2.300771</td>\n",
              "      <td>1.886889</td>\n",
              "    </tr>\n",
              "    <tr>\n",
              "      <th>5</th>\n",
              "      <td>16.437018</td>\n",
              "      <td>7.812339</td>\n",
              "      <td>8.624679</td>\n",
              "    </tr>\n",
              "    <tr>\n",
              "      <th>6</th>\n",
              "      <td>56.647815</td>\n",
              "      <td>26.508997</td>\n",
              "      <td>30.138817</td>\n",
              "    </tr>\n",
              "    <tr>\n",
              "      <th>7</th>\n",
              "      <td>131.262211</td>\n",
              "      <td>60.984576</td>\n",
              "      <td>70.277635</td>\n",
              "    </tr>\n",
              "    <tr>\n",
              "      <th>8</th>\n",
              "      <td>182.578406</td>\n",
              "      <td>75.850900</td>\n",
              "      <td>106.727506</td>\n",
              "    </tr>\n",
              "    <tr>\n",
              "      <th>9</th>\n",
              "      <td>121.755784</td>\n",
              "      <td>48.652956</td>\n",
              "      <td>73.102828</td>\n",
              "    </tr>\n",
              "    <tr>\n",
              "      <th>10</th>\n",
              "      <td>92.570694</td>\n",
              "      <td>40.447301</td>\n",
              "      <td>52.123393</td>\n",
              "    </tr>\n",
              "    <tr>\n",
              "      <th>11</th>\n",
              "      <td>98.804627</td>\n",
              "      <td>46.251928</td>\n",
              "      <td>52.552699</td>\n",
              "    </tr>\n",
              "    <tr>\n",
              "      <th>12</th>\n",
              "      <td>117.861183</td>\n",
              "      <td>54.182519</td>\n",
              "      <td>63.678663</td>\n",
              "    </tr>\n",
              "    <tr>\n",
              "      <th>13</th>\n",
              "      <td>130.971722</td>\n",
              "      <td>59.794344</td>\n",
              "      <td>71.177378</td>\n",
              "    </tr>\n",
              "    <tr>\n",
              "      <th>14</th>\n",
              "      <td>148.376289</td>\n",
              "      <td>66.592784</td>\n",
              "      <td>81.783505</td>\n",
              "    </tr>\n",
              "    <tr>\n",
              "      <th>15</th>\n",
              "      <td>178.020619</td>\n",
              "      <td>77.322165</td>\n",
              "      <td>100.698454</td>\n",
              "    </tr>\n",
              "    <tr>\n",
              "      <th>16</th>\n",
              "      <td>232.278351</td>\n",
              "      <td>87.234536</td>\n",
              "      <td>145.043814</td>\n",
              "    </tr>\n",
              "    <tr>\n",
              "      <th>17</th>\n",
              "      <td>295.994845</td>\n",
              "      <td>97.863402</td>\n",
              "      <td>198.131443</td>\n",
              "    </tr>\n",
              "    <tr>\n",
              "      <th>18</th>\n",
              "      <td>208.278351</td>\n",
              "      <td>76.646907</td>\n",
              "      <td>131.631443</td>\n",
              "    </tr>\n",
              "    <tr>\n",
              "      <th>19</th>\n",
              "      <td>119.407216</td>\n",
              "      <td>47.847938</td>\n",
              "      <td>71.559278</td>\n",
              "    </tr>\n",
              "    <tr>\n",
              "      <th>20</th>\n",
              "      <td>63.798969</td>\n",
              "      <td>25.914948</td>\n",
              "      <td>37.884021</td>\n",
              "    </tr>\n",
              "    <tr>\n",
              "      <th>21</th>\n",
              "      <td>35.569588</td>\n",
              "      <td>14.561856</td>\n",
              "      <td>21.007732</td>\n",
              "    </tr>\n",
              "    <tr>\n",
              "      <th>22</th>\n",
              "      <td>17.932990</td>\n",
              "      <td>7.090206</td>\n",
              "      <td>10.842784</td>\n",
              "    </tr>\n",
              "    <tr>\n",
              "      <th>23</th>\n",
              "      <td>10.304124</td>\n",
              "      <td>3.860825</td>\n",
              "      <td>6.443299</td>\n",
              "    </tr>\n",
              "  </tbody>\n",
              "</table>\n",
              "</div>"
            ],
            "text/plain": [
              "           Total       East        West\n",
              "Date                                   \n",
              "0       4.938303   1.917738    3.020566\n",
              "1       2.570694   1.051414    1.519280\n",
              "2       1.971649   0.796392    1.175258\n",
              "3       1.352185   0.578406    0.773779\n",
              "4       4.187661   2.300771    1.886889\n",
              "5      16.437018   7.812339    8.624679\n",
              "6      56.647815  26.508997   30.138817\n",
              "7     131.262211  60.984576   70.277635\n",
              "8     182.578406  75.850900  106.727506\n",
              "9     121.755784  48.652956   73.102828\n",
              "10     92.570694  40.447301   52.123393\n",
              "11     98.804627  46.251928   52.552699\n",
              "12    117.861183  54.182519   63.678663\n",
              "13    130.971722  59.794344   71.177378\n",
              "14    148.376289  66.592784   81.783505\n",
              "15    178.020619  77.322165  100.698454\n",
              "16    232.278351  87.234536  145.043814\n",
              "17    295.994845  97.863402  198.131443\n",
              "18    208.278351  76.646907  131.631443\n",
              "19    119.407216  47.847938   71.559278\n",
              "20     63.798969  25.914948   37.884021\n",
              "21     35.569588  14.561856   21.007732\n",
              "22     17.932990   7.090206   10.842784\n",
              "23     10.304124   3.860825    6.443299"
            ]
          },
          "metadata": {
            "tags": []
          },
          "execution_count": 8
        }
      ]
    },
    {
      "cell_type": "code",
      "metadata": {
        "id": "B_LldgoAYxcw",
        "outputId": "4085b922-49b0-4e27-e9e8-33c830e75318",
        "colab": {
          "base_uri": "https://localhost:8080/",
          "height": 824
        }
      },
      "source": [
        "by_covid_trend_2018 = by_covid_trend[ by_covid_trend.index.year == 2018]\n",
        "by_covid_trend_2018 = by_covid_trend_2018.groupby( by_covid_trend_2018.index.hour).mean()\n",
        "#by_covid_trend_2018_2020.rename_axis(['Anio', 'Hora'], inplace=True)\n",
        "by_covid_trend_2018"
      ],
      "execution_count": 9,
      "outputs": [
        {
          "output_type": "execute_result",
          "data": {
            "text/html": [
              "<div>\n",
              "<style scoped>\n",
              "    .dataframe tbody tr th:only-of-type {\n",
              "        vertical-align: middle;\n",
              "    }\n",
              "\n",
              "    .dataframe tbody tr th {\n",
              "        vertical-align: top;\n",
              "    }\n",
              "\n",
              "    .dataframe thead th {\n",
              "        text-align: right;\n",
              "    }\n",
              "</style>\n",
              "<table border=\"1\" class=\"dataframe\">\n",
              "  <thead>\n",
              "    <tr style=\"text-align: right;\">\n",
              "      <th></th>\n",
              "      <th>Total</th>\n",
              "      <th>East</th>\n",
              "      <th>West</th>\n",
              "    </tr>\n",
              "    <tr>\n",
              "      <th>Date</th>\n",
              "      <th></th>\n",
              "      <th></th>\n",
              "      <th></th>\n",
              "    </tr>\n",
              "  </thead>\n",
              "  <tbody>\n",
              "    <tr>\n",
              "      <th>0</th>\n",
              "      <td>9.945205</td>\n",
              "      <td>3.884932</td>\n",
              "      <td>6.060274</td>\n",
              "    </tr>\n",
              "    <tr>\n",
              "      <th>1</th>\n",
              "      <td>5.136986</td>\n",
              "      <td>2.230137</td>\n",
              "      <td>2.906849</td>\n",
              "    </tr>\n",
              "    <tr>\n",
              "      <th>2</th>\n",
              "      <td>3.239011</td>\n",
              "      <td>1.370879</td>\n",
              "      <td>1.868132</td>\n",
              "    </tr>\n",
              "    <tr>\n",
              "      <th>3</th>\n",
              "      <td>3.304110</td>\n",
              "      <td>1.613699</td>\n",
              "      <td>1.690411</td>\n",
              "    </tr>\n",
              "    <tr>\n",
              "      <th>4</th>\n",
              "      <td>8.726027</td>\n",
              "      <td>3.961644</td>\n",
              "      <td>4.764384</td>\n",
              "    </tr>\n",
              "    <tr>\n",
              "      <th>5</th>\n",
              "      <td>29.041096</td>\n",
              "      <td>15.915068</td>\n",
              "      <td>13.126027</td>\n",
              "    </tr>\n",
              "    <tr>\n",
              "      <th>6</th>\n",
              "      <td>97.989041</td>\n",
              "      <td>50.843836</td>\n",
              "      <td>47.145205</td>\n",
              "    </tr>\n",
              "    <tr>\n",
              "      <th>7</th>\n",
              "      <td>250.315068</td>\n",
              "      <td>128.224658</td>\n",
              "      <td>122.090411</td>\n",
              "    </tr>\n",
              "    <tr>\n",
              "      <th>8</th>\n",
              "      <td>361.849315</td>\n",
              "      <td>181.200000</td>\n",
              "      <td>180.649315</td>\n",
              "    </tr>\n",
              "    <tr>\n",
              "      <th>9</th>\n",
              "      <td>202.145205</td>\n",
              "      <td>93.583562</td>\n",
              "      <td>108.561644</td>\n",
              "    </tr>\n",
              "    <tr>\n",
              "      <th>10</th>\n",
              "      <td>102.608219</td>\n",
              "      <td>47.876712</td>\n",
              "      <td>54.731507</td>\n",
              "    </tr>\n",
              "    <tr>\n",
              "      <th>11</th>\n",
              "      <td>92.336986</td>\n",
              "      <td>44.136986</td>\n",
              "      <td>48.200000</td>\n",
              "    </tr>\n",
              "    <tr>\n",
              "      <th>12</th>\n",
              "      <td>94.504110</td>\n",
              "      <td>45.216438</td>\n",
              "      <td>49.287671</td>\n",
              "    </tr>\n",
              "    <tr>\n",
              "      <th>13</th>\n",
              "      <td>102.487671</td>\n",
              "      <td>48.304110</td>\n",
              "      <td>54.183562</td>\n",
              "    </tr>\n",
              "    <tr>\n",
              "      <th>14</th>\n",
              "      <td>110.926027</td>\n",
              "      <td>49.742466</td>\n",
              "      <td>61.183562</td>\n",
              "    </tr>\n",
              "    <tr>\n",
              "      <th>15</th>\n",
              "      <td>144.479452</td>\n",
              "      <td>58.882192</td>\n",
              "      <td>85.597260</td>\n",
              "    </tr>\n",
              "    <tr>\n",
              "      <th>16</th>\n",
              "      <td>256.665753</td>\n",
              "      <td>78.939726</td>\n",
              "      <td>177.726027</td>\n",
              "    </tr>\n",
              "    <tr>\n",
              "      <th>17</th>\n",
              "      <td>425.104110</td>\n",
              "      <td>108.684932</td>\n",
              "      <td>316.419178</td>\n",
              "    </tr>\n",
              "    <tr>\n",
              "      <th>18</th>\n",
              "      <td>272.331507</td>\n",
              "      <td>85.241096</td>\n",
              "      <td>187.090411</td>\n",
              "    </tr>\n",
              "    <tr>\n",
              "      <th>19</th>\n",
              "      <td>132.054795</td>\n",
              "      <td>46.438356</td>\n",
              "      <td>85.616438</td>\n",
              "    </tr>\n",
              "    <tr>\n",
              "      <th>20</th>\n",
              "      <td>77.364384</td>\n",
              "      <td>29.430137</td>\n",
              "      <td>47.934247</td>\n",
              "    </tr>\n",
              "    <tr>\n",
              "      <th>21</th>\n",
              "      <td>49.068493</td>\n",
              "      <td>20.693151</td>\n",
              "      <td>28.375342</td>\n",
              "    </tr>\n",
              "    <tr>\n",
              "      <th>22</th>\n",
              "      <td>30.663014</td>\n",
              "      <td>12.405479</td>\n",
              "      <td>18.257534</td>\n",
              "    </tr>\n",
              "    <tr>\n",
              "      <th>23</th>\n",
              "      <td>19.586301</td>\n",
              "      <td>7.361644</td>\n",
              "      <td>12.224658</td>\n",
              "    </tr>\n",
              "  </tbody>\n",
              "</table>\n",
              "</div>"
            ],
            "text/plain": [
              "           Total        East        West\n",
              "Date                                    \n",
              "0       9.945205    3.884932    6.060274\n",
              "1       5.136986    2.230137    2.906849\n",
              "2       3.239011    1.370879    1.868132\n",
              "3       3.304110    1.613699    1.690411\n",
              "4       8.726027    3.961644    4.764384\n",
              "5      29.041096   15.915068   13.126027\n",
              "6      97.989041   50.843836   47.145205\n",
              "7     250.315068  128.224658  122.090411\n",
              "8     361.849315  181.200000  180.649315\n",
              "9     202.145205   93.583562  108.561644\n",
              "10    102.608219   47.876712   54.731507\n",
              "11     92.336986   44.136986   48.200000\n",
              "12     94.504110   45.216438   49.287671\n",
              "13    102.487671   48.304110   54.183562\n",
              "14    110.926027   49.742466   61.183562\n",
              "15    144.479452   58.882192   85.597260\n",
              "16    256.665753   78.939726  177.726027\n",
              "17    425.104110  108.684932  316.419178\n",
              "18    272.331507   85.241096  187.090411\n",
              "19    132.054795   46.438356   85.616438\n",
              "20     77.364384   29.430137   47.934247\n",
              "21     49.068493   20.693151   28.375342\n",
              "22     30.663014   12.405479   18.257534\n",
              "23     19.586301    7.361644   12.224658"
            ]
          },
          "metadata": {
            "tags": []
          },
          "execution_count": 9
        }
      ]
    },
    {
      "cell_type": "markdown",
      "metadata": {
        "id": "RTOjvPNVf0Jk"
      },
      "source": [
        "**We show that the trend decreased in the number of riders**"
      ]
    },
    {
      "cell_type": "code",
      "metadata": {
        "id": "bpjDQrDzZgma",
        "outputId": "8a04c915-3810-4a17-c95e-78897f6bd8c3",
        "colab": {
          "base_uri": "https://localhost:8080/",
          "height": 351
        }
      },
      "source": [
        "by_covid_trend_2018.plot(figsize=(20, 5))"
      ],
      "execution_count": 10,
      "outputs": [
        {
          "output_type": "execute_result",
          "data": {
            "text/plain": [
              "<matplotlib.axes._subplots.AxesSubplot at 0x7f254378ee48>"
            ]
          },
          "metadata": {
            "tags": []
          },
          "execution_count": 10
        },
        {
          "output_type": "display_data",
          "data": {
            "image/png": "[encoded data removed]",
            "text/plain": [
              "<Figure size 1440x360 with 1 Axes>"
            ]
          },
          "metadata": {
            "tags": [],
            "needs_background": "light"
          }
        }
      ]
    },
    {
      "cell_type": "code",
      "metadata": {
        "id": "s7XXBC8CZcqU",
        "outputId": "a9a0ad5d-5d2f-488f-8b1d-79a1df73934f",
        "colab": {
          "base_uri": "https://localhost:8080/",
          "height": 351
        }
      },
      "source": [
        "by_covid_trend_2020.plot(figsize=(20, 5))"
      ],
      "execution_count": 11,
      "outputs": [
        {
          "output_type": "execute_result",
          "data": {
            "text/plain": [
              "<matplotlib.axes._subplots.AxesSubplot at 0x7f254378e1d0>"
            ]
          },
          "metadata": {
            "tags": []
          },
          "execution_count": 11
        },
        {
          "output_type": "display_data",
          "data": {
            "image/png": "[encoded data removed]",
            "text/plain": [
              "<Figure size 1440x360 with 1 Axes>"
            ]
          },
          "metadata": {
            "tags": [],
            "needs_background": "light"
          }
        }
      ]
    },
    {
      "cell_type": "code",
      "metadata": {
        "id": "rp-ScVKmgDLD",
        "outputId": "7c2f6b75-a824-4c80-d595-b9e7b86097eb",
        "colab": {
          "base_uri": "https://localhost:8080/",
          "height": 824
        }
      },
      "source": [
        "by_covid_trend_2 = by_covid_trend_2018.join(by_covid_trend_2020, lsuffix='_2018', rsuffix='_2020')  \n"
      ],
      "execution_count": 17,
      "outputs": [
        {
          "output_type": "execute_result",
          "data": {
            "text/html": [
              "<div>\n",
              "<style scoped>\n",
              "    .dataframe tbody tr th:only-of-type {\n",
              "        vertical-align: middle;\n",
              "    }\n",
              "\n",
              "    .dataframe tbody tr th {\n",
              "        vertical-align: top;\n",
              "    }\n",
              "\n",
              "    .dataframe thead th {\n",
              "        text-align: right;\n",
              "    }\n",
              "</style>\n",
              "<table border=\"1\" class=\"dataframe\">\n",
              "  <thead>\n",
              "    <tr style=\"text-align: right;\">\n",
              "      <th></th>\n",
              "      <th>Total_2018</th>\n",
              "      <th>East_2018</th>\n",
              "      <th>West_2018</th>\n",
              "      <th>Total_2020</th>\n",
              "      <th>East_2020</th>\n",
              "      <th>West_2020</th>\n",
              "    </tr>\n",
              "    <tr>\n",
              "      <th>Date</th>\n",
              "      <th></th>\n",
              "      <th></th>\n",
              "      <th></th>\n",
              "      <th></th>\n",
              "      <th></th>\n",
              "      <th></th>\n",
              "    </tr>\n",
              "  </thead>\n",
              "  <tbody>\n",
              "    <tr>\n",
              "      <th>0</th>\n",
              "      <td>9.945205</td>\n",
              "      <td>3.884932</td>\n",
              "      <td>6.060274</td>\n",
              "      <td>4.938303</td>\n",
              "      <td>1.917738</td>\n",
              "      <td>3.020566</td>\n",
              "    </tr>\n",
              "    <tr>\n",
              "      <th>1</th>\n",
              "      <td>5.136986</td>\n",
              "      <td>2.230137</td>\n",
              "      <td>2.906849</td>\n",
              "      <td>2.570694</td>\n",
              "      <td>1.051414</td>\n",
              "      <td>1.519280</td>\n",
              "    </tr>\n",
              "    <tr>\n",
              "      <th>2</th>\n",
              "      <td>3.239011</td>\n",
              "      <td>1.370879</td>\n",
              "      <td>1.868132</td>\n",
              "      <td>1.971649</td>\n",
              "      <td>0.796392</td>\n",
              "      <td>1.175258</td>\n",
              "    </tr>\n",
              "    <tr>\n",
              "      <th>3</th>\n",
              "      <td>3.304110</td>\n",
              "      <td>1.613699</td>\n",
              "      <td>1.690411</td>\n",
              "      <td>1.352185</td>\n",
              "      <td>0.578406</td>\n",
              "      <td>0.773779</td>\n",
              "    </tr>\n",
              "    <tr>\n",
              "      <th>4</th>\n",
              "      <td>8.726027</td>\n",
              "      <td>3.961644</td>\n",
              "      <td>4.764384</td>\n",
              "      <td>4.187661</td>\n",
              "      <td>2.300771</td>\n",
              "      <td>1.886889</td>\n",
              "    </tr>\n",
              "    <tr>\n",
              "      <th>5</th>\n",
              "      <td>29.041096</td>\n",
              "      <td>15.915068</td>\n",
              "      <td>13.126027</td>\n",
              "      <td>16.437018</td>\n",
              "      <td>7.812339</td>\n",
              "      <td>8.624679</td>\n",
              "    </tr>\n",
              "    <tr>\n",
              "      <th>6</th>\n",
              "      <td>97.989041</td>\n",
              "      <td>50.843836</td>\n",
              "      <td>47.145205</td>\n",
              "      <td>56.647815</td>\n",
              "      <td>26.508997</td>\n",
              "      <td>30.138817</td>\n",
              "    </tr>\n",
              "    <tr>\n",
              "      <th>7</th>\n",
              "      <td>250.315068</td>\n",
              "      <td>128.224658</td>\n",
              "      <td>122.090411</td>\n",
              "      <td>131.262211</td>\n",
              "      <td>60.984576</td>\n",
              "      <td>70.277635</td>\n",
              "    </tr>\n",
              "    <tr>\n",
              "      <th>8</th>\n",
              "      <td>361.849315</td>\n",
              "      <td>181.200000</td>\n",
              "      <td>180.649315</td>\n",
              "      <td>182.578406</td>\n",
              "      <td>75.850900</td>\n",
              "      <td>106.727506</td>\n",
              "    </tr>\n",
              "    <tr>\n",
              "      <th>9</th>\n",
              "      <td>202.145205</td>\n",
              "      <td>93.583562</td>\n",
              "      <td>108.561644</td>\n",
              "      <td>121.755784</td>\n",
              "      <td>48.652956</td>\n",
              "      <td>73.102828</td>\n",
              "    </tr>\n",
              "    <tr>\n",
              "      <th>10</th>\n",
              "      <td>102.608219</td>\n",
              "      <td>47.876712</td>\n",
              "      <td>54.731507</td>\n",
              "      <td>92.570694</td>\n",
              "      <td>40.447301</td>\n",
              "      <td>52.123393</td>\n",
              "    </tr>\n",
              "    <tr>\n",
              "      <th>11</th>\n",
              "      <td>92.336986</td>\n",
              "      <td>44.136986</td>\n",
              "      <td>48.200000</td>\n",
              "      <td>98.804627</td>\n",
              "      <td>46.251928</td>\n",
              "      <td>52.552699</td>\n",
              "    </tr>\n",
              "    <tr>\n",
              "      <th>12</th>\n",
              "      <td>94.504110</td>\n",
              "      <td>45.216438</td>\n",
              "      <td>49.287671</td>\n",
              "      <td>117.861183</td>\n",
              "      <td>54.182519</td>\n",
              "      <td>63.678663</td>\n",
              "    </tr>\n",
              "    <tr>\n",
              "      <th>13</th>\n",
              "      <td>102.487671</td>\n",
              "      <td>48.304110</td>\n",
              "      <td>54.183562</td>\n",
              "      <td>130.971722</td>\n",
              "      <td>59.794344</td>\n",
              "      <td>71.177378</td>\n",
              "    </tr>\n",
              "    <tr>\n",
              "      <th>14</th>\n",
              "      <td>110.926027</td>\n",
              "      <td>49.742466</td>\n",
              "      <td>61.183562</td>\n",
              "      <td>148.376289</td>\n",
              "      <td>66.592784</td>\n",
              "      <td>81.783505</td>\n",
              "    </tr>\n",
              "    <tr>\n",
              "      <th>15</th>\n",
              "      <td>144.479452</td>\n",
              "      <td>58.882192</td>\n",
              "      <td>85.597260</td>\n",
              "      <td>178.020619</td>\n",
              "      <td>77.322165</td>\n",
              "      <td>100.698454</td>\n",
              "    </tr>\n",
              "    <tr>\n",
              "      <th>16</th>\n",
              "      <td>256.665753</td>\n",
              "      <td>78.939726</td>\n",
              "      <td>177.726027</td>\n",
              "      <td>232.278351</td>\n",
              "      <td>87.234536</td>\n",
              "      <td>145.043814</td>\n",
              "    </tr>\n",
              "    <tr>\n",
              "      <th>17</th>\n",
              "      <td>425.104110</td>\n",
              "      <td>108.684932</td>\n",
              "      <td>316.419178</td>\n",
              "      <td>295.994845</td>\n",
              "      <td>97.863402</td>\n",
              "      <td>198.131443</td>\n",
              "    </tr>\n",
              "    <tr>\n",
              "      <th>18</th>\n",
              "      <td>272.331507</td>\n",
              "      <td>85.241096</td>\n",
              "      <td>187.090411</td>\n",
              "      <td>208.278351</td>\n",
              "      <td>76.646907</td>\n",
              "      <td>131.631443</td>\n",
              "    </tr>\n",
              "    <tr>\n",
              "      <th>19</th>\n",
              "      <td>132.054795</td>\n",
              "      <td>46.438356</td>\n",
              "      <td>85.616438</td>\n",
              "      <td>119.407216</td>\n",
              "      <td>47.847938</td>\n",
              "      <td>71.559278</td>\n",
              "    </tr>\n",
              "    <tr>\n",
              "      <th>20</th>\n",
              "      <td>77.364384</td>\n",
              "      <td>29.430137</td>\n",
              "      <td>47.934247</td>\n",
              "      <td>63.798969</td>\n",
              "      <td>25.914948</td>\n",
              "      <td>37.884021</td>\n",
              "    </tr>\n",
              "    <tr>\n",
              "      <th>21</th>\n",
              "      <td>49.068493</td>\n",
              "      <td>20.693151</td>\n",
              "      <td>28.375342</td>\n",
              "      <td>35.569588</td>\n",
              "      <td>14.561856</td>\n",
              "      <td>21.007732</td>\n",
              "    </tr>\n",
              "    <tr>\n",
              "      <th>22</th>\n",
              "      <td>30.663014</td>\n",
              "      <td>12.405479</td>\n",
              "      <td>18.257534</td>\n",
              "      <td>17.932990</td>\n",
              "      <td>7.090206</td>\n",
              "      <td>10.842784</td>\n",
              "    </tr>\n",
              "    <tr>\n",
              "      <th>23</th>\n",
              "      <td>19.586301</td>\n",
              "      <td>7.361644</td>\n",
              "      <td>12.224658</td>\n",
              "      <td>10.304124</td>\n",
              "      <td>3.860825</td>\n",
              "      <td>6.443299</td>\n",
              "    </tr>\n",
              "  </tbody>\n",
              "</table>\n",
              "</div>"
            ],
            "text/plain": [
              "      Total_2018   East_2018   West_2018  Total_2020  East_2020   West_2020\n",
              "Date                                                                       \n",
              "0       9.945205    3.884932    6.060274    4.938303   1.917738    3.020566\n",
              "1       5.136986    2.230137    2.906849    2.570694   1.051414    1.519280\n",
              "2       3.239011    1.370879    1.868132    1.971649   0.796392    1.175258\n",
              "3       3.304110    1.613699    1.690411    1.352185   0.578406    0.773779\n",
              "4       8.726027    3.961644    4.764384    4.187661   2.300771    1.886889\n",
              "5      29.041096   15.915068   13.126027   16.437018   7.812339    8.624679\n",
              "6      97.989041   50.843836   47.145205   56.647815  26.508997   30.138817\n",
              "7     250.315068  128.224658  122.090411  131.262211  60.984576   70.277635\n",
              "8     361.849315  181.200000  180.649315  182.578406  75.850900  106.727506\n",
              "9     202.145205   93.583562  108.561644  121.755784  48.652956   73.102828\n",
              "10    102.608219   47.876712   54.731507   92.570694  40.447301   52.123393\n",
              "11     92.336986   44.136986   48.200000   98.804627  46.251928   52.552699\n",
              "12     94.504110   45.216438   49.287671  117.861183  54.182519   63.678663\n",
              "13    102.487671   48.304110   54.183562  130.971722  59.794344   71.177378\n",
              "14    110.926027   49.742466   61.183562  148.376289  66.592784   81.783505\n",
              "15    144.479452   58.882192   85.597260  178.020619  77.322165  100.698454\n",
              "16    256.665753   78.939726  177.726027  232.278351  87.234536  145.043814\n",
              "17    425.104110  108.684932  316.419178  295.994845  97.863402  198.131443\n",
              "18    272.331507   85.241096  187.090411  208.278351  76.646907  131.631443\n",
              "19    132.054795   46.438356   85.616438  119.407216  47.847938   71.559278\n",
              "20     77.364384   29.430137   47.934247   63.798969  25.914948   37.884021\n",
              "21     49.068493   20.693151   28.375342   35.569588  14.561856   21.007732\n",
              "22     30.663014   12.405479   18.257534   17.932990   7.090206   10.842784\n",
              "23     19.586301    7.361644   12.224658   10.304124   3.860825    6.443299"
            ]
          },
          "metadata": {
            "tags": []
          },
          "execution_count": 17
        }
      ]
    },
    {
      "cell_type": "markdown",
      "metadata": {
        "id": "kRIP0xZeYrvn"
      },
      "source": [
        "# Exercise 4: let's get rich!\n",
        "\n",
        "Given this apple stock history [this dataset](https://raw.githubusercontent.com/vfp1/bts-dsf-2020/main/data/appl_1980_2014.csv)\n",
        "\n",
        "* Open the dataset using Pandas\n",
        "* Display the DataFrame\n",
        "* Reply to the following questions (either by plotting the graph and summarizing the values):\n",
        "\n",
        "    * How much money will you have now if you bought 10 stocks for Apple at the end of January 2000 and you sold it at the end of 2013\n",
        "    * When was the peak maximum of volume of trades done?\n",
        "    * When was the month with the lowest close?\n",
        "    * And the lowest close of the day in the whole dataset?"
      ]
    },
    {
      "cell_type": "code",
      "metadata": {
        "id": "65rMRYtehwRX"
      },
      "source": [
        "data = pd.read_csv('https://raw.githubusercontent.com/vfp1/bts-dsf-2020/main/data/appl_1980_2014.csv')"
      ],
      "execution_count": 151,
      "outputs": []
    },
    {
      "cell_type": "code",
      "metadata": {
        "id": "JNayR3WT9JMr",
        "outputId": "02ee311f-4182-4ca2-f85f-de3b867f6046",
        "colab": {
          "base_uri": "https://localhost:8080/",
          "height": 204
        }
      },
      "source": [
        "data.head()"
      ],
      "execution_count": 152,
      "outputs": [
        {
          "output_type": "execute_result",
          "data": {
            "text/html": [
              "<div>\n",
              "<style scoped>\n",
              "    .dataframe tbody tr th:only-of-type {\n",
              "        vertical-align: middle;\n",
              "    }\n",
              "\n",
              "    .dataframe tbody tr th {\n",
              "        vertical-align: top;\n",
              "    }\n",
              "\n",
              "    .dataframe thead th {\n",
              "        text-align: right;\n",
              "    }\n",
              "</style>\n",
              "<table border=\"1\" class=\"dataframe\">\n",
              "  <thead>\n",
              "    <tr style=\"text-align: right;\">\n",
              "      <th></th>\n",
              "      <th>Date</th>\n",
              "      <th>Open</th>\n",
              "      <th>High</th>\n",
              "      <th>Low</th>\n",
              "      <th>Close</th>\n",
              "      <th>Volume</th>\n",
              "      <th>Adj Close</th>\n",
              "    </tr>\n",
              "  </thead>\n",
              "  <tbody>\n",
              "    <tr>\n",
              "      <th>0</th>\n",
              "      <td>2014-07-08</td>\n",
              "      <td>96.27</td>\n",
              "      <td>96.80</td>\n",
              "      <td>93.92</td>\n",
              "      <td>95.35</td>\n",
              "      <td>65130000</td>\n",
              "      <td>95.35</td>\n",
              "    </tr>\n",
              "    <tr>\n",
              "      <th>1</th>\n",
              "      <td>2014-07-07</td>\n",
              "      <td>94.14</td>\n",
              "      <td>95.99</td>\n",
              "      <td>94.10</td>\n",
              "      <td>95.97</td>\n",
              "      <td>56305400</td>\n",
              "      <td>95.97</td>\n",
              "    </tr>\n",
              "    <tr>\n",
              "      <th>2</th>\n",
              "      <td>2014-07-03</td>\n",
              "      <td>93.67</td>\n",
              "      <td>94.10</td>\n",
              "      <td>93.20</td>\n",
              "      <td>94.03</td>\n",
              "      <td>22891800</td>\n",
              "      <td>94.03</td>\n",
              "    </tr>\n",
              "    <tr>\n",
              "      <th>3</th>\n",
              "      <td>2014-07-02</td>\n",
              "      <td>93.87</td>\n",
              "      <td>94.06</td>\n",
              "      <td>93.09</td>\n",
              "      <td>93.48</td>\n",
              "      <td>28420900</td>\n",
              "      <td>93.48</td>\n",
              "    </tr>\n",
              "    <tr>\n",
              "      <th>4</th>\n",
              "      <td>2014-07-01</td>\n",
              "      <td>93.52</td>\n",
              "      <td>94.07</td>\n",
              "      <td>93.13</td>\n",
              "      <td>93.52</td>\n",
              "      <td>38170200</td>\n",
              "      <td>93.52</td>\n",
              "    </tr>\n",
              "  </tbody>\n",
              "</table>\n",
              "</div>"
            ],
            "text/plain": [
              "         Date   Open   High    Low  Close    Volume  Adj Close\n",
              "0  2014-07-08  96.27  96.80  93.92  95.35  65130000      95.35\n",
              "1  2014-07-07  94.14  95.99  94.10  95.97  56305400      95.97\n",
              "2  2014-07-03  93.67  94.10  93.20  94.03  22891800      94.03\n",
              "3  2014-07-02  93.87  94.06  93.09  93.48  28420900      93.48\n",
              "4  2014-07-01  93.52  94.07  93.13  93.52  38170200      93.52"
            ]
          },
          "metadata": {
            "tags": []
          },
          "execution_count": 152
        }
      ]
    },
    {
      "cell_type": "code",
      "metadata": {
        "id": "JX6AR6z-9IIO",
        "outputId": "8d87c9b7-70c5-4a66-eed8-6693eb23d085",
        "colab": {
          "base_uri": "https://localhost:8080/",
          "height": 80
        }
      },
      "source": [
        "#Checking my data for year 2000\n",
        "data[data.Date.eq('2000-01-31')]"
      ],
      "execution_count": 154,
      "outputs": [
        {
          "output_type": "execute_result",
          "data": {
            "text/html": [
              "<div>\n",
              "<style scoped>\n",
              "    .dataframe tbody tr th:only-of-type {\n",
              "        vertical-align: middle;\n",
              "    }\n",
              "\n",
              "    .dataframe tbody tr th {\n",
              "        vertical-align: top;\n",
              "    }\n",
              "\n",
              "    .dataframe thead th {\n",
              "        text-align: right;\n",
              "    }\n",
              "</style>\n",
              "<table border=\"1\" class=\"dataframe\">\n",
              "  <thead>\n",
              "    <tr style=\"text-align: right;\">\n",
              "      <th></th>\n",
              "      <th>Date</th>\n",
              "      <th>Open</th>\n",
              "      <th>High</th>\n",
              "      <th>Low</th>\n",
              "      <th>Close</th>\n",
              "      <th>Volume</th>\n",
              "      <th>Adj Close</th>\n",
              "    </tr>\n",
              "  </thead>\n",
              "  <tbody>\n",
              "    <tr>\n",
              "      <th>3630</th>\n",
              "      <td>2000-01-31</td>\n",
              "      <td>101.0</td>\n",
              "      <td>103.87</td>\n",
              "      <td>94.5</td>\n",
              "      <td>103.75</td>\n",
              "      <td>175420000</td>\n",
              "      <td>3.54</td>\n",
              "    </tr>\n",
              "  </tbody>\n",
              "</table>\n",
              "</div>"
            ],
            "text/plain": [
              "            Date   Open    High   Low   Close     Volume  Adj Close\n",
              "3630  2000-01-31  101.0  103.87  94.5  103.75  175420000       3.54"
            ]
          },
          "metadata": {
            "tags": []
          },
          "execution_count": 154
        }
      ]
    },
    {
      "cell_type": "code",
      "metadata": {
        "id": "7cOgL9qJ9rx-",
        "outputId": "2b7e1823-d79b-459d-822a-2af2f4085ada",
        "colab": {
          "base_uri": "https://localhost:8080/",
          "height": 80
        }
      },
      "source": [
        "#Checking my data for year 2013\n",
        "data[data.Date.eq('2013-12-31')]"
      ],
      "execution_count": 155,
      "outputs": [
        {
          "output_type": "execute_result",
          "data": {
            "text/html": [
              "<div>\n",
              "<style scoped>\n",
              "    .dataframe tbody tr th:only-of-type {\n",
              "        vertical-align: middle;\n",
              "    }\n",
              "\n",
              "    .dataframe tbody tr th {\n",
              "        vertical-align: top;\n",
              "    }\n",
              "\n",
              "    .dataframe thead th {\n",
              "        text-align: right;\n",
              "    }\n",
              "</style>\n",
              "<table border=\"1\" class=\"dataframe\">\n",
              "  <thead>\n",
              "    <tr style=\"text-align: right;\">\n",
              "      <th></th>\n",
              "      <th>Date</th>\n",
              "      <th>Open</th>\n",
              "      <th>High</th>\n",
              "      <th>Low</th>\n",
              "      <th>Close</th>\n",
              "      <th>Volume</th>\n",
              "      <th>Adj Close</th>\n",
              "    </tr>\n",
              "  </thead>\n",
              "  <tbody>\n",
              "    <tr>\n",
              "      <th>129</th>\n",
              "      <td>2013-12-31</td>\n",
              "      <td>554.17</td>\n",
              "      <td>561.28</td>\n",
              "      <td>554.0</td>\n",
              "      <td>561.02</td>\n",
              "      <td>55771100</td>\n",
              "      <td>79.23</td>\n",
              "    </tr>\n",
              "  </tbody>\n",
              "</table>\n",
              "</div>"
            ],
            "text/plain": [
              "           Date    Open    High    Low   Close    Volume  Adj Close\n",
              "129  2013-12-31  554.17  561.28  554.0  561.02  55771100      79.23"
            ]
          },
          "metadata": {
            "tags": []
          },
          "execution_count": 155
        }
      ]
    },
    {
      "cell_type": "markdown",
      "metadata": {
        "id": "kty88RQP_AmT"
      },
      "source": [
        "##How much money will you have now if you bought 10 stocks for Apple at the end of January 2000 and you sold it at the end of 2013"
      ]
    },
    {
      "cell_type": "code",
      "metadata": {
        "id": "OVQZpn1fjuHm"
      },
      "source": [
        "data2 = data.copy()"
      ],
      "execution_count": 157,
      "outputs": []
    },
    {
      "cell_type": "code",
      "metadata": {
        "id": "GY62cgiki8T4",
        "outputId": "34d53c0a-cb46-4707-d12f-539f70ea425e",
        "colab": {
          "base_uri": "https://localhost:8080/",
          "height": 80
        }
      },
      "source": [
        "##adj_close_2013 = (data[data.Date.eq('2013-12-31')]['Adj Close']) \n",
        "adj_close_2013 = data2[data2['Date'] == '2013-12-31']['Adj Close']\n",
        "adj_close_2013 = pd.DataFrame(adj_close_2013)\n",
        "adj_close_2013.reset_index(inplace=True)\n",
        "adj_close_2013.head()"
      ],
      "execution_count": 158,
      "outputs": [
        {
          "output_type": "execute_result",
          "data": {
            "text/html": [
              "<div>\n",
              "<style scoped>\n",
              "    .dataframe tbody tr th:only-of-type {\n",
              "        vertical-align: middle;\n",
              "    }\n",
              "\n",
              "    .dataframe tbody tr th {\n",
              "        vertical-align: top;\n",
              "    }\n",
              "\n",
              "    .dataframe thead th {\n",
              "        text-align: right;\n",
              "    }\n",
              "</style>\n",
              "<table border=\"1\" class=\"dataframe\">\n",
              "  <thead>\n",
              "    <tr style=\"text-align: right;\">\n",
              "      <th></th>\n",
              "      <th>index</th>\n",
              "      <th>Adj Close</th>\n",
              "    </tr>\n",
              "  </thead>\n",
              "  <tbody>\n",
              "    <tr>\n",
              "      <th>0</th>\n",
              "      <td>129</td>\n",
              "      <td>79.23</td>\n",
              "    </tr>\n",
              "  </tbody>\n",
              "</table>\n",
              "</div>"
            ],
            "text/plain": [
              "   index  Adj Close\n",
              "0    129      79.23"
            ]
          },
          "metadata": {
            "tags": []
          },
          "execution_count": 158
        }
      ]
    },
    {
      "cell_type": "code",
      "metadata": {
        "id": "TxMxwYxOtVVj",
        "outputId": "9501e7c3-9fcb-412f-8bb2-602ea52a6611",
        "colab": {
          "base_uri": "https://localhost:8080/",
          "height": 80
        }
      },
      "source": [
        "adj_close_2000 = (data2[data2.Date.eq('2000-01-31')]['Adj Close'])\n",
        "adj_close_2000 = pd.DataFrame(adj_close_2000)\n",
        "adj_close_2000.reset_index(inplace=True)\n",
        "adj_close_2000.head()"
      ],
      "execution_count": 159,
      "outputs": [
        {
          "output_type": "execute_result",
          "data": {
            "text/html": [
              "<div>\n",
              "<style scoped>\n",
              "    .dataframe tbody tr th:only-of-type {\n",
              "        vertical-align: middle;\n",
              "    }\n",
              "\n",
              "    .dataframe tbody tr th {\n",
              "        vertical-align: top;\n",
              "    }\n",
              "\n",
              "    .dataframe thead th {\n",
              "        text-align: right;\n",
              "    }\n",
              "</style>\n",
              "<table border=\"1\" class=\"dataframe\">\n",
              "  <thead>\n",
              "    <tr style=\"text-align: right;\">\n",
              "      <th></th>\n",
              "      <th>index</th>\n",
              "      <th>Adj Close</th>\n",
              "    </tr>\n",
              "  </thead>\n",
              "  <tbody>\n",
              "    <tr>\n",
              "      <th>0</th>\n",
              "      <td>3630</td>\n",
              "      <td>3.54</td>\n",
              "    </tr>\n",
              "  </tbody>\n",
              "</table>\n",
              "</div>"
            ],
            "text/plain": [
              "   index  Adj Close\n",
              "0   3630       3.54"
            ]
          },
          "metadata": {
            "tags": []
          },
          "execution_count": 159
        }
      ]
    },
    {
      "cell_type": "markdown",
      "metadata": {
        "id": "IhV3SyxQb6m6"
      },
      "source": [
        "**We would have won 756.9 if we had bought 10 stock for apple.**"
      ]
    },
    {
      "cell_type": "code",
      "metadata": {
        "id": "8A23gg-svwV5",
        "outputId": "be060f9c-d470-4ca5-ae6b-5942343dc487",
        "colab": {
          "base_uri": "https://localhost:8080/",
          "height": 80
        }
      },
      "source": [
        "Tot_benefit = adj_close_2013.subtract(adj_close_2000) \n",
        "Tot_benefit.drop('index', axis=1, inplace=True)\n",
        "Tot_benefit*10"
      ],
      "execution_count": 160,
      "outputs": [
        {
          "output_type": "execute_result",
          "data": {
            "text/html": [
              "<div>\n",
              "<style scoped>\n",
              "    .dataframe tbody tr th:only-of-type {\n",
              "        vertical-align: middle;\n",
              "    }\n",
              "\n",
              "    .dataframe tbody tr th {\n",
              "        vertical-align: top;\n",
              "    }\n",
              "\n",
              "    .dataframe thead th {\n",
              "        text-align: right;\n",
              "    }\n",
              "</style>\n",
              "<table border=\"1\" class=\"dataframe\">\n",
              "  <thead>\n",
              "    <tr style=\"text-align: right;\">\n",
              "      <th></th>\n",
              "      <th>Adj Close</th>\n",
              "    </tr>\n",
              "  </thead>\n",
              "  <tbody>\n",
              "    <tr>\n",
              "      <th>0</th>\n",
              "      <td>756.9</td>\n",
              "    </tr>\n",
              "  </tbody>\n",
              "</table>\n",
              "</div>"
            ],
            "text/plain": [
              "   Adj Close\n",
              "0      756.9"
            ]
          },
          "metadata": {
            "tags": []
          },
          "execution_count": 160
        }
      ]
    },
    {
      "cell_type": "markdown",
      "metadata": {
        "id": "bCTlFLsd_Dc7"
      },
      "source": [
        "##When was the peak maximum of volume of trades done?"
      ]
    },
    {
      "cell_type": "code",
      "metadata": {
        "id": "zjasXJmK-OPB",
        "outputId": "ea1749fd-4a4a-4dbf-b481-56a4ce2425b0",
        "colab": {
          "base_uri": "https://localhost:8080/"
        }
      },
      "source": [
        "max_Volume=data.Volume.max()\n",
        "max_Volume"
      ],
      "execution_count": 161,
      "outputs": [
        {
          "output_type": "execute_result",
          "data": {
            "text/plain": [
              "1855410200"
            ]
          },
          "metadata": {
            "tags": []
          },
          "execution_count": 161
        }
      ]
    },
    {
      "cell_type": "code",
      "metadata": {
        "id": "2BVniZb-_IdN",
        "outputId": "c97bdad8-8598-4ac1-9867-afe150a4c6ef",
        "colab": {
          "base_uri": "https://localhost:8080/",
          "height": 80
        }
      },
      "source": [
        "data[data.Volume.eq(max_Volume)]"
      ],
      "execution_count": 164,
      "outputs": [
        {
          "output_type": "execute_result",
          "data": {
            "text/html": [
              "<div>\n",
              "<style scoped>\n",
              "    .dataframe tbody tr th:only-of-type {\n",
              "        vertical-align: middle;\n",
              "    }\n",
              "\n",
              "    .dataframe tbody tr th {\n",
              "        vertical-align: top;\n",
              "    }\n",
              "\n",
              "    .dataframe thead th {\n",
              "        text-align: right;\n",
              "    }\n",
              "</style>\n",
              "<table border=\"1\" class=\"dataframe\">\n",
              "  <thead>\n",
              "    <tr style=\"text-align: right;\">\n",
              "      <th></th>\n",
              "      <th>Date</th>\n",
              "      <th>Open</th>\n",
              "      <th>High</th>\n",
              "      <th>Low</th>\n",
              "      <th>Close</th>\n",
              "      <th>Volume</th>\n",
              "      <th>Adj Close</th>\n",
              "    </tr>\n",
              "  </thead>\n",
              "  <tbody>\n",
              "    <tr>\n",
              "      <th>3461</th>\n",
              "      <td>2000-09-29</td>\n",
              "      <td>28.19</td>\n",
              "      <td>29.0</td>\n",
              "      <td>25.38</td>\n",
              "      <td>25.75</td>\n",
              "      <td>1855410200</td>\n",
              "      <td>1.76</td>\n",
              "    </tr>\n",
              "  </tbody>\n",
              "</table>\n",
              "</div>"
            ],
            "text/plain": [
              "            Date   Open  High    Low  Close      Volume  Adj Close\n",
              "3461  2000-09-29  28.19  29.0  25.38  25.75  1855410200       1.76"
            ]
          },
          "metadata": {
            "tags": []
          },
          "execution_count": 164
        }
      ]
    },
    {
      "cell_type": "code",
      "metadata": {
        "id": "QGrCUDx4d5zP",
        "outputId": "79923bde-137a-4093-f6e5-5b81504b6e71",
        "colab": {
          "base_uri": "https://localhost:8080/",
          "height": 307
        }
      },
      "source": [
        "data.plot(x='Date',y='Volume')"
      ],
      "execution_count": 168,
      "outputs": [
        {
          "output_type": "execute_result",
          "data": {
            "text/plain": [
              "<matplotlib.axes._subplots.AxesSubplot at 0x7f253a9ae0f0>"
            ]
          },
          "metadata": {
            "tags": []
          },
          "execution_count": 168
        },
        {
          "output_type": "display_data",
          "data": {
            "image/png": "[encoded data removed]",
            "text/plain": [
              "<Figure size 432x288 with 1 Axes>"
            ]
          },
          "metadata": {
            "tags": [],
            "needs_background": "light"
          }
        }
      ]
    },
    {
      "cell_type": "markdown",
      "metadata": {
        "id": "rHuyonl0_cTH"
      },
      "source": [
        "##When was the month with the lowest close?"
      ]
    },
    {
      "cell_type": "code",
      "metadata": {
        "id": "IRALK0zfly9V"
      },
      "source": [
        "data3 = data.copy()"
      ],
      "execution_count": 176,
      "outputs": []
    },
    {
      "cell_type": "code",
      "metadata": {
        "id": "OTBqg81c_VFe",
        "outputId": "8a882af0-61d2-4cb2-b3a6-558aef01c7c6",
        "colab": {
          "base_uri": "https://localhost:8080/",
          "height": 235
        }
      },
      "source": [
        "data3['Date'] = data3['Date'].astype('datetime64[ns]')\n",
        "data3 = data3.set_index('Date')\n",
        "data3.head()"
      ],
      "execution_count": 177,
      "outputs": [
        {
          "output_type": "execute_result",
          "data": {
            "text/html": [
              "<div>\n",
              "<style scoped>\n",
              "    .dataframe tbody tr th:only-of-type {\n",
              "        vertical-align: middle;\n",
              "    }\n",
              "\n",
              "    .dataframe tbody tr th {\n",
              "        vertical-align: top;\n",
              "    }\n",
              "\n",
              "    .dataframe thead th {\n",
              "        text-align: right;\n",
              "    }\n",
              "</style>\n",
              "<table border=\"1\" class=\"dataframe\">\n",
              "  <thead>\n",
              "    <tr style=\"text-align: right;\">\n",
              "      <th></th>\n",
              "      <th>Open</th>\n",
              "      <th>High</th>\n",
              "      <th>Low</th>\n",
              "      <th>Close</th>\n",
              "      <th>Volume</th>\n",
              "      <th>Adj Close</th>\n",
              "    </tr>\n",
              "    <tr>\n",
              "      <th>Date</th>\n",
              "      <th></th>\n",
              "      <th></th>\n",
              "      <th></th>\n",
              "      <th></th>\n",
              "      <th></th>\n",
              "      <th></th>\n",
              "    </tr>\n",
              "  </thead>\n",
              "  <tbody>\n",
              "    <tr>\n",
              "      <th>2014-07-08</th>\n",
              "      <td>96.27</td>\n",
              "      <td>96.80</td>\n",
              "      <td>93.92</td>\n",
              "      <td>95.35</td>\n",
              "      <td>65130000</td>\n",
              "      <td>95.35</td>\n",
              "    </tr>\n",
              "    <tr>\n",
              "      <th>2014-07-07</th>\n",
              "      <td>94.14</td>\n",
              "      <td>95.99</td>\n",
              "      <td>94.10</td>\n",
              "      <td>95.97</td>\n",
              "      <td>56305400</td>\n",
              "      <td>95.97</td>\n",
              "    </tr>\n",
              "    <tr>\n",
              "      <th>2014-07-03</th>\n",
              "      <td>93.67</td>\n",
              "      <td>94.10</td>\n",
              "      <td>93.20</td>\n",
              "      <td>94.03</td>\n",
              "      <td>22891800</td>\n",
              "      <td>94.03</td>\n",
              "    </tr>\n",
              "    <tr>\n",
              "      <th>2014-07-02</th>\n",
              "      <td>93.87</td>\n",
              "      <td>94.06</td>\n",
              "      <td>93.09</td>\n",
              "      <td>93.48</td>\n",
              "      <td>28420900</td>\n",
              "      <td>93.48</td>\n",
              "    </tr>\n",
              "    <tr>\n",
              "      <th>2014-07-01</th>\n",
              "      <td>93.52</td>\n",
              "      <td>94.07</td>\n",
              "      <td>93.13</td>\n",
              "      <td>93.52</td>\n",
              "      <td>38170200</td>\n",
              "      <td>93.52</td>\n",
              "    </tr>\n",
              "  </tbody>\n",
              "</table>\n",
              "</div>"
            ],
            "text/plain": [
              "             Open   High    Low  Close    Volume  Adj Close\n",
              "Date                                                       \n",
              "2014-07-08  96.27  96.80  93.92  95.35  65130000      95.35\n",
              "2014-07-07  94.14  95.99  94.10  95.97  56305400      95.97\n",
              "2014-07-03  93.67  94.10  93.20  94.03  22891800      94.03\n",
              "2014-07-02  93.87  94.06  93.09  93.48  28420900      93.48\n",
              "2014-07-01  93.52  94.07  93.13  93.52  38170200      93.52"
            ]
          },
          "metadata": {
            "tags": []
          },
          "execution_count": 177
        }
      ]
    },
    {
      "cell_type": "markdown",
      "metadata": {
        "id": "JgvUGSgMphH9"
      },
      "source": [
        "**July had the lowest close**"
      ]
    },
    {
      "cell_type": "code",
      "metadata": {
        "id": "FkGQuylo_iIu",
        "outputId": "7f65415f-46ac-4e55-e97b-67a0dfee5df2",
        "colab": {
          "base_uri": "https://localhost:8080/",
          "height": 296
        }
      },
      "source": [
        "Lowest_close_month = data3.groupby( data3.index.month).mean()\n",
        "Lowest_close_month.plot(y='Close')"
      ],
      "execution_count": 185,
      "outputs": [
        {
          "output_type": "execute_result",
          "data": {
            "text/plain": [
              "<matplotlib.axes._subplots.AxesSubplot at 0x7f253ac42438>"
            ]
          },
          "metadata": {
            "tags": []
          },
          "execution_count": 185
        },
        {
          "output_type": "display_data",
          "data": {
            "image/png": "[encoded data removed]",
            "text/plain": [
              "<Figure size 432x288 with 1 Axes>"
            ]
          },
          "metadata": {
            "tags": [],
            "needs_background": "light"
          }
        }
      ]
    },
    {
      "cell_type": "markdown",
      "metadata": {
        "id": "ADTrnqr4BI_I"
      },
      "source": [
        "##And the lowest close of the day in the whole dataset?"
      ]
    },
    {
      "cell_type": "code",
      "metadata": {
        "id": "OASbTyjuAfs7",
        "outputId": "aa428bf6-bfdc-4476-9a28-67ed2961d664",
        "colab": {
          "base_uri": "https://localhost:8080/"
        }
      },
      "source": [
        "min_Close=data.Close.min()\n",
        "min_Close"
      ],
      "execution_count": 166,
      "outputs": [
        {
          "output_type": "execute_result",
          "data": {
            "text/plain": [
              "11.0"
            ]
          },
          "metadata": {
            "tags": []
          },
          "execution_count": 166
        }
      ]
    },
    {
      "cell_type": "code",
      "metadata": {
        "id": "ljEB0zQZhfr8",
        "outputId": "84d54567-7b16-4379-b0b6-6fa320037529",
        "colab": {
          "base_uri": "https://localhost:8080/",
          "height": 80
        }
      },
      "source": [
        "data[data.Close.eq(min_Close)]"
      ],
      "execution_count": 167,
      "outputs": [
        {
          "output_type": "execute_result",
          "data": {
            "text/html": [
              "<div>\n",
              "<style scoped>\n",
              "    .dataframe tbody tr th:only-of-type {\n",
              "        vertical-align: middle;\n",
              "    }\n",
              "\n",
              "    .dataframe tbody tr th {\n",
              "        vertical-align: top;\n",
              "    }\n",
              "\n",
              "    .dataframe thead th {\n",
              "        text-align: right;\n",
              "    }\n",
              "</style>\n",
              "<table border=\"1\" class=\"dataframe\">\n",
              "  <thead>\n",
              "    <tr style=\"text-align: right;\">\n",
              "      <th></th>\n",
              "      <th>Date</th>\n",
              "      <th>Open</th>\n",
              "      <th>High</th>\n",
              "      <th>Low</th>\n",
              "      <th>Close</th>\n",
              "      <th>Volume</th>\n",
              "      <th>Adj Close</th>\n",
              "    </tr>\n",
              "  </thead>\n",
              "  <tbody>\n",
              "    <tr>\n",
              "      <th>8070</th>\n",
              "      <td>1982-07-08</td>\n",
              "      <td>11.12</td>\n",
              "      <td>11.12</td>\n",
              "      <td>11.0</td>\n",
              "      <td>11.0</td>\n",
              "      <td>41081600</td>\n",
              "      <td>0.17</td>\n",
              "    </tr>\n",
              "  </tbody>\n",
              "</table>\n",
              "</div>"
            ],
            "text/plain": [
              "            Date   Open   High   Low  Close    Volume  Adj Close\n",
              "8070  1982-07-08  11.12  11.12  11.0   11.0  41081600       0.17"
            ]
          },
          "metadata": {
            "tags": []
          },
          "execution_count": 167
        }
      ]
    },
    {
      "cell_type": "markdown",
      "metadata": {
        "id": "xJRff8TqrHTo"
      },
      "source": [
        "**The day 7 we had the lowest close**"
      ]
    },
    {
      "cell_type": "code",
      "metadata": {
        "id": "nBDgmow-qNwl",
        "outputId": "9317bbdb-c7b0-4e35-d084-129fcdbf3657",
        "colab": {
          "base_uri": "https://localhost:8080/",
          "height": 296
        }
      },
      "source": [
        "Lowest_close_day = data3.groupby( data3.index.day).min()\n",
        "Lowest_close_day.plot(y='Close')"
      ],
      "execution_count": 191,
      "outputs": [
        {
          "output_type": "execute_result",
          "data": {
            "text/plain": [
              "<matplotlib.axes._subplots.AxesSubplot at 0x7f253a5a3390>"
            ]
          },
          "metadata": {
            "tags": []
          },
          "execution_count": 191
        },
        {
          "output_type": "display_data",
          "data": {
            "image/png": "[encoded data removed]",
            "text/plain": [
              "<Figure size 432x288 with 1 Axes>"
            ]
          },
          "metadata": {
            "tags": [],
            "needs_background": "light"
          }
        }
      ]
    }
  ]
}